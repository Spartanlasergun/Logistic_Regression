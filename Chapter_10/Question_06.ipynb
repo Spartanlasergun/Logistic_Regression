{
 "cells": [
  {
   "cell_type": "markdown",
   "id": "21c7f003-8a4e-498a-a827-e902f863f0b8",
   "metadata": {},
   "source": [
    "# Question 6\n",
    "-----"
   ]
  },
  {
   "cell_type": "code",
   "execution_count": 1,
   "id": "ac23e8e9-6baa-4e58-92bf-d2b57e5b1a68",
   "metadata": {},
   "outputs": [
    {
     "name": "stdout",
     "output_type": "stream",
     "text": [
      "ROR = 0.4274149319487267\n"
     ]
    }
   ],
   "source": [
    "import math\n",
    "\n",
    "ROR = math.exp((-1.65) + (1.13 * 0) + (0.82 * 0) + (0.38 * 0) + (0.04 * 20) + (0.35 * 0) + (0.31 * 0 * 0))\n",
    "print(f\"ROR = {ROR}\")"
   ]
  }
 ],
 "metadata": {
  "kernelspec": {
   "display_name": "Python 3 (ipykernel)",
   "language": "python",
   "name": "python3"
  },
  "language_info": {
   "codemirror_mode": {
    "name": "ipython",
    "version": 3
   },
   "file_extension": ".py",
   "mimetype": "text/x-python",
   "name": "python",
   "nbconvert_exporter": "python",
   "pygments_lexer": "ipython3",
   "version": "3.12.3"
  }
 },
 "nbformat": 4,
 "nbformat_minor": 5
}
