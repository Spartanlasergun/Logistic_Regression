{
 "cells": [
  {
   "cell_type": "markdown",
   "id": "daf349f6-c4ef-41a5-93a7-c2cb2e6b5dc2",
   "metadata": {},
   "source": [
    "# Test Question 11\n",
    "-----"
   ]
  },
  {
   "cell_type": "markdown",
   "id": "8d96c751-541a-481f-9108-ae8fe9d2e7ef",
   "metadata": {},
   "source": [
    "$$OR = e^{\\beta_{3} + \\beta_{4}}$$"
   ]
  }
 ],
 "metadata": {
  "kernelspec": {
   "display_name": "Python 3 (ipykernel)",
   "language": "python",
   "name": "python3"
  },
  "language_info": {
   "codemirror_mode": {
    "name": "ipython",
    "version": 3
   },
   "file_extension": ".py",
   "mimetype": "text/x-python",
   "name": "python",
   "nbconvert_exporter": "python",
   "pygments_lexer": "ipython3",
   "version": "3.12.3"
  }
 },
 "nbformat": 4,
 "nbformat_minor": 5
}
