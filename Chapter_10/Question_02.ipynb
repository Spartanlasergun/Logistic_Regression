{
 "cells": [
  {
   "cell_type": "markdown",
   "id": "52af4d84-a99e-4942-8bd6-ab5fa155b2ff",
   "metadata": {},
   "source": [
    "# Question 2\n",
    "-----"
   ]
  },
  {
   "cell_type": "markdown",
   "id": "7babaf3e-ec1f-415d-b69d-cb575bb1e67d",
   "metadata": {},
   "source": [
    "Model 1:\n",
    "\n",
    "$$logit \\ \\ P(X) = (-2.98) + (1.13 * VIRUS) + (0.82 * AIDS) + (0.38 * COMP) + (0.04 * AGE) + (0.35 * GENDER) + (0.31 * AIDSCOMP)$$\n",
    "\n",
    "Model 2:\n",
    "\n",
    "$$logit \\ \\ P(X) = (-1.65) + (1.13 * VIRUS) + (0.82 * AIDS) + (0.38 * COMP) + (0.04 * AGE) + (0.35 * GENDER) + (0.31 * AIDSCOMP)$$"
   ]
  }
 ],
 "metadata": {
  "kernelspec": {
   "display_name": "Python 3 (ipykernel)",
   "language": "python",
   "name": "python3"
  },
  "language_info": {
   "codemirror_mode": {
    "name": "ipython",
    "version": 3
   },
   "file_extension": ".py",
   "mimetype": "text/x-python",
   "name": "python",
   "nbconvert_exporter": "python",
   "pygments_lexer": "ipython3",
   "version": "3.12.3"
  }
 },
 "nbformat": 4,
 "nbformat_minor": 5
}
