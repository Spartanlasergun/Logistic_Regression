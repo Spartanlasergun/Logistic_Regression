{
 "cells": [
  {
   "cell_type": "markdown",
   "id": "4c149574-e6fa-406e-9f26-549821082568",
   "metadata": {},
   "source": [
    "# Test Question 9\n",
    "-----"
   ]
  },
  {
   "cell_type": "markdown",
   "id": "845cd221-25f2-4b75-89ed-05419c382a6a",
   "metadata": {},
   "source": [
    "$$odds = \\alpha_{2} + 40\\beta_{g1} + \\beta_{g2} + \\beta_{g3}$$ "
   ]
  }
 ],
 "metadata": {
  "kernelspec": {
   "display_name": "Python 3 (ipykernel)",
   "language": "python",
   "name": "python3"
  },
  "language_info": {
   "codemirror_mode": {
    "name": "ipython",
    "version": 3
   },
   "file_extension": ".py",
   "mimetype": "text/x-python",
   "name": "python",
   "nbconvert_exporter": "python",
   "pygments_lexer": "ipython3",
   "version": "3.12.3"
  }
 },
 "nbformat": 4,
 "nbformat_minor": 5
}
