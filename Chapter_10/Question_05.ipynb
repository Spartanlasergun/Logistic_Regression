{
 "cells": [
  {
   "cell_type": "markdown",
   "id": "4370e3e5-f172-437e-a356-7b2a4a82c175",
   "metadata": {},
   "source": [
    "# Question 5\n",
    "-----"
   ]
  },
  {
   "cell_type": "code",
   "execution_count": 1,
   "id": "406b4cf6-336f-48fd-9906-2aab7d6eac03",
   "metadata": {},
   "outputs": [
    {
     "name": "stdout",
     "output_type": "stream",
     "text": [
      "ROR = 0.11304153064044989\n"
     ]
    }
   ],
   "source": [
    "import math\n",
    "\n",
    "ROR = math.exp((-2.98) + (1.13 * 0) + (0.82 * 0) + (0.38 * 0) + (0.04 * 20) + (0.35 * 0) + (0.31 * 0 * 0))\n",
    "print(f\"ROR = {ROR}\")"
   ]
  }
 ],
 "metadata": {
  "kernelspec": {
   "display_name": "Python 3 (ipykernel)",
   "language": "python",
   "name": "python3"
  },
  "language_info": {
   "codemirror_mode": {
    "name": "ipython",
    "version": 3
   },
   "file_extension": ".py",
   "mimetype": "text/x-python",
   "name": "python",
   "nbconvert_exporter": "python",
   "pygments_lexer": "ipython3",
   "version": "3.12.3"
  }
 },
 "nbformat": 4,
 "nbformat_minor": 5
}
