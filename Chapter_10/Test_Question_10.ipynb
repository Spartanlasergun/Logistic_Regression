{
 "cells": [
  {
   "cell_type": "markdown",
   "id": "f7b27dce-8be5-49ff-8cf1-b6be843367af",
   "metadata": {},
   "source": [
    "# Test Question 10\n",
    "-----"
   ]
  },
  {
   "cell_type": "markdown",
   "id": "bf90f1e3-ac2d-4992-ac84-bbf178d83408",
   "metadata": {},
   "source": [
    "$$OR = e^{\\beta_{3} + \\beta_{4}}$$"
   ]
  }
 ],
 "metadata": {
  "kernelspec": {
   "display_name": "Python 3 (ipykernel)",
   "language": "python",
   "name": "python3"
  },
  "language_info": {
   "codemirror_mode": {
    "name": "ipython",
    "version": 3
   },
   "file_extension": ".py",
   "mimetype": "text/x-python",
   "name": "python",
   "nbconvert_exporter": "python",
   "pygments_lexer": "ipython3",
   "version": "3.12.3"
  }
 },
 "nbformat": 4,
 "nbformat_minor": 5
}
