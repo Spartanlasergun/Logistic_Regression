{
 "cells": [
  {
   "cell_type": "markdown",
   "id": "bd80efc9-b9d4-4c4b-919b-c7d3e8e448ec",
   "metadata": {},
   "source": [
    "# Question 8\n",
    "-----"
   ]
  },
  {
   "cell_type": "code",
   "execution_count": 1,
   "id": "7cf76ed1-9471-44f5-aa66-23ad3d762129",
   "metadata": {},
   "outputs": [
    {
     "name": "stdout",
     "output_type": "stream",
     "text": [
      "OR AIDS 0 = 1.4622845894342245\n",
      "OR AIDS 1 = 1.9937155332430823\n"
     ]
    }
   ],
   "source": [
    "import math\n",
    "\n",
    "OR_AIDS1 = math.exp(0.38 + 0.31)\n",
    "OR_AIDS0 = math.exp(0.38)\n",
    "print(f\"OR AIDS 0 = {OR_AIDS0}\")\n",
    "print(f\"OR AIDS 1 = {OR_AIDS1}\")"
   ]
  }
 ],
 "metadata": {
  "kernelspec": {
   "display_name": "Python 3 (ipykernel)",
   "language": "python",
   "name": "python3"
  },
  "language_info": {
   "codemirror_mode": {
    "name": "ipython",
    "version": 3
   },
   "file_extension": ".py",
   "mimetype": "text/x-python",
   "name": "python",
   "nbconvert_exporter": "python",
   "pygments_lexer": "ipython3",
   "version": "3.12.3"
  }
 },
 "nbformat": 4,
 "nbformat_minor": 5
}
