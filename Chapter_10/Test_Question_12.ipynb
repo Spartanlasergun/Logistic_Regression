{
 "cells": [
  {
   "cell_type": "markdown",
   "id": "b4da2f4b-9bd0-4372-9664-6c7f7b8efee7",
   "metadata": {},
   "source": [
    "# Test Question 12\n",
    "-----"
   ]
  },
  {
   "cell_type": "markdown",
   "id": "2436d2c1-e706-4423-aac6-79e811f4adef",
   "metadata": {},
   "source": [
    "$$OR = e^{-(\\beta_{3} + \\beta_{4})}$$"
   ]
  }
 ],
 "metadata": {
  "kernelspec": {
   "display_name": "Python 3 (ipykernel)",
   "language": "python",
   "name": "python3"
  },
  "language_info": {
   "codemirror_mode": {
    "name": "ipython",
    "version": 3
   },
   "file_extension": ".py",
   "mimetype": "text/x-python",
   "name": "python",
   "nbconvert_exporter": "python",
   "pygments_lexer": "ipython3",
   "version": "3.12.3"
  }
 },
 "nbformat": 4,
 "nbformat_minor": 5
}
