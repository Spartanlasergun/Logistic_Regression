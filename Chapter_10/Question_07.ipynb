{
 "cells": [
  {
   "cell_type": "markdown",
   "id": "cdd3cc34-5386-49d9-96f4-1c74ff86e4c0",
   "metadata": {},
   "source": [
    "# Question 7\n",
    "-----"
   ]
  },
  {
   "cell_type": "code",
   "execution_count": 1,
   "id": "e463bb75-26c4-4ef8-b8cc-83213d717c4f",
   "metadata": {},
   "outputs": [
    {
     "name": "stdout",
     "output_type": "stream",
     "text": [
      "ROR = 0.6065306597126335\n"
     ]
    }
   ],
   "source": [
    "import math\n",
    "\n",
    "ROR = math.exp((-1.65) + (1.13 * 0) + (0.82 * 0) + (0.38 * 0) + (0.04 * 20) + (0.35 * 1) + (0.31 * 0 * 0))\n",
    "print(f\"ROR = {ROR}\")"
   ]
  }
 ],
 "metadata": {
  "kernelspec": {
   "display_name": "Python 3 (ipykernel)",
   "language": "python",
   "name": "python3"
  },
  "language_info": {
   "codemirror_mode": {
    "name": "ipython",
    "version": 3
   },
   "file_extension": ".py",
   "mimetype": "text/x-python",
   "name": "python",
   "nbconvert_exporter": "python",
   "pygments_lexer": "ipython3",
   "version": "3.12.3"
  }
 },
 "nbformat": 4,
 "nbformat_minor": 5
}
