{
 "cells": [
  {
   "cell_type": "markdown",
   "id": "585eb635-4230-4162-af67-140fedb4e764",
   "metadata": {},
   "source": [
    "# True or False\n",
    "-----"
   ]
  },
  {
   "cell_type": "markdown",
   "id": "875f3c1e-dcae-4726-804e-f08bd0d39faa",
   "metadata": {},
   "source": [
    "Question 1: True\n",
    "\n",
    "Question 2: True\n",
    "\n",
    "Question 3: False\n",
    "\n",
    "Question 4: True\n",
    "\n",
    "Question 5: False\n",
    "\n",
    "Question 6: True\n",
    "\n",
    "Question 7: False\n",
    "\n",
    "Question 8: True"
   ]
  }
 ],
 "metadata": {
  "kernelspec": {
   "display_name": "Python 3 (ipykernel)",
   "language": "python",
   "name": "python3"
  },
  "language_info": {
   "codemirror_mode": {
    "name": "ipython",
    "version": 3
   },
   "file_extension": ".py",
   "mimetype": "text/x-python",
   "name": "python",
   "nbconvert_exporter": "python",
   "pygments_lexer": "ipython3",
   "version": "3.12.3"
  }
 },
 "nbformat": 4,
 "nbformat_minor": 5
}
