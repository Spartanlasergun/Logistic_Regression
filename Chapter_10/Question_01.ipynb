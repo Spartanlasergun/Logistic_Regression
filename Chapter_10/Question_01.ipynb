{
 "cells": [
  {
   "cell_type": "markdown",
   "id": "a4f2d2b6-53ab-41da-8369-353c50527cfb",
   "metadata": {},
   "source": [
    "# Question 1\n",
    "-----"
   ]
  },
  {
   "cell_type": "markdown",
   "id": "d3ef20b9-d4eb-4490-ad78-0100dc94f7dc",
   "metadata": {},
   "source": [
    "$$ logit \\ \\ P(X) = \\alpha_{g} + \\displaystyle \\sum_{i = 1}^{j} \\beta_{i}X_{i} $$"
   ]
  }
 ],
 "metadata": {
  "kernelspec": {
   "display_name": "Python 3 (ipykernel)",
   "language": "python",
   "name": "python3"
  },
  "language_info": {
   "codemirror_mode": {
    "name": "ipython",
    "version": 3
   },
   "file_extension": ".py",
   "mimetype": "text/x-python",
   "name": "python",
   "nbconvert_exporter": "python",
   "pygments_lexer": "ipython3",
   "version": "3.12.3"
  }
 },
 "nbformat": 4,
 "nbformat_minor": 5
}
