{
 "cells": [
  {
   "cell_type": "markdown",
   "id": "611bba7c-1d3c-4e56-a78c-2a3e6f198af5",
   "metadata": {},
   "source": [
    "# Question 9\n",
    "-----"
   ]
  },
  {
   "cell_type": "markdown",
   "id": "822803d7-0077-41b0-81b4-75f5c5c90ffe",
   "metadata": {},
   "source": [
    "G = 2 x 2\n",
    "R = 5 x 5"
   ]
  }
 ],
 "metadata": {
  "kernelspec": {
   "display_name": "Python 3 (ipykernel)",
   "language": "python",
   "name": "python3"
  },
  "language_info": {
   "codemirror_mode": {
    "name": "ipython",
    "version": 3
   },
   "file_extension": ".py",
   "mimetype": "text/x-python",
   "name": "python",
   "nbconvert_exporter": "python",
   "pygments_lexer": "ipython3",
   "version": "3.12.3"
  }
 },
 "nbformat": 4,
 "nbformat_minor": 5
}
