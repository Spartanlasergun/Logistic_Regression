{
 "cells": [
  {
   "cell_type": "markdown",
   "id": "1427936e-3cae-465b-b5dc-6ad9ca753937",
   "metadata": {},
   "source": [
    "# Test Question 6\n",
    "-----"
   ]
  },
  {
   "cell_type": "markdown",
   "id": "4762aaa7-04a2-48d4-a8ad-e9da33be9113",
   "metadata": {},
   "source": [
    "$$ logit \\ \\ P(X) = (-0.6884) + (0.4707)(RX) + (0.9092)(SEQ) + (-0.2371)(RX * SEQ) + b_{0i} $$"
   ]
  }
 ],
 "metadata": {
  "kernelspec": {
   "display_name": "Python 3 (ipykernel)",
   "language": "python",
   "name": "python3"
  },
  "language_info": {
   "codemirror_mode": {
    "name": "ipython",
    "version": 3
   },
   "file_extension": ".py",
   "mimetype": "text/x-python",
   "name": "python",
   "nbconvert_exporter": "python",
   "pygments_lexer": "ipython3",
   "version": "3.12.3"
  }
 },
 "nbformat": 4,
 "nbformat_minor": 5
}
