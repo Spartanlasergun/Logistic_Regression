{
 "cells": [
  {
   "cell_type": "markdown",
   "id": "16ec5d56-cddb-4d16-9cc4-dc3046095d82",
   "metadata": {},
   "source": [
    "# Question 15\n",
    "-----"
   ]
  },
  {
   "cell_type": "code",
   "execution_count": 1,
   "id": "e7cb2ca8-12a0-445b-bdd4-111de3709316",
   "metadata": {},
   "outputs": [
    {
     "name": "stdout",
     "output_type": "stream",
     "text": [
      "Subject 1 Risk Ratio (E = 0) = 2.0\n",
      "Subject 2 Risk Ratio (E = 0) = 2.0\n",
      "Pooled Risk Ratio (E = 0) = 2.0\n"
     ]
    }
   ],
   "source": [
    "rr1 = 50 / 25\n",
    "rr2 = 20 / 10\n",
    "pooledrr = 70 / 35\n",
    "print(f\"Subject 1 Risk Ratio (E = 0) = {rr1}\")\n",
    "print(f\"Subject 2 Risk Ratio (E = 0) = {rr2}\")\n",
    "print(f\"Pooled Risk Ratio (E = 0) = {pooledrr}\")"
   ]
  },
  {
   "cell_type": "markdown",
   "id": "08e5c71f-9660-448e-94ec-144b64dbaddd",
   "metadata": {},
   "source": [
    "All the same"
   ]
  }
 ],
 "metadata": {
  "kernelspec": {
   "display_name": "Python 3 (ipykernel)",
   "language": "python",
   "name": "python3"
  },
  "language_info": {
   "codemirror_mode": {
    "name": "ipython",
    "version": 3
   },
   "file_extension": ".py",
   "mimetype": "text/x-python",
   "name": "python",
   "nbconvert_exporter": "python",
   "pygments_lexer": "ipython3",
   "version": "3.12.3"
  }
 },
 "nbformat": 4,
 "nbformat_minor": 5
}
