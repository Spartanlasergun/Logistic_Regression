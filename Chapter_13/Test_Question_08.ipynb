{
 "cells": [
  {
   "cell_type": "markdown",
   "id": "6a07ffbb-d202-4ce3-a3ea-4c604b4bcb95",
   "metadata": {},
   "source": [
    "# Test Question 8\n",
    "-----"
   ]
  },
  {
   "cell_type": "code",
   "execution_count": 1,
   "id": "8b7e10a9-6141-4be3-9430-7ef581c6dd5f",
   "metadata": {},
   "outputs": [
    {
     "name": "stdout",
     "output_type": "stream",
     "text": [
      "odds RX = 1.4266085726623123\n",
      "0.5830746827873041 < OR < 3.4904825739724514\n"
     ]
    }
   ],
   "source": [
    "import math\n",
    "\n",
    "RXodds = math.exp(0.3553)\n",
    "lower_limit = math.exp(0.3553 - (1.96 * 0.4565))\n",
    "upper_limit = math.exp(0.3553 + (1.96 * 0.4565))\n",
    "print(f\"odds RX = {RXodds}\")\n",
    "print(f\"{lower_limit} < OR < {upper_limit}\")"
   ]
  }
 ],
 "metadata": {
  "kernelspec": {
   "display_name": "Python 3 (ipykernel)",
   "language": "python",
   "name": "python3"
  },
  "language_info": {
   "codemirror_mode": {
    "name": "ipython",
    "version": 3
   },
   "file_extension": ".py",
   "mimetype": "text/x-python",
   "name": "python",
   "nbconvert_exporter": "python",
   "pygments_lexer": "ipython3",
   "version": "3.12.3"
  }
 },
 "nbformat": 4,
 "nbformat_minor": 5
}
