{
 "cells": [
  {
   "cell_type": "markdown",
   "id": "9ea626f7-92a7-49b2-8637-5a4a305708d4",
   "metadata": {},
   "source": [
    "# Test Question 9\n",
    "-----"
   ]
  },
  {
   "cell_type": "markdown",
   "id": "445ca086-d379-40cc-be92-ae454e430ab7",
   "metadata": {},
   "source": [
    "The current model gives individual estimates while the GEE model gives estimates for the population average."
   ]
  }
 ],
 "metadata": {
  "kernelspec": {
   "display_name": "Python 3 (ipykernel)",
   "language": "python",
   "name": "python3"
  },
  "language_info": {
   "codemirror_mode": {
    "name": "ipython",
    "version": 3
   },
   "file_extension": ".py",
   "mimetype": "text/x-python",
   "name": "python",
   "nbconvert_exporter": "python",
   "pygments_lexer": "ipython3",
   "version": "3.12.3"
  }
 },
 "nbformat": 4,
 "nbformat_minor": 5
}
