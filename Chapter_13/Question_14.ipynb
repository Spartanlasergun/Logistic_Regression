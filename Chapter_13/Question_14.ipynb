{
 "cells": [
  {
   "cell_type": "markdown",
   "id": "4cca23fb-67b2-4340-a88d-d479a8a92a24",
   "metadata": {},
   "source": [
    "# Question 14\n",
    "-----"
   ]
  },
  {
   "cell_type": "code",
   "execution_count": 1,
   "id": "34cc1d3a-c9ef-447b-88f7-b0880f25723d",
   "metadata": {},
   "outputs": [
    {
     "name": "stdout",
     "output_type": "stream",
     "text": [
      "Subject 1 Risk (E = 0) = 0.25\n",
      "Subject 2 Risk (E = 0) = 0.1\n"
     ]
    }
   ],
   "source": [
    "rsub1 = 25 / 100\n",
    "rsub2 = 10 / 100\n",
    "print(f\"Subject 1 Risk (E = 0) = {rsub1}\")\n",
    "print(f\"Subject 2 Risk (E = 0) = {rsub2}\")"
   ]
  },
  {
   "cell_type": "markdown",
   "id": "62b0b6a8-8c93-4b1a-91b5-82f4d98093f9",
   "metadata": {},
   "source": [
    "Risk is not the same, hence it is heterogeneous."
   ]
  }
 ],
 "metadata": {
  "kernelspec": {
   "display_name": "Python 3 (ipykernel)",
   "language": "python",
   "name": "python3"
  },
  "language_info": {
   "codemirror_mode": {
    "name": "ipython",
    "version": 3
   },
   "file_extension": ".py",
   "mimetype": "text/x-python",
   "name": "python",
   "nbconvert_exporter": "python",
   "pygments_lexer": "ipython3",
   "version": "3.12.3"
  }
 },
 "nbformat": 4,
 "nbformat_minor": 5
}
