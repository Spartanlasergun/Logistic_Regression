{
 "cells": [
  {
   "cell_type": "markdown",
   "id": "6a50b696-626d-4bdd-abf0-42fccb9687fe",
   "metadata": {},
   "source": [
    "# Question 8\n",
    "-----"
   ]
  },
  {
   "cell_type": "markdown",
   "id": "6246cc4a-74bc-4ce5-8cae-add59a3dff0f",
   "metadata": {},
   "source": [
    "Unstructured only"
   ]
  }
 ],
 "metadata": {
  "kernelspec": {
   "display_name": "Python 3 (ipykernel)",
   "language": "python",
   "name": "python3"
  },
  "language_info": {
   "codemirror_mode": {
    "name": "ipython",
    "version": 3
   },
   "file_extension": ".py",
   "mimetype": "text/x-python",
   "name": "python",
   "nbconvert_exporter": "python",
   "pygments_lexer": "ipython3",
   "version": "3.12.3"
  }
 },
 "nbformat": 4,
 "nbformat_minor": 5
}
