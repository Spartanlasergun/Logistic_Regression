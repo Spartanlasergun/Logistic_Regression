{
 "cells": [
  {
   "cell_type": "markdown",
   "id": "29459ac0-3586-4689-911a-b6c3d8f1a79c",
   "metadata": {},
   "source": [
    "# Question 1\n",
    "-----"
   ]
  },
  {
   "cell_type": "code",
   "execution_count": 1,
   "id": "3b7181f9-154d-4b24-aa5d-44ae0a0dffb4",
   "metadata": {},
   "outputs": [],
   "source": [
    "import math\n",
    "\n",
    "def formula(A, B, C, D):\n",
    "    M1 = A + B\n",
    "    M0 = C + D\n",
    "    N1 = A + C\n",
    "    N0 = B + D\n",
    "    T = A + B + C + D\n",
    "    corr = ((A * T) - (M1 * N1)) / (M1 * M0 * N1 * N0)\n",
    "    OR = (A*D) / (B*C)\n",
    "    return corr, OR"
   ]
  },
  {
   "cell_type": "code",
   "execution_count": 2,
   "id": "eb59007d-7bda-40ac-8073-53c15226c384",
   "metadata": {},
   "outputs": [
    {
     "name": "stdout",
     "output_type": "stream",
     "text": [
      "Table 1:\n",
      "Corr = 0.03125\n",
      "OR = 9.0\n"
     ]
    }
   ],
   "source": [
    "corr, OR = formula(3, 1, 1, 3)\n",
    "print(\"Table 1:\")\n",
    "print(f\"Corr = {corr}\")\n",
    "print(f\"OR = {OR}\")"
   ]
  },
  {
   "cell_type": "code",
   "execution_count": 3,
   "id": "dad73c3f-7666-412a-94e3-a82bb303c488",
   "metadata": {},
   "outputs": [
    {
     "name": "stdout",
     "output_type": "stream",
     "text": [
      "Table 2:\n",
      "Corr = 0.02\n",
      "OR = 9.0\n"
     ]
    }
   ],
   "source": [
    "corr, OR = formula(9, 1, 1, 1)\n",
    "print(\"Table 2:\")\n",
    "print(f\"Corr = {corr}\")\n",
    "print(f\"OR = {OR}\")"
   ]
  }
 ],
 "metadata": {
  "kernelspec": {
   "display_name": "Python 3 (ipykernel)",
   "language": "python",
   "name": "python3"
  },
  "language_info": {
   "codemirror_mode": {
    "name": "ipython",
    "version": 3
   },
   "file_extension": ".py",
   "mimetype": "text/x-python",
   "name": "python",
   "nbconvert_exporter": "python",
   "pygments_lexer": "ipython3",
   "version": "3.12.3"
  }
 },
 "nbformat": 4,
 "nbformat_minor": 5
}
