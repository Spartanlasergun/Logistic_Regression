{
 "cells": [
  {
   "cell_type": "markdown",
   "id": "983da05f-b4a2-4a83-932b-96e466f37ca5",
   "metadata": {},
   "source": [
    "# Test Question 10\n",
    "-----"
   ]
  },
  {
   "cell_type": "markdown",
   "id": "3fe98bed-8c9d-441e-959f-6987124bf6fa",
   "metadata": {},
   "source": [
    "Sequence is consistent for each subject. "
   ]
  }
 ],
 "metadata": {
  "kernelspec": {
   "display_name": "Python 3 (ipykernel)",
   "language": "python",
   "name": "python3"
  },
  "language_info": {
   "codemirror_mode": {
    "name": "ipython",
    "version": 3
   },
   "file_extension": ".py",
   "mimetype": "text/x-python",
   "name": "python",
   "nbconvert_exporter": "python",
   "pygments_lexer": "ipython3",
   "version": "3.12.3"
  }
 },
 "nbformat": 4,
 "nbformat_minor": 5
}
