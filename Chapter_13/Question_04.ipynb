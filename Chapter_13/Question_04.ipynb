{
 "cells": [
  {
   "cell_type": "markdown",
   "id": "37551189-5032-438d-8c17-2125a66e6a8a",
   "metadata": {},
   "source": [
    "# Question 4\n",
    "-----"
   ]
  },
  {
   "cell_type": "markdown",
   "id": "80126310-3492-476b-b6ab-bcbffd88bdce",
   "metadata": {},
   "source": [
    "$$OR (RX = 1) = e^{\\beta_{1} + b_{1i}}$$"
   ]
  }
 ],
 "metadata": {
  "kernelspec": {
   "display_name": "Python 3 (ipykernel)",
   "language": "python",
   "name": "python3"
  },
  "language_info": {
   "codemirror_mode": {
    "name": "ipython",
    "version": 3
   },
   "file_extension": ".py",
   "mimetype": "text/x-python",
   "name": "python",
   "nbconvert_exporter": "python",
   "pygments_lexer": "ipython3",
   "version": "3.12.3"
  }
 },
 "nbformat": 4,
 "nbformat_minor": 5
}
