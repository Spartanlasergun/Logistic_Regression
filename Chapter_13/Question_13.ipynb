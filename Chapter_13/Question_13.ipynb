{
 "cells": [
  {
   "cell_type": "markdown",
   "id": "468f7b9a-2b85-49c8-8966-591870c5f101",
   "metadata": {},
   "source": [
    "# Question 13\n",
    "-----"
   ]
  },
  {
   "cell_type": "markdown",
   "id": "d3cab43e-a753-42e1-b591-c40da1e0450b",
   "metadata": {},
   "source": [
    "Population Averaged"
   ]
  }
 ],
 "metadata": {
  "kernelspec": {
   "display_name": "Python 3 (ipykernel)",
   "language": "python",
   "name": "python3"
  },
  "language_info": {
   "codemirror_mode": {
    "name": "ipython",
    "version": 3
   },
   "file_extension": ".py",
   "mimetype": "text/x-python",
   "name": "python",
   "nbconvert_exporter": "python",
   "pygments_lexer": "ipython3",
   "version": "3.12.3"
  }
 },
 "nbformat": 4,
 "nbformat_minor": 5
}
