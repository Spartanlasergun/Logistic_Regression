{
 "cells": [
  {
   "cell_type": "markdown",
   "id": "454622e9-6934-4529-862e-0ff24b54ff62",
   "metadata": {},
   "source": [
    "# True or False\n",
    "-----"
   ]
  },
  {
   "cell_type": "markdown",
   "id": "fdf001f7-303f-4008-9b65-e428b3d9efa3",
   "metadata": {},
   "source": [
    "Question 1: False"
   ]
  }
 ],
 "metadata": {
  "kernelspec": {
   "display_name": "Python 3 (ipykernel)",
   "language": "python",
   "name": "python3"
  },
  "language_info": {
   "codemirror_mode": {
    "name": "ipython",
    "version": 3
   },
   "file_extension": ".py",
   "mimetype": "text/x-python",
   "name": "python",
   "nbconvert_exporter": "python",
   "pygments_lexer": "ipython3",
   "version": "3.12.3"
  }
 },
 "nbformat": 4,
 "nbformat_minor": 5
}
