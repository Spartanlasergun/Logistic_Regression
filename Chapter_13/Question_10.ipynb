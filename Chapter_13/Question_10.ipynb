{
 "cells": [
  {
   "cell_type": "markdown",
   "id": "3ade80c3-2850-49c5-9e91-2dd9ae489beb",
   "metadata": {},
   "source": [
    "# Question 10\n",
    "-----"
   ]
  },
  {
   "cell_type": "code",
   "execution_count": 1,
   "id": "d4431172-54d3-48b9-9621-e9d34620b318",
   "metadata": {},
   "outputs": [
    {
     "name": "stdout",
     "output_type": "stream",
     "text": [
      "OR Subject 1 = 3.0\n",
      "OR Subject 2 = 3.0\n",
      "OR Pooled = 2.8285714285714287\n"
     ]
    }
   ],
   "source": [
    "sub_1 = (50 * 75) / (25 * 50)\n",
    "sub_2 = (25 * 90) / (10 * 75)\n",
    "pooled = (75 * 165) / (35 * 125)\n",
    "print(f\"OR Subject 1 = {sub_1}\")\n",
    "print(f\"OR Subject 2 = {sub_2}\")\n",
    "print(f\"OR Pooled = {pooled}\")"
   ]
  },
  {
   "cell_type": "markdown",
   "id": "7a4f9b4f-68b0-4a2f-8d49-29bebd0fd826",
   "metadata": {},
   "source": [
    "The average effect is lower that the independent odds ratio."
   ]
  }
 ],
 "metadata": {
  "kernelspec": {
   "display_name": "Python 3 (ipykernel)",
   "language": "python",
   "name": "python3"
  },
  "language_info": {
   "codemirror_mode": {
    "name": "ipython",
    "version": 3
   },
   "file_extension": ".py",
   "mimetype": "text/x-python",
   "name": "python",
   "nbconvert_exporter": "python",
   "pygments_lexer": "ipython3",
   "version": "3.12.3"
  }
 },
 "nbformat": 4,
 "nbformat_minor": 5
}
