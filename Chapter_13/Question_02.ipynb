{
 "cells": [
  {
   "cell_type": "markdown",
   "id": "1eeac48f-9836-4558-bf91-1d60ba766d10",
   "metadata": {},
   "source": [
    "# Question 2\n",
    "-----"
   ]
  },
  {
   "cell_type": "code",
   "execution_count": 1,
   "id": "1e3449c9-613d-45ef-b5d7-d9963b4280bd",
   "metadata": {},
   "outputs": [],
   "source": [
    "import math\n",
    "\n",
    "def formula(A, B, C, D):\n",
    "    M1 = A + B\n",
    "    M0 = C + D\n",
    "    N1 = A + C\n",
    "    N0 = B + D\n",
    "    T = A + B + C + D\n",
    "    corr = ((A * T) - (M1 * N1)) / math.sqrt((M1 * M0 * N1 * N0))\n",
    "    #OR = (A*D) / (B*C)\n",
    "    return corr"
   ]
  },
  {
   "cell_type": "code",
   "execution_count": 2,
   "id": "d6d2c70f-37e8-42b8-9fb7-f9dfc22f4714",
   "metadata": {},
   "outputs": [
    {
     "name": "stdout",
     "output_type": "stream",
     "text": [
      "Table 1:\n",
      "Corr = 1.0\n",
      "OR = divide by zero error\n"
     ]
    }
   ],
   "source": [
    "corr = formula(3, 0, 0, 3)\n",
    "print(\"Table 1:\")\n",
    "print(f\"Corr = {corr}\")\n",
    "print(f\"OR = divide by zero error\")"
   ]
  },
  {
   "cell_type": "code",
   "execution_count": 3,
   "id": "9be5a95c-5541-47ec-a33b-f2badb925ee0",
   "metadata": {},
   "outputs": [
    {
     "name": "stdout",
     "output_type": "stream",
     "text": [
      "Table 2:\n",
      "Corr = 1.0\n",
      "OR = divide by zero error\n"
     ]
    }
   ],
   "source": [
    "corr = formula(9, 0, 0, 1)\n",
    "print(\"Table 2:\")\n",
    "print(f\"Corr = {corr}\")\n",
    "print(f\"OR = divide by zero error\")"
   ]
  }
 ],
 "metadata": {
  "kernelspec": {
   "display_name": "Python 3 (ipykernel)",
   "language": "python",
   "name": "python3"
  },
  "language_info": {
   "codemirror_mode": {
    "name": "ipython",
    "version": 3
   },
   "file_extension": ".py",
   "mimetype": "text/x-python",
   "name": "python",
   "nbconvert_exporter": "python",
   "pygments_lexer": "ipython3",
   "version": "3.12.3"
  }
 },
 "nbformat": 4,
 "nbformat_minor": 5
}
