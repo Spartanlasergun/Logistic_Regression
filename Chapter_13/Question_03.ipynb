{
 "cells": [
  {
   "cell_type": "markdown",
   "id": "aabbb826-a47a-49f7-b40a-3c7ca6f26b10",
   "metadata": {},
   "source": [
    "# Question 3\n",
    "-----"
   ]
  },
  {
   "cell_type": "code",
   "execution_count": 1,
   "id": "15b917e8-862f-4f91-b682-30148a9546ef",
   "metadata": {},
   "outputs": [],
   "source": [
    "import math\n",
    "\n",
    "def formula(A, B, C, D):\n",
    "    M1 = A + B\n",
    "    M0 = C + D\n",
    "    N1 = A + C\n",
    "    N0 = B + D\n",
    "    T = A + B + C + D\n",
    "    corr = ((A * T) - (M1 * N1)) / math.sqrt((M1 * M0 * N1 * N0))\n",
    "    OR = (A*D) / (B*C)\n",
    "    return corr, OR"
   ]
  },
  {
   "cell_type": "code",
   "execution_count": 2,
   "id": "ec8d9d00-7da3-429c-bfb8-d5c98e067c57",
   "metadata": {},
   "outputs": [
    {
     "name": "stdout",
     "output_type": "stream",
     "text": [
      "Corr = 0.0\n",
      "OR = 1.0\n"
     ]
    }
   ],
   "source": [
    "corr, OR = formula(1, 1, 1, 1)\n",
    "print(f\"Corr = {corr}\")\n",
    "print(f\"OR = {OR}\")"
   ]
  },
  {
   "cell_type": "code",
   "execution_count": 3,
   "id": "34972abe-1ccc-41ca-bcc3-bc9c1d803ac7",
   "metadata": {},
   "outputs": [
    {
     "name": "stdout",
     "output_type": "stream",
     "text": [
      "Corr = 0.0\n",
      "OR = 1.0\n"
     ]
    }
   ],
   "source": [
    "corr, OR = formula(2, 2, 2, 2)\n",
    "print(f\"Corr = {corr}\")\n",
    "print(f\"OR = {OR}\")"
   ]
  },
  {
   "cell_type": "code",
   "execution_count": 4,
   "id": "fe91c54e-3e0a-4589-9583-51dfae0c2b7f",
   "metadata": {},
   "outputs": [
    {
     "name": "stdout",
     "output_type": "stream",
     "text": [
      "Corr = 0.0\n",
      "OR = 1.0\n"
     ]
    }
   ],
   "source": [
    "corr, OR = formula(3, 3, 3, 3)\n",
    "print(f\"Corr = {corr}\")\n",
    "print(f\"OR = {OR}\")"
   ]
  }
 ],
 "metadata": {
  "kernelspec": {
   "display_name": "Python 3 (ipykernel)",
   "language": "python",
   "name": "python3"
  },
  "language_info": {
   "codemirror_mode": {
    "name": "ipython",
    "version": 3
   },
   "file_extension": ".py",
   "mimetype": "text/x-python",
   "name": "python",
   "nbconvert_exporter": "python",
   "pygments_lexer": "ipython3",
   "version": "3.12.3"
  }
 },
 "nbformat": 4,
 "nbformat_minor": 5
}
