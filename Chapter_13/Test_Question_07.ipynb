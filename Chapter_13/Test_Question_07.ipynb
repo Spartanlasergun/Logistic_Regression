{
 "cells": [
  {
   "cell_type": "markdown",
   "id": "55d2411a-7db7-4e6e-a440-7facca95f4e5",
   "metadata": {},
   "source": [
    "# Test Question 7\n",
    "-----"
   ]
  },
  {
   "cell_type": "code",
   "execution_count": 1,
   "id": "31de2583-9588-45fb-b9bc-ab2a8e8e8c0f",
   "metadata": {},
   "outputs": [
    {
     "name": "stdout",
     "output_type": "stream",
     "text": [
      "odds (SEQ = 0) = 1.6011145812426721\n",
      "odds (SEQ = 1) = 1.2631391354889765\n"
     ]
    }
   ],
   "source": [
    "import math\n",
    "\n",
    "RXSEQ1 = math.exp(0.4707 + (-0.2371))\n",
    "RXSEQ0 = math.exp(0.4707)\n",
    "print(f\"odds (SEQ = 0) = {RXSEQ0}\")\n",
    "print(f\"odds (SEQ = 1) = {RXSEQ1}\")"
   ]
  }
 ],
 "metadata": {
  "kernelspec": {
   "display_name": "Python 3 (ipykernel)",
   "language": "python",
   "name": "python3"
  },
  "language_info": {
   "codemirror_mode": {
    "name": "ipython",
    "version": 3
   },
   "file_extension": ".py",
   "mimetype": "text/x-python",
   "name": "python",
   "nbconvert_exporter": "python",
   "pygments_lexer": "ipython3",
   "version": "3.12.3"
  }
 },
 "nbformat": 4,
 "nbformat_minor": 5
}
