{
 "cells": [
  {
   "cell_type": "markdown",
   "id": "9e8afe8f-29db-4c56-8ae1-839282166320",
   "metadata": {},
   "source": [
    "# Question 11\n",
    "-----"
   ]
  },
  {
   "cell_type": "code",
   "execution_count": 1,
   "id": "a0b1b504-d010-48a7-afce-cdfab4906c77",
   "metadata": {},
   "outputs": [
    {
     "name": "stdout",
     "output_type": "stream",
     "text": [
      "Subject 1 Risk (E = 0) = 0.25\n",
      "Subject 2 Risk (E = 0) = 0.1\n"
     ]
    }
   ],
   "source": [
    "rsub1 = 25 / 100\n",
    "rsub2 = 10 / 100\n",
    "print(f\"Subject 1 Risk (E = 0) = {rsub1}\")\n",
    "print(f\"Subject 2 Risk (E = 0) = {rsub2}\")"
   ]
  },
  {
   "cell_type": "markdown",
   "id": "6d14fb4a-7e71-48b4-8680-5bddeddd039b",
   "metadata": {},
   "source": [
    "There is a difference in baseline risk"
   ]
  }
 ],
 "metadata": {
  "kernelspec": {
   "display_name": "Python 3 (ipykernel)",
   "language": "python",
   "name": "python3"
  },
  "language_info": {
   "codemirror_mode": {
    "name": "ipython",
    "version": 3
   },
   "file_extension": ".py",
   "mimetype": "text/x-python",
   "name": "python",
   "nbconvert_exporter": "python",
   "pygments_lexer": "ipython3",
   "version": "3.12.3"
  }
 },
 "nbformat": 4,
 "nbformat_minor": 5
}
