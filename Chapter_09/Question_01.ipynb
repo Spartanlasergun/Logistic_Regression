{
 "cells": [
  {
   "cell_type": "markdown",
   "id": "39878b64-969a-4d97-bd00-c93d2b5ba446",
   "metadata": {},
   "source": [
    "# Question 1\n",
    "-----"
   ]
  },
  {
   "cell_type": "markdown",
   "id": "5697739b-b6df-43e4-80fc-c26223625aef",
   "metadata": {},
   "source": [
    "$$ logit \\ \\ P(X) = \\alpha + \\beta(VIRUS) + \\gamma_{1}(AIDS) + \\gamma_{2}(COMPLIANCE) + \\gamma_{3}(AGE) + \\gamma_{4}(GENDER) + \\delta(AIDSCOMP)$$"
   ]
  }
 ],
 "metadata": {
  "kernelspec": {
   "display_name": "Python 3 (ipykernel)",
   "language": "python",
   "name": "python3"
  },
  "language_info": {
   "codemirror_mode": {
    "name": "ipython",
    "version": 3
   },
   "file_extension": ".py",
   "mimetype": "text/x-python",
   "name": "python",
   "nbconvert_exporter": "python",
   "pygments_lexer": "ipython3",
   "version": "3.12.3"
  }
 },
 "nbformat": 4,
 "nbformat_minor": 5
}
