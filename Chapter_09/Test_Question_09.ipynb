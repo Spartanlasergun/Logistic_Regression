{
 "cells": [
  {
   "cell_type": "markdown",
   "id": "e300c14b-ec9d-434a-9f09-b20d16a7a5b0",
   "metadata": {},
   "source": [
    "# Test Question 9\n",
    "-----"
   ]
  },
  {
   "cell_type": "markdown",
   "id": "323a0cb6-5cf7-4fa6-a2a9-8cad5719da06",
   "metadata": {},
   "source": [
    "The likelihood ratio test for SMOKE and HPT can be conducted by comparing the full model to a model without the SMOKE and HPT variables, where:\n",
    "\n",
    "$$H_{0}: \\beta_{g3} = \\beta_{g4} = 0$$\n",
    "\n",
    "The test statistic has an approximate chi-squared distribution."
   ]
  }
 ],
 "metadata": {
  "kernelspec": {
   "display_name": "Python 3 (ipykernel)",
   "language": "python",
   "name": "python3"
  },
  "language_info": {
   "codemirror_mode": {
    "name": "ipython",
    "version": 3
   },
   "file_extension": ".py",
   "mimetype": "text/x-python",
   "name": "python",
   "nbconvert_exporter": "python",
   "pygments_lexer": "ipython3",
   "version": "3.12.3"
  }
 },
 "nbformat": 4,
 "nbformat_minor": 5
}
