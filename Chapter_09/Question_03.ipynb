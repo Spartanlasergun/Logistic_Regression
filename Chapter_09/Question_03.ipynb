{
 "cells": [
  {
   "cell_type": "markdown",
   "id": "6e92b5fe-4b71-4cb5-9a61-8dc3f75d4e0c",
   "metadata": {},
   "source": [
    "# Question 3\n",
    "-----"
   ]
  },
  {
   "cell_type": "markdown",
   "id": "880baaad-1c22-407c-9a7d-148add1e65e1",
   "metadata": {},
   "source": [
    "There is an assumption that the outcome categories are ordered. This intuitively affects the determination of the reference category which is taken as the null."
   ]
  }
 ],
 "metadata": {
  "kernelspec": {
   "display_name": "Python 3 (ipykernel)",
   "language": "python",
   "name": "python3"
  },
  "language_info": {
   "codemirror_mode": {
    "name": "ipython",
    "version": 3
   },
   "file_extension": ".py",
   "mimetype": "text/x-python",
   "name": "python",
   "nbconvert_exporter": "python",
   "pygments_lexer": "ipython3",
   "version": "3.12.3"
  }
 },
 "nbformat": 4,
 "nbformat_minor": 5
}
