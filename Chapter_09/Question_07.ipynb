{
 "cells": [
  {
   "cell_type": "markdown",
   "id": "1adc6f34-7fa3-4964-8636-35e6f4d0e915",
   "metadata": {},
   "source": [
    "# Question 7\n",
    "-----"
   ]
  },
  {
   "cell_type": "code",
   "execution_count": 1,
   "id": "44ad142d-7234-4857-b066-ae57a9e689ea",
   "metadata": {},
   "outputs": [
    {
     "name": "stdout",
     "output_type": "stream",
     "text": [
      "Wald M1 = 2.357142857142857\n"
     ]
    }
   ],
   "source": [
    "wald_M1 = 0.33/0.14\n",
    "print(f\"Wald M1 = {wald_M1}\")"
   ]
  },
  {
   "cell_type": "code",
   "execution_count": 2,
   "id": "dbc67b98-25dc-48d0-8786-59d823913eca",
   "metadata": {},
   "outputs": [],
   "source": [
    "from scipy.integrate import quad\n",
    "import math\n",
    "\n",
    "class normal:\n",
    "    def __init__(self, u, sigma):\n",
    "        self.u = u\n",
    "        self.sigma = sigma\n",
    "        self.root2pi = math.sqrt((2 * math.pi)) \n",
    "    \n",
    "    def normal_func(self, x):\n",
    "        return (1 / (self.sigma * self.root2pi)) * math.exp((-1 * pow((x - self.u), 2)) / (2 * pow(self.sigma, 2)))\n",
    "\n",
    "    def integrate(self, lower_limit, upper_limit):\n",
    "        result, error = quad(self.normal_func, lower_limit, upper_limit)\n",
    "        \n",
    "        return result"
   ]
  },
  {
   "cell_type": "code",
   "execution_count": 3,
   "id": "19392994-c1ad-46c9-a056-ec57f07223dd",
   "metadata": {},
   "outputs": [
    {
     "name": "stdout",
     "output_type": "stream",
     "text": [
      "P val = 0.009208080288151994\n"
     ]
    }
   ],
   "source": [
    "z = normal(0, 1)\n",
    "p1 = z.integrate(wald_M1, 1000)\n",
    "print(f\"P val = {p1}\")"
   ]
  },
  {
   "cell_type": "markdown",
   "id": "bfb747db-d6af-41df-80f8-5a60446040a3",
   "metadata": {},
   "source": [
    "$P < 0.025$\n",
    "Hence, the interaction is significant at the 5% level for the first model"
   ]
  },
  {
   "cell_type": "code",
   "execution_count": 4,
   "id": "230ab2c8-f755-4150-8335-ed6c451fff24",
   "metadata": {},
   "outputs": [
    {
     "name": "stdout",
     "output_type": "stream",
     "text": [
      "Wald M2 = 1.8235294117647058\n"
     ]
    }
   ],
   "source": [
    "wald_M2 = 0.31 / 0.17\n",
    "print(f\"Wald M2 = {wald_M2}\")"
   ]
  },
  {
   "cell_type": "code",
   "execution_count": 5,
   "id": "81bb1e7b-f244-40c0-8d67-ec3e9296eb2a",
   "metadata": {},
   "outputs": [
    {
     "name": "stdout",
     "output_type": "stream",
     "text": [
      "P val = 0.03411162332275512\n"
     ]
    }
   ],
   "source": [
    "p2 = z.integrate(wald_M2, 1000)\n",
    "print(f\"P val = {p2}\")"
   ]
  },
  {
   "cell_type": "markdown",
   "id": "4bc1d1b5-2ba9-48db-a82c-f26da187a55b",
   "metadata": {},
   "source": [
    "$P > 0.025$\n",
    "Hence the interaction is not significant at the 5% level for the second model."
   ]
  }
 ],
 "metadata": {
  "kernelspec": {
   "display_name": "Python 3 (ipykernel)",
   "language": "python",
   "name": "python3"
  },
  "language_info": {
   "codemirror_mode": {
    "name": "ipython",
    "version": 3
   },
   "file_extension": ".py",
   "mimetype": "text/x-python",
   "name": "python",
   "nbconvert_exporter": "python",
   "pygments_lexer": "ipython3",
   "version": "3.12.3"
  }
 },
 "nbformat": 4,
 "nbformat_minor": 5
}
