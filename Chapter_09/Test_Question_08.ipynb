{
 "cells": [
  {
   "cell_type": "markdown",
   "id": "65e056d9-a12f-4610-a328-cd6dac178d21",
   "metadata": {},
   "source": [
    "# Test Question 8\n",
    "-----"
   ]
  },
  {
   "cell_type": "markdown",
   "id": "09bac6d3-485e-4cb0-a293-229afe5dca5a",
   "metadata": {},
   "source": [
    "$$ROR = e^{30\\beta_{21}}$$"
   ]
  }
 ],
 "metadata": {
  "kernelspec": {
   "display_name": "Python 3 (ipykernel)",
   "language": "python",
   "name": "python3"
  },
  "language_info": {
   "codemirror_mode": {
    "name": "ipython",
    "version": 3
   },
   "file_extension": ".py",
   "mimetype": "text/x-python",
   "name": "python",
   "nbconvert_exporter": "python",
   "pygments_lexer": "ipython3",
   "version": "3.12.3"
  }
 },
 "nbformat": 4,
 "nbformat_minor": 5
}
