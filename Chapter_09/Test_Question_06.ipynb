{
 "cells": [
  {
   "cell_type": "markdown",
   "id": "186ab121-f23d-4427-85da-b10737c98102",
   "metadata": {},
   "source": [
    "# Test Question 6\n",
    "-----"
   ]
  },
  {
   "cell_type": "markdown",
   "id": "6cec0e01-075b-4b35-8e02-7c34acbf8700",
   "metadata": {},
   "source": [
    "$$odds = e^{\\alpha_{20} + \\beta_{21}(AGE) + \\beta_{22}(GENDER) + \\beta_{23}(SMOKE) + \\beta_{24}(HPT)}$$\n",
    "\n",
    "$$odds = e^{\\alpha_{20} + \\beta_{21}(40) + \\beta_{22}(1) + \\beta_{23}(0) + \\beta_{24}(HPT)}$$\n",
    "\n",
    "$$odds = e^{\\alpha_{20} + 40\\beta_{21} + \\beta_{22} + \\beta_{24}(HPT)}$$"
   ]
  }
 ],
 "metadata": {
  "kernelspec": {
   "display_name": "Python 3 (ipykernel)",
   "language": "python",
   "name": "python3"
  },
  "language_info": {
   "codemirror_mode": {
    "name": "ipython",
    "version": 3
   },
   "file_extension": ".py",
   "mimetype": "text/x-python",
   "name": "python",
   "nbconvert_exporter": "python",
   "pygments_lexer": "ipython3",
   "version": "3.12.3"
  }
 },
 "nbformat": 4,
 "nbformat_minor": 5
}
