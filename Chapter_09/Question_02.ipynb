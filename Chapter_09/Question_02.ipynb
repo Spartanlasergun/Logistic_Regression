{
 "cells": [
  {
   "cell_type": "markdown",
   "id": "a3b3423d-f27a-4c80-8ada-d33a181dc93a",
   "metadata": {},
   "source": [
    "# Question 2\n",
    "-----"
   ]
  },
  {
   "cell_type": "markdown",
   "id": "8fab26c2-2160-48a3-95b7-03b08968a2c8",
   "metadata": {},
   "source": [
    "Model 1:\n",
    "\n",
    "$$logit \\ \\ P(X) = (-2.82) + (1.35)(VIRUS) + (0.94)(AIDS) + (0.49)(COMP) + (0.05)(AGE) + (0.41)(GENDER) + (0.33)(AIDSCOMP) $$"
   ]
  },
  {
   "cell_type": "markdown",
   "id": "86399049-3744-43db-96b8-4636ca7a4e80",
   "metadata": {},
   "source": [
    "Model 2:\n",
    "\n",
    "$$logit \\ \\ P(X) = (-2.03) + (0.95)(VIRUS) + (0.76)(AIDS) + (0.34)(COMP) + (0.03)(AGE) + (0.25)(GENDER) + (0.31)(AIDSCOMP) $$"
   ]
  }
 ],
 "metadata": {
  "kernelspec": {
   "display_name": "Python 3 (ipykernel)",
   "language": "python",
   "name": "python3"
  },
  "language_info": {
   "codemirror_mode": {
    "name": "ipython",
    "version": 3
   },
   "file_extension": ".py",
   "mimetype": "text/x-python",
   "name": "python",
   "nbconvert_exporter": "python",
   "pygments_lexer": "ipython3",
   "version": "3.12.3"
  }
 },
 "nbformat": 4,
 "nbformat_minor": 5
}
