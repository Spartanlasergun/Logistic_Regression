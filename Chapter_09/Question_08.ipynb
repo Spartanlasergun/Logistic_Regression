{
 "cells": [
  {
   "cell_type": "markdown",
   "id": "63c6da12-607f-4bfe-90b6-0f7b64ccbfc3",
   "metadata": {},
   "source": [
    "# Question 8\n",
    "-----"
   ]
  },
  {
   "cell_type": "code",
   "execution_count": 1,
   "id": "c8f62d7a-fb7e-4540-b688-c0f1219b2c58",
   "metadata": {},
   "outputs": [
    {
     "name": "stdout",
     "output_type": "stream",
     "text": [
      "COMP 0  = 2.5599814183292713\n",
      "COMP 1  = 3.5608525623555205\n"
     ]
    }
   ],
   "source": [
    "import math\n",
    "\n",
    "def AIDS(COMP):\n",
    "    OR = math.exp(0.94 + (0.33 * COMP))\n",
    "    return OR\n",
    "\n",
    "COMP_0 = AIDS(0)\n",
    "COMP_1 = AIDS(1)\n",
    "print(f\"COMP 0  = {COMP_0}\")\n",
    "print(f\"COMP 1  = {COMP_1}\")"
   ]
  }
 ],
 "metadata": {
  "kernelspec": {
   "display_name": "Python 3 (ipykernel)",
   "language": "python",
   "name": "python3"
  },
  "language_info": {
   "codemirror_mode": {
    "name": "ipython",
    "version": 3
   },
   "file_extension": ".py",
   "mimetype": "text/x-python",
   "name": "python",
   "nbconvert_exporter": "python",
   "pygments_lexer": "ipython3",
   "version": "3.12.3"
  }
 },
 "nbformat": 4,
 "nbformat_minor": 5
}
