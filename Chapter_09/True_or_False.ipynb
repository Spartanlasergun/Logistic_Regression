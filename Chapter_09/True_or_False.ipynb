{
 "cells": [
  {
   "cell_type": "markdown",
   "id": "247c146a-7967-424e-91b6-ea79416d9354",
   "metadata": {},
   "source": [
    "# True or False\n",
    "-----"
   ]
  },
  {
   "cell_type": "markdown",
   "id": "9cc5e118-edd0-4c13-b298-ce9120786350",
   "metadata": {},
   "source": [
    "Question 1: False\n",
    "\n",
    "Question 2: True\n",
    "\n"
   ]
  }
 ],
 "metadata": {
  "kernelspec": {
   "display_name": "Python 3 (ipykernel)",
   "language": "python",
   "name": "python3"
  },
  "language_info": {
   "codemirror_mode": {
    "name": "ipython",
    "version": 3
   },
   "file_extension": ".py",
   "mimetype": "text/x-python",
   "name": "python",
   "nbconvert_exporter": "python",
   "pygments_lexer": "ipython3",
   "version": "3.12.3"
  }
 },
 "nbformat": 4,
 "nbformat_minor": 5
}
