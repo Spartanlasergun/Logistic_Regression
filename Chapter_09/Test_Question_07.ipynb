{
 "cells": [
  {
   "cell_type": "markdown",
   "id": "f087dbac-ddaf-4b82-bea1-59c90068b7b0",
   "metadata": {},
   "source": [
    "# Test Question 7\n",
    "-----"
   ]
  },
  {
   "cell_type": "markdown",
   "id": "65906150-f8a7-45a4-9a13-5881c3bc182c",
   "metadata": {},
   "source": [
    "$$ROR = e^{\\beta_{12}}$$"
   ]
  }
 ],
 "metadata": {
  "kernelspec": {
   "display_name": "Python 3 (ipykernel)",
   "language": "python",
   "name": "python3"
  },
  "language_info": {
   "codemirror_mode": {
    "name": "ipython",
    "version": 3
   },
   "file_extension": ".py",
   "mimetype": "text/x-python",
   "name": "python",
   "nbconvert_exporter": "python",
   "pygments_lexer": "ipython3",
   "version": "3.12.3"
  }
 },
 "nbformat": 4,
 "nbformat_minor": 5
}
