{
 "cells": [
  {
   "cell_type": "markdown",
   "id": "0ec647c5-f58b-4d35-8255-6b6de6fc5d5c",
   "metadata": {},
   "source": [
    "# Test Question 10\n",
    "-----"
   ]
  },
  {
   "cell_type": "markdown",
   "id": "fd6ccfea-59ef-416e-b81a-04fc20a10b18",
   "metadata": {},
   "source": [
    "$$model = \\alpha_{g} + \\beta_{g1}(AGE) + \\beta_{g2}(GENDER) + \\beta_{g3}(SMOKE) + \\beta_{g4}(HPT) + \\delta_{g5}(AGE * GENDER) + \\delta_{g6}(SMOKE * GENDER)$$"
   ]
  },
  {
   "cell_type": "markdown",
   "id": "055e3ac0-7dda-4f61-b933-024fba99c181",
   "metadata": {},
   "source": [
    "The model has two additional parameters, but 6 in total counting each variation with the reference variable."
   ]
  }
 ],
 "metadata": {
  "kernelspec": {
   "display_name": "Python 3 (ipykernel)",
   "language": "python",
   "name": "python3"
  },
  "language_info": {
   "codemirror_mode": {
    "name": "ipython",
    "version": 3
   },
   "file_extension": ".py",
   "mimetype": "text/x-python",
   "name": "python",
   "nbconvert_exporter": "python",
   "pygments_lexer": "ipython3",
   "version": "3.12.3"
  }
 },
 "nbformat": 4,
 "nbformat_minor": 5
}
