{
 "cells": [
  {
   "cell_type": "markdown",
   "id": "c64c3c35-50af-4075-8bf0-6589ed6efa6f",
   "metadata": {},
   "source": [
    "# Question 10\n",
    "-----"
   ]
  },
  {
   "cell_type": "code",
   "execution_count": 1,
   "id": "4c5b3975-405a-4211-a8d9-a29dd25663a5",
   "metadata": {},
   "outputs": [
    {
     "name": "stdout",
     "output_type": "stream",
     "text": [
      "0.2393089222437546\n"
     ]
    }
   ],
   "source": [
    "import math\n",
    "odds = math.exp((-2.03) + (0.95 * 0) + (0.76 * 0) + (0.34 * 0) + (0.03 * 20) + (0.31 * 0 * 1))\n",
    "print(odds)"
   ]
  }
 ],
 "metadata": {
  "kernelspec": {
   "display_name": "Python 3 (ipykernel)",
   "language": "python",
   "name": "python3"
  },
  "language_info": {
   "codemirror_mode": {
    "name": "ipython",
    "version": 3
   },
   "file_extension": ".py",
   "mimetype": "text/x-python",
   "name": "python",
   "nbconvert_exporter": "python",
   "pygments_lexer": "ipython3",
   "version": "3.12.3"
  }
 },
 "nbformat": 4,
 "nbformat_minor": 5
}
