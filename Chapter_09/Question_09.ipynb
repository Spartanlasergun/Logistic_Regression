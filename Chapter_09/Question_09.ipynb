{
 "cells": [
  {
   "cell_type": "markdown",
   "id": "fdb8983a-efbe-4bff-b6c3-1ab66b17efbb",
   "metadata": {},
   "source": [
    "# Question 9\n",
    "-----"
   ]
  },
  {
   "cell_type": "code",
   "execution_count": 1,
   "id": "ac1d5149-1da3-4ff7-acb9-80eb4039133c",
   "metadata": {},
   "outputs": [
    {
     "name": "stdout",
     "output_type": "stream",
     "text": [
      "OR = 3.8574255306969745\n",
      "3.1093073986786366 < OR < 4.785545401910497\n"
     ]
    }
   ],
   "source": [
    "import math\n",
    "\n",
    "OR = math.exp(1.35)\n",
    "lower_limit = math.exp(1.35 - (1.96 * 0.11))\n",
    "upper_limit = math.exp(1.35 + (1.96 * 0.11))\n",
    "print(f\"OR = {OR}\")\n",
    "print(f\"{lower_limit} < OR < {upper_limit}\")"
   ]
  }
 ],
 "metadata": {
  "kernelspec": {
   "display_name": "Python 3 (ipykernel)",
   "language": "python",
   "name": "python3"
  },
  "language_info": {
   "codemirror_mode": {
    "name": "ipython",
    "version": 3
   },
   "file_extension": ".py",
   "mimetype": "text/x-python",
   "name": "python",
   "nbconvert_exporter": "python",
   "pygments_lexer": "ipython3",
   "version": "3.12.3"
  }
 },
 "nbformat": 4,
 "nbformat_minor": 5
}
