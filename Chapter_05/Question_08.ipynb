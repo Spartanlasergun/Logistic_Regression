{
 "cells": [
  {
   "cell_type": "markdown",
   "id": "22de67c1-8813-46f6-92f4-44d7e6b602a2",
   "metadata": {},
   "source": [
    "# Question 8\n",
    "-----"
   ]
  },
  {
   "cell_type": "markdown",
   "id": "9429f585-60dd-404f-bfee-c23459a52c3b",
   "metadata": {},
   "source": [
    "$$H_0: \\beta_{1} = 1$$\n",
    "\n",
    "$$Wald = \\frac{\\beta_{1}}{se_{\\beta_{1}}}$$"
   ]
  },
  {
   "cell_type": "code",
   "execution_count": 2,
   "id": "b99499d5-8e11-4493-8ad7-7993d3aa5e40",
   "metadata": {},
   "outputs": [
    {
     "name": "stdout",
     "output_type": "stream",
     "text": [
      "Wald Statistic = 1.6982954545454547\n"
     ]
    }
   ],
   "source": [
    "wald = 0.5978 / 0.352\n",
    "print(f\"Wald Statistic = {wald}\")"
   ]
  },
  {
   "cell_type": "code",
   "execution_count": 3,
   "id": "d946b7fb-ac54-4a32-9053-0604da86f76e",
   "metadata": {},
   "outputs": [
    {
     "name": "stdout",
     "output_type": "stream",
     "text": [
      "one-tailed p = 0.0447\n"
     ]
    }
   ],
   "source": [
    "p = 0.0894 / 2\n",
    "print(f\"one-tailed p = {p}\")"
   ]
  },
  {
   "cell_type": "markdown",
   "id": "dd74a587-cd7c-4cea-9499-68fe86cbd226",
   "metadata": {},
   "source": [
    "Hence the statistic is significant."
   ]
  }
 ],
 "metadata": {
  "kernelspec": {
   "display_name": "Python 3 (ipykernel)",
   "language": "python",
   "name": "python3"
  },
  "language_info": {
   "codemirror_mode": {
    "name": "ipython",
    "version": 3
   },
   "file_extension": ".py",
   "mimetype": "text/x-python",
   "name": "python",
   "nbconvert_exporter": "python",
   "pygments_lexer": "ipython3",
   "version": "3.12.3"
  }
 },
 "nbformat": 4,
 "nbformat_minor": 5
}
