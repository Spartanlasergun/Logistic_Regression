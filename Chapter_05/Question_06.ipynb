{
 "cells": [
  {
   "cell_type": "markdown",
   "id": "45813e15-e6ad-4290-a4c7-ee1a001010c7",
   "metadata": {},
   "source": [
    "# Question 6\n",
    "-----"
   ]
  },
  {
   "cell_type": "markdown",
   "id": "ee91742f-9759-4a2a-90a5-8cdb80345b72",
   "metadata": {},
   "source": [
    "The Wald test and Likelihood tests will likely be the same because the sample is very large and the number of parameters is relatively small."
   ]
  }
 ],
 "metadata": {
  "kernelspec": {
   "display_name": "Python 3 (ipykernel)",
   "language": "python",
   "name": "python3"
  },
  "language_info": {
   "codemirror_mode": {
    "name": "ipython",
    "version": 3
   },
   "file_extension": ".py",
   "mimetype": "text/x-python",
   "name": "python",
   "nbconvert_exporter": "python",
   "pygments_lexer": "ipython3",
   "version": "3.12.3"
  }
 },
 "nbformat": 4,
 "nbformat_minor": 5
}
