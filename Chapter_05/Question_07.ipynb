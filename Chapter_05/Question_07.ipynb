{
 "cells": [
  {
   "cell_type": "markdown",
   "id": "5bf90eba-6dc0-491a-852f-21b441e38dda",
   "metadata": {},
   "source": [
    "# Question 7\n",
    "-----"
   ]
  },
  {
   "cell_type": "markdown",
   "id": "0c3f6fce-4d08-4d04-9e4a-47e24dc4c27c",
   "metadata": {},
   "source": [
    "95% Confidence Interval for model 1, HT:\n",
    "\n",
    "$$e^{\\hat \\beta_{1} \\pm 1.96 se_{\\beta_{1}}}$$"
   ]
  }
 ],
 "metadata": {
  "kernelspec": {
   "display_name": "Python 3 (ipykernel)",
   "language": "python",
   "name": "python3"
  },
  "language_info": {
   "codemirror_mode": {
    "name": "ipython",
    "version": 3
   },
   "file_extension": ".py",
   "mimetype": "text/x-python",
   "name": "python",
   "nbconvert_exporter": "python",
   "pygments_lexer": "ipython3",
   "version": "3.12.3"
  }
 },
 "nbformat": 4,
 "nbformat_minor": 5
}
