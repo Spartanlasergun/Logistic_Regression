{
 "cells": [
  {
   "cell_type": "markdown",
   "id": "e9edf3d9-9e6a-42b1-90a0-25325ee1d51a",
   "metadata": {},
   "source": [
    "# Question 5\n",
    "-----"
   ]
  },
  {
   "cell_type": "markdown",
   "id": "cedc827a-aa20-493e-bcd4-6aa49003bb9c",
   "metadata": {},
   "source": [
    "$$H_{0}: \\beta_{1} = 0$$\n",
    "\n",
    "Test Statistic:\n",
    "\n",
    "$$Z = \\frac{\\beta_{1}}{se_{\\beta_{1}}}$$\n",
    "\n",
    "Hence distribution is approximately normal."
   ]
  }
 ],
 "metadata": {
  "kernelspec": {
   "display_name": "Python 3 (ipykernel)",
   "language": "python",
   "name": "python3"
  },
  "language_info": {
   "codemirror_mode": {
    "name": "ipython",
    "version": 3
   },
   "file_extension": ".py",
   "mimetype": "text/x-python",
   "name": "python",
   "nbconvert_exporter": "python",
   "pygments_lexer": "ipython3",
   "version": "3.12.3"
  }
 },
 "nbformat": 4,
 "nbformat_minor": 5
}
