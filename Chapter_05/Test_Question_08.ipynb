{
 "cells": [
  {
   "cell_type": "markdown",
   "id": "13512c32-f85c-4200-af70-04f90a6cc70c",
   "metadata": {},
   "source": [
    "# Test Question 8\n",
    "-----"
   ]
  },
  {
   "cell_type": "code",
   "execution_count": 1,
   "id": "eac7a37c-4c35-4fc8-b1f7-cd8771f3e34c",
   "metadata": {},
   "outputs": [
    {
     "name": "stdout",
     "output_type": "stream",
     "text": [
      "ROR(NS = 0) = 6.945541896387327\n",
      "ROR(NS = 1) = 2.282565432253806\n"
     ]
    }
   ],
   "source": [
    "import math\n",
    "\n",
    "def ROR(NS):\n",
    "    ror = math.exp(1.9381 + (-1.1128 * NS))\n",
    "    return ror\n",
    "\n",
    "NS_0 = ROR(0)\n",
    "NS_1 = ROR(1)\n",
    "print(f\"ROR(NS = 0) = {NS_0}\")\n",
    "print(f\"ROR(NS = 1) = {NS_1}\")"
   ]
  }
 ],
 "metadata": {
  "kernelspec": {
   "display_name": "Python 3 (ipykernel)",
   "language": "python",
   "name": "python3"
  },
  "language_info": {
   "codemirror_mode": {
    "name": "ipython",
    "version": 3
   },
   "file_extension": ".py",
   "mimetype": "text/x-python",
   "name": "python",
   "nbconvert_exporter": "python",
   "pygments_lexer": "ipython3",
   "version": "3.12.3"
  }
 },
 "nbformat": 4,
 "nbformat_minor": 5
}
