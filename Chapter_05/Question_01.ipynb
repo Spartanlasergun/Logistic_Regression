{
 "cells": [
  {
   "cell_type": "markdown",
   "id": "83219d1b-6ffe-4368-b7c7-33f9c81ebc3c",
   "metadata": {},
   "source": [
    "# Question 1\n",
    "-----"
   ]
  },
  {
   "cell_type": "markdown",
   "id": "8f855355-7326-4148-be48-9fdec8070e6d",
   "metadata": {},
   "source": [
    "$$ logit \\ \\ P(X) = \\alpha + \\beta_{1}(HT) + \\beta_{2}(HS) + \\beta_{3}(CT) + \\beta_{4}(AGE) + \\beta_{5}(SEX) $$"
   ]
  }
 ],
 "metadata": {
  "kernelspec": {
   "display_name": "Python 3 (ipykernel)",
   "language": "python",
   "name": "python3"
  },
  "language_info": {
   "codemirror_mode": {
    "name": "ipython",
    "version": 3
   },
   "file_extension": ".py",
   "mimetype": "text/x-python",
   "name": "python",
   "nbconvert_exporter": "python",
   "pygments_lexer": "ipython3",
   "version": "3.12.3"
  }
 },
 "nbformat": 4,
 "nbformat_minor": 5
}
