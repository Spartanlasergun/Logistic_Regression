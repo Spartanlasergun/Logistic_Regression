{
 "cells": [
  {
   "cell_type": "markdown",
   "id": "8bc42372-ab83-4907-af27-1fe258102f1b",
   "metadata": {},
   "source": [
    "# Question 10\n",
    "-----"
   ]
  },
  {
   "cell_type": "markdown",
   "id": "70824524-7005-4a0a-9704-ba606e6f2c1b",
   "metadata": {},
   "source": [
    "$$H_{0}: \\beta_{cc} = 0$$\n",
    "\n",
    "$$ -2\\ln(\\hat{L}_{1}) - (-2\\ln(\\hat{L}_{2})) = (-2\\ln) \\frac{\\hat L_{1}} {\\hat L_{2}} $$"
   ]
  },
  {
   "cell_type": "code",
   "execution_count": 1,
   "id": "4a626d5a-6fc1-401c-b0aa-1fd4f9e4293b",
   "metadata": {},
   "outputs": [
    {
     "name": "stdout",
     "output_type": "stream",
     "text": [
      "LR = 47.39999999999998\n"
     ]
    }
   ],
   "source": [
    "LR = 404.4 - 357\n",
    "print(f\"LR = {LR}\")"
   ]
  },
  {
   "cell_type": "code",
   "execution_count": 2,
   "id": "069ac827-edff-495c-a403-ccbf6dafdce2",
   "metadata": {},
   "outputs": [],
   "source": [
    "import math\n",
    "from scipy.special import gamma\n",
    "from scipy.integrate import quad\n",
    "\n",
    "class chi:\n",
    "    def __init__(self, nu):\n",
    "        self.a = (nu / 2) - 1\n",
    "        self.b = nu / 2\n",
    "        self.c = gamma(nu / 2)\n",
    "      \n",
    "    def chi_pdf(self, x):\n",
    "        return (pow(x, self.a) * math.exp((-1 * x) / 2)) / ((2**(self.b)) * self.c)\n",
    "\n",
    "    def integrate(self, upper_limit):\n",
    "        result, error = quad(self.chi_pdf, 0, upper_limit)\n",
    "        return result"
   ]
  },
  {
   "cell_type": "code",
   "execution_count": 3,
   "id": "bed3fb46-d0c1-4c13-bdf0-9213839232b1",
   "metadata": {},
   "outputs": [
    {
     "name": "stdout",
     "output_type": "stream",
     "text": [
      "5.750622200650923e-12\n"
     ]
    }
   ],
   "source": [
    "chi_dist = chi(1)\n",
    "stat = 1 - (chi_dist.integrate(LR))\n",
    "print(stat)"
   ]
  },
  {
   "cell_type": "markdown",
   "id": "7403c885-f369-4e08-b921-2f4f69e58f47",
   "metadata": {},
   "source": [
    "P value is extremely close to zero for the LR statistic. Hence the null hypothesis is rejected; the effect of CC is significant in the model."
   ]
  }
 ],
 "metadata": {
  "kernelspec": {
   "display_name": "Python 3 (ipykernel)",
   "language": "python",
   "name": "python3"
  },
  "language_info": {
   "codemirror_mode": {
    "name": "ipython",
    "version": 3
   },
   "file_extension": ".py",
   "mimetype": "text/x-python",
   "name": "python",
   "nbconvert_exporter": "python",
   "pygments_lexer": "ipython3",
   "version": "3.12.3"
  }
 },
 "nbformat": 4,
 "nbformat_minor": 5
}
