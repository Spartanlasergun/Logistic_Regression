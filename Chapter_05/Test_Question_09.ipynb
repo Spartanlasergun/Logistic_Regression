{
 "cells": [
  {
   "cell_type": "markdown",
   "id": "173f9459-5dac-4cf3-b5ec-7e4d759718a1",
   "metadata": {},
   "source": [
    "# Test Question 9\n",
    "-----"
   ]
  },
  {
   "cell_type": "markdown",
   "id": "4388048e-f1a9-42d1-bc19-4a37244bf7d3",
   "metadata": {},
   "source": [
    "$$C.I. = e^{\\hat l \\pm 1.96\\sqrt{\\hat{var}}}$$"
   ]
  },
  {
   "cell_type": "markdown",
   "id": "7d5e5c18-22c8-4c10-8005-82b68dcc7b7b",
   "metadata": {},
   "source": [
    "$$var(l) = var(\\beta_{SMK}) + 1^{2}var(\\delta_{SMK*NS}) + 2(1)cov(\\beta_{SMK}, \\delta_{SMK*NS}) $$"
   ]
  }
 ],
 "metadata": {
  "kernelspec": {
   "display_name": "Python 3 (ipykernel)",
   "language": "python",
   "name": "python3"
  },
  "language_info": {
   "codemirror_mode": {
    "name": "ipython",
    "version": 3
   },
   "file_extension": ".py",
   "mimetype": "text/x-python",
   "name": "python",
   "nbconvert_exporter": "python",
   "pygments_lexer": "ipython3",
   "version": "3.12.3"
  }
 },
 "nbformat": 4,
 "nbformat_minor": 5
}
