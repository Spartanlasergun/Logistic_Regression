{
 "cells": [
  {
   "cell_type": "markdown",
   "id": "14a8a0db-1ec7-46f9-90e7-9f149da4b3ce",
   "metadata": {},
   "source": [
    "# Question 4\n",
    "-----"
   ]
  },
  {
   "cell_type": "markdown",
   "id": "eaa8f908-e1cf-4ef5-91c9-fde286c2e21a",
   "metadata": {},
   "source": [
    "$$H_0: \\beta_{1} = 0$$\n",
    "\n",
    "$$ -2\\ln(\\hat{L}_{1}) - (-2\\ln(\\hat{L}_{2})) = (-2\\ln) \\frac{\\hat L_{1}} {\\hat L_{2}} $$ \n",
    "\n",
    "The distribution is approximately chi-squared with $1$ degree of freedom ($df = 1$)."
   ]
  }
 ],
 "metadata": {
  "kernelspec": {
   "display_name": "Python 3 (ipykernel)",
   "language": "python",
   "name": "python3"
  },
  "language_info": {
   "codemirror_mode": {
    "name": "ipython",
    "version": 3
   },
   "file_extension": ".py",
   "mimetype": "text/x-python",
   "name": "python",
   "nbconvert_exporter": "python",
   "pygments_lexer": "ipython3",
   "version": "3.12.3"
  }
 },
 "nbformat": 4,
 "nbformat_minor": 5
}
