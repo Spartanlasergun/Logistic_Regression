{
 "cells": [
  {
   "cell_type": "markdown",
   "id": "c5945d8e-7007-4913-921f-6c74d9490fb0",
   "metadata": {},
   "source": [
    "# Test Question 2\n",
    "-----"
   ]
  },
  {
   "cell_type": "markdown",
   "id": "047c7f7b-da00-45fc-bf7d-ce461462db99",
   "metadata": {},
   "source": [
    "Age and Socioeconomic variables are missing because they are controlled variables."
   ]
  }
 ],
 "metadata": {
  "kernelspec": {
   "display_name": "Python 3 (ipykernel)",
   "language": "python",
   "name": "python3"
  },
  "language_info": {
   "codemirror_mode": {
    "name": "ipython",
    "version": 3
   },
   "file_extension": ".py",
   "mimetype": "text/x-python",
   "name": "python",
   "nbconvert_exporter": "python",
   "pygments_lexer": "ipython3",
   "version": "3.12.3"
  }
 },
 "nbformat": 4,
 "nbformat_minor": 5
}
