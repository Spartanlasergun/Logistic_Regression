{
 "cells": [
  {
   "cell_type": "markdown",
   "id": "4b0d686f-9a9d-4500-83ab-3ef0f52811b9",
   "metadata": {},
   "source": [
    "# Test Question 10\n",
    "-----"
   ]
  },
  {
   "cell_type": "code",
   "execution_count": 1,
   "id": "88d3575c-9806-415a-be34-8957cb9ac175",
   "metadata": {},
   "outputs": [
    {
     "name": "stdout",
     "output_type": "stream",
     "text": [
      "0.19637353000000007\n"
     ]
    }
   ],
   "source": [
    "var = (0.4312**2) + (0.5997**2) + (2 * (-0.1746))\n",
    "print(var)"
   ]
  },
  {
   "cell_type": "code",
   "execution_count": 2,
   "id": "cc49904b-d47d-4c64-9214-ddab570d58bc",
   "metadata": {},
   "outputs": [
    {
     "name": "stdout",
     "output_type": "stream",
     "text": [
      "0.9576667321579899 < beta < 5.440415519895572\n"
     ]
    }
   ],
   "source": [
    "import math\n",
    "l = 1.9381 + (-1.1128 * 1)\n",
    "lower_limit = math.exp(l - (1.96 * math.sqrt(var)))\n",
    "upper_limit = math.exp(l + (1.96 * math.sqrt(var)))\n",
    "print(f\"{lower_limit} < beta < {upper_limit}\")"
   ]
  }
 ],
 "metadata": {
  "kernelspec": {
   "display_name": "Python 3 (ipykernel)",
   "language": "python",
   "name": "python3"
  },
  "language_info": {
   "codemirror_mode": {
    "name": "ipython",
    "version": 3
   },
   "file_extension": ".py",
   "mimetype": "text/x-python",
   "name": "python",
   "nbconvert_exporter": "python",
   "pygments_lexer": "ipython3",
   "version": "3.12.3"
  }
 },
 "nbformat": 4,
 "nbformat_minor": 5
}
