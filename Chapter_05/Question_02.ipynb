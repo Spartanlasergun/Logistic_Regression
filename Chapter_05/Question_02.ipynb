{
 "cells": [
  {
   "cell_type": "markdown",
   "id": "142766e9-5088-45f9-85cb-6cbc1ac7d62b",
   "metadata": {},
   "source": [
    "# Question 2\n",
    "-----"
   ]
  },
  {
   "cell_type": "markdown",
   "id": "d95ea6e5-900e-4e41-9f01-feb32a611d84",
   "metadata": {},
   "source": [
    "$$ logit \\ \\ P(X) = \\alpha + \\beta_{1}(HT) + \\beta_{2}(HS) + \\beta_{3}(CT) + \\beta_{4}(AGE) + \\beta_{5}(SEX) + \\beta_{6}(HT * HS) + \\beta_{7}(HT * CT) + \\beta_{8}(HT * AGE) + \\beta_{9}(HT * SEX) + \\beta_{10}(HS * CT) + \\beta_{11}(HS * AGE) + \\beta_{12}(HS * SEX) + \\beta_{13}(CT * AGE) + \\beta_{14}(CT * SEX) + \\beta_{15}(AGE * SEX) $$"
   ]
  }
 ],
 "metadata": {
  "kernelspec": {
   "display_name": "Python 3 (ipykernel)",
   "language": "python",
   "name": "python3"
  },
  "language_info": {
   "codemirror_mode": {
    "name": "ipython",
    "version": 3
   },
   "file_extension": ".py",
   "mimetype": "text/x-python",
   "name": "python",
   "nbconvert_exporter": "python",
   "pygments_lexer": "ipython3",
   "version": "3.12.3"
  }
 },
 "nbformat": 4,
 "nbformat_minor": 5
}
