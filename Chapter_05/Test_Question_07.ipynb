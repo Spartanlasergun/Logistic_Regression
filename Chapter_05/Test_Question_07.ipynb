{
 "cells": [
  {
   "cell_type": "markdown",
   "id": "bc2b1ac2-77b2-408a-902a-c9505a33bea9",
   "metadata": {},
   "source": [
    "# Test Question 7\n",
    "-----"
   ]
  },
  {
   "cell_type": "markdown",
   "id": "3353825c-7d46-41af-b28e-3f93138bf942",
   "metadata": {},
   "source": [
    "$$ ROR = e^{1.9381 + (-1.1128(NS))}$$"
   ]
  }
 ],
 "metadata": {
  "kernelspec": {
   "display_name": "Python 3 (ipykernel)",
   "language": "python",
   "name": "python3"
  },
  "language_info": {
   "codemirror_mode": {
    "name": "ipython",
    "version": 3
   },
   "file_extension": ".py",
   "mimetype": "text/x-python",
   "name": "python",
   "nbconvert_exporter": "python",
   "pygments_lexer": "ipython3",
   "version": "3.12.3"
  }
 },
 "nbformat": 4,
 "nbformat_minor": 5
}
