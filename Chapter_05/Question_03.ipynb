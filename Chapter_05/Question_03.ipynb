{
 "cells": [
  {
   "cell_type": "markdown",
   "id": "409797ab-fdeb-4650-9754-3a4d64e94e85",
   "metadata": {},
   "source": [
    "# Question 3\n",
    "-----"
   ]
  },
  {
   "cell_type": "markdown",
   "id": "ba8b6565-13e3-45e7-be84-337318bcd3bf",
   "metadata": {},
   "source": [
    "$$ H_{0}: \\beta_{6} = \\beta_{7} = ... \\beta_{15} = 0 $$\n",
    "\n",
    "$$ -2\\ln(\\hat{L}_{1}) - (-2\\ln(\\hat{L}_{2})) = (-2\\ln) \\frac{\\hat L_{1}} {\\hat L_{2}} $$ \n",
    "\n",
    "where $\\frac{\\hat L_{1}}{\\hat L_{2}}$ is the ratio of likelihoods. \n",
    "\n",
    "The LR distribution is approximately chi-squared with $10$ degrees of freedon ($df = 10$)"
   ]
  }
 ],
 "metadata": {
  "kernelspec": {
   "display_name": "Python 3 (ipykernel)",
   "language": "python",
   "name": "python3"
  },
  "language_info": {
   "codemirror_mode": {
    "name": "ipython",
    "version": 3
   },
   "file_extension": ".py",
   "mimetype": "text/x-python",
   "name": "python",
   "nbconvert_exporter": "python",
   "pygments_lexer": "ipython3",
   "version": "3.12.3"
  }
 },
 "nbformat": 4,
 "nbformat_minor": 5
}
