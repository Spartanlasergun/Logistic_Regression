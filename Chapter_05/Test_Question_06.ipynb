{
 "cells": [
  {
   "cell_type": "markdown",
   "id": "48ace5db-86ee-4a63-a144-0d5ab0c7dc81",
   "metadata": {},
   "source": [
    "# Test Question 6\n",
    "-----"
   ]
  },
  {
   "cell_type": "code",
   "execution_count": 1,
   "id": "64b5e876-cf54-476c-800f-71453d37b9b8",
   "metadata": {},
   "outputs": [
    {
     "name": "stdout",
     "output_type": "stream",
     "text": [
      "Wald Stat = -1.855594463898616\n"
     ]
    }
   ],
   "source": [
    "wald = -1.1128 / 0.5997\n",
    "print(f\"Wald Stat = {wald}\")"
   ]
  },
  {
   "cell_type": "code",
   "execution_count": 2,
   "id": "7678c71e-9dc7-4826-98e5-0582e77b3c05",
   "metadata": {},
   "outputs": [
    {
     "name": "stdout",
     "output_type": "stream",
     "text": [
      "chi stat = 3.443230814451192\n"
     ]
    }
   ],
   "source": [
    "chi_stat = wald**2\n",
    "print(f\"chi stat = {chi_stat}\")"
   ]
  },
  {
   "cell_type": "code",
   "execution_count": 3,
   "id": "8465c25b-4083-41cf-a8bf-b05ab25c38d9",
   "metadata": {},
   "outputs": [],
   "source": [
    "import math\n",
    "from scipy.special import gamma\n",
    "from scipy.integrate import quad\n",
    "\n",
    "class chi:\n",
    "    def __init__(self, nu):\n",
    "        self.a = (nu / 2) - 1\n",
    "        self.b = nu / 2\n",
    "        self.c = gamma(nu / 2)\n",
    "      \n",
    "    def chi_pdf(self, x):\n",
    "        return (pow(x, self.a) * math.exp((-1 * x) / 2)) / ((2**(self.b)) * self.c)\n",
    "\n",
    "    def integrate(self, upper_limit):\n",
    "        result, error = quad(self.chi_pdf, 0, upper_limit)\n",
    "        return result"
   ]
  },
  {
   "cell_type": "code",
   "execution_count": 4,
   "id": "4c005989-59e3-40d7-81e3-647292015bf4",
   "metadata": {},
   "outputs": [
    {
     "name": "stdout",
     "output_type": "stream",
     "text": [
      "0.06351138338436646\n"
     ]
    }
   ],
   "source": [
    "chi_dist = chi(1)\n",
    "stat = 1 - chi_dist.integrate(chi_stat)\n",
    "print(stat)"
   ]
  },
  {
   "cell_type": "markdown",
   "id": "bedff53f-cfe7-4c03-9702-adfe73acd9c4",
   "metadata": {},
   "source": [
    "The chi stat is borderline significant"
   ]
  }
 ],
 "metadata": {
  "kernelspec": {
   "display_name": "Python 3 (ipykernel)",
   "language": "python",
   "name": "python3"
  },
  "language_info": {
   "codemirror_mode": {
    "name": "ipython",
    "version": 3
   },
   "file_extension": ".py",
   "mimetype": "text/x-python",
   "name": "python",
   "nbconvert_exporter": "python",
   "pygments_lexer": "ipython3",
   "version": "3.12.3"
  }
 },
 "nbformat": 4,
 "nbformat_minor": 5
}
