{
 "cells": [
  {
   "cell_type": "markdown",
   "id": "28fda33b-9ce5-416f-aac2-5acb78d13f1d",
   "metadata": {},
   "source": [
    "# Question 11\n",
    "-----"
   ]
  },
  {
   "cell_type": "code",
   "execution_count": 1,
   "id": "2819d07f-d094-4d22-852e-aa06f9e46f18",
   "metadata": {},
   "outputs": [
    {
     "name": "stdout",
     "output_type": "stream",
     "text": [
      "Wald Statistic: 4.776223776223776\n"
     ]
    }
   ],
   "source": [
    "wald = 0.0683 / 0.0143\n",
    "print(f\"Wald Statistic: {wald}\")"
   ]
  },
  {
   "cell_type": "code",
   "execution_count": 2,
   "id": "c62a98ee-0313-4e82-95e8-6e613f8cf704",
   "metadata": {},
   "outputs": [
    {
     "name": "stdout",
     "output_type": "stream",
     "text": [
      "Chi-Stat: 22.812313560565304\n"
     ]
    }
   ],
   "source": [
    "wald_sqr = wald**2\n",
    "print(f\"Chi-Stat: {wald_sqr}\")"
   ]
  },
  {
   "cell_type": "markdown",
   "id": "2cf1af7a-fde0-44c4-9d20-b0a5061ed072",
   "metadata": {},
   "source": [
    "The P-Value is extremely close to zero, hence the statistic is significant. Thus, model two is more appropriate as the interaction variable has a significant effect."
   ]
  }
 ],
 "metadata": {
  "kernelspec": {
   "display_name": "Python 3 (ipykernel)",
   "language": "python",
   "name": "python3"
  },
  "language_info": {
   "codemirror_mode": {
    "name": "ipython",
    "version": 3
   },
   "file_extension": ".py",
   "mimetype": "text/x-python",
   "name": "python",
   "nbconvert_exporter": "python",
   "pygments_lexer": "ipython3",
   "version": "3.12.3"
  }
 },
 "nbformat": 4,
 "nbformat_minor": 5
}
