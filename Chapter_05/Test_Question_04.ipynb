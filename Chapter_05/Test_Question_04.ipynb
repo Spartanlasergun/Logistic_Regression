{
 "cells": [
  {
   "cell_type": "markdown",
   "id": "f3ec6ab0-7247-4109-9a81-35086e0ee5ed",
   "metadata": {},
   "source": [
    "# Test Question 4\n",
    "-----"
   ]
  },
  {
   "cell_type": "code",
   "execution_count": 1,
   "id": "8204d8b2-f451-45c0-9905-3149c58cabcd",
   "metadata": {},
   "outputs": [
    {
     "name": "stdout",
     "output_type": "stream",
     "text": [
      "OR = 4.204267160014698\n",
      "2.260007201989196 < Beta < 7.82115310837074\n"
     ]
    }
   ],
   "source": [
    "import math\n",
    "OR = math.exp(1.4361)\n",
    "lower_limit = math.exp(1.4361 - (1.96 * 0.3167))\n",
    "upper_limit = math.exp(1.4361 + (1.96 * 0.3167))\n",
    "print(f\"OR = {OR}\")\n",
    "print(f\"{lower_limit} < Beta < {upper_limit}\")"
   ]
  }
 ],
 "metadata": {
  "kernelspec": {
   "display_name": "Python 3 (ipykernel)",
   "language": "python",
   "name": "python3"
  },
  "language_info": {
   "codemirror_mode": {
    "name": "ipython",
    "version": 3
   },
   "file_extension": ".py",
   "mimetype": "text/x-python",
   "name": "python",
   "nbconvert_exporter": "python",
   "pygments_lexer": "ipython3",
   "version": "3.12.3"
  }
 },
 "nbformat": 4,
 "nbformat_minor": 5
}
