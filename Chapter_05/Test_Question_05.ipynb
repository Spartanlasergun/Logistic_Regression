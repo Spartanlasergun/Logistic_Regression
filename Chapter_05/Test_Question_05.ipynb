{
 "cells": [
  {
   "cell_type": "markdown",
   "id": "db199395-a2ff-4d25-bb3d-86f45843ad42",
   "metadata": {},
   "source": [
    "# Test Question 5\n",
    "-----"
   ]
  },
  {
   "cell_type": "markdown",
   "id": "931f15b0-2649-41b6-879b-6efbc972abe3",
   "metadata": {},
   "source": [
    "$$H_{0}: \\beta_{SMK * NS} = 0$$\n",
    "\n",
    "Distribution is approximately chi-squared with $1$ degree of freedom."
   ]
  },
  {
   "cell_type": "code",
   "execution_count": 1,
   "id": "3f98cb8b-eaa5-4dd3-a462-2997ed9444e5",
   "metadata": {},
   "outputs": [
    {
     "name": "stdout",
     "output_type": "stream",
     "text": [
      "LR = 3.509999999999991\n"
     ]
    }
   ],
   "source": [
    "LR = 174.97 - 171.46\n",
    "print(f\"LR = {LR}\")"
   ]
  },
  {
   "cell_type": "code",
   "execution_count": 2,
   "id": "2c12b112-cbb5-4bf8-b7be-148263741b39",
   "metadata": {},
   "outputs": [],
   "source": [
    "import math\n",
    "from scipy.special import gamma\n",
    "from scipy.integrate import quad\n",
    "\n",
    "class chi:\n",
    "    def __init__(self, nu):\n",
    "        self.a = (nu / 2) - 1\n",
    "        self.b = nu / 2\n",
    "        self.c = gamma(nu / 2)\n",
    "      \n",
    "    def chi_pdf(self, x):\n",
    "        return (pow(x, self.a) * math.exp((-1 * x) / 2)) / ((2**(self.b)) * self.c)\n",
    "\n",
    "    def integrate(self, upper_limit):\n",
    "        result, error = quad(self.chi_pdf, 0, upper_limit)\n",
    "        return result"
   ]
  },
  {
   "cell_type": "code",
   "execution_count": 3,
   "id": "5883c560-51ed-4250-8b12-c4b9cb98760a",
   "metadata": {},
   "outputs": [
    {
     "name": "stdout",
     "output_type": "stream",
     "text": [
      "0.06099945558704023\n"
     ]
    }
   ],
   "source": [
    "chi_dist = chi(1)\n",
    "chi_stat = 1 - chi_dist.integrate(LR)\n",
    "print(chi_stat)"
   ]
  },
  {
   "cell_type": "markdown",
   "id": "996545ed-d64c-4135-b8c0-c6f0c8cf7c02",
   "metadata": {},
   "source": [
    "Hence the interaction variable is not significant at the 1% level."
   ]
  }
 ],
 "metadata": {
  "kernelspec": {
   "display_name": "Python 3 (ipykernel)",
   "language": "python",
   "name": "python3"
  },
  "language_info": {
   "codemirror_mode": {
    "name": "ipython",
    "version": 3
   },
   "file_extension": ".py",
   "mimetype": "text/x-python",
   "name": "python",
   "nbconvert_exporter": "python",
   "pygments_lexer": "ipython3",
   "version": "3.12.3"
  }
 },
 "nbformat": 4,
 "nbformat_minor": 5
}
