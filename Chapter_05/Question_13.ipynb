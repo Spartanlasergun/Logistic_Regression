{
 "cells": [
  {
   "cell_type": "markdown",
   "id": "98b48f22-e5d4-479f-be06-2ec7066fe4fa",
   "metadata": {},
   "source": [
    "# Question 13\n",
    "-----"
   ]
  },
  {
   "cell_type": "code",
   "execution_count": 1,
   "id": "79ceda65-b88a-4d51-9186-b1668f5e8529",
   "metadata": {},
   "outputs": [
    {
     "name": "stdout",
     "output_type": "stream",
     "text": [
      "OR(CHL = 220): 2.573070672790681\n",
      "OR(CHL = 240): 10.085512619396473\n"
     ]
    }
   ],
   "source": [
    "import math\n",
    "def OR(CHL):\n",
    "    OR = math.exp((-14.0809) + (0.0683 * CHL))\n",
    "    return OR\n",
    "\n",
    "CHL_220 = OR(220)\n",
    "CHL_240 = OR(240)\n",
    "print(f\"OR(CHL = 220): {CHL_220}\")\n",
    "print(f\"OR(CHL = 240): {CHL_240}\")"
   ]
  }
 ],
 "metadata": {
  "kernelspec": {
   "display_name": "Python 3 (ipykernel)",
   "language": "python",
   "name": "python3"
  },
  "language_info": {
   "codemirror_mode": {
    "name": "ipython",
    "version": 3
   },
   "file_extension": ".py",
   "mimetype": "text/x-python",
   "name": "python",
   "nbconvert_exporter": "python",
   "pygments_lexer": "ipython3",
   "version": "3.12.3"
  }
 },
 "nbformat": 4,
 "nbformat_minor": 5
}
