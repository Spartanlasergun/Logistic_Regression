{
 "cells": [
  {
   "cell_type": "markdown",
   "id": "4ebf9aef-a8d8-4ce1-a5e1-9a87b64a8c34",
   "metadata": {},
   "source": [
    "# Question 9\n",
    "-----"
   ]
  },
  {
   "cell_type": "code",
   "execution_count": 1,
   "id": "eb770848-ecd5-4e1d-9afc-e983283fb8c0",
   "metadata": {},
   "outputs": [
    {
     "name": "stdout",
     "output_type": "stream",
     "text": [
      "OR = 1.818114545325271\n"
     ]
    }
   ],
   "source": [
    "import math\n",
    "\n",
    "OR = math.exp(0.5978)\n",
    "print(f\"OR = {OR}\")"
   ]
  },
  {
   "cell_type": "code",
   "execution_count": 2,
   "id": "c6d72a81-a08f-4b73-8ab3-d62172695844",
   "metadata": {},
   "outputs": [
    {
     "name": "stdout",
     "output_type": "stream",
     "text": [
      "95% CI: 0.9119957034940394 < OR < 3.6245132375724194\n"
     ]
    }
   ],
   "source": [
    "lower_limit = math.exp(0.5978 - (1.96 * 0.352))\n",
    "upper_limit = math.exp(0.5978 + (1.96 * 0.352))\n",
    "print(f\"95% CI: {lower_limit} < OR < {upper_limit}\")"
   ]
  }
 ],
 "metadata": {
  "kernelspec": {
   "display_name": "Python 3 (ipykernel)",
   "language": "python",
   "name": "python3"
  },
  "language_info": {
   "codemirror_mode": {
    "name": "ipython",
    "version": 3
   },
   "file_extension": ".py",
   "mimetype": "text/x-python",
   "name": "python",
   "nbconvert_exporter": "python",
   "pygments_lexer": "ipython3",
   "version": "3.12.3"
  }
 },
 "nbformat": 4,
 "nbformat_minor": 5
}
