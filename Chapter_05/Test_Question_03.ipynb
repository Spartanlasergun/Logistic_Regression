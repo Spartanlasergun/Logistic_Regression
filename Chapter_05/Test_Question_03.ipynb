{
 "cells": [
  {
   "cell_type": "markdown",
   "id": "4bf3ee3c-e8db-4a7d-a337-a90e73422cd9",
   "metadata": {},
   "source": [
    "# Test Question 3\n",
    "-----"
   ]
  },
  {
   "cell_type": "markdown",
   "id": "c79188f1-d66a-4412-828b-8dcfe169df5d",
   "metadata": {},
   "source": [
    "$$ H_{0}: \\beta_{SMK} = 0$$"
   ]
  },
  {
   "cell_type": "code",
   "execution_count": 1,
   "id": "56a29997-9583-4421-b3f9-3cbf6c9ac32a",
   "metadata": {},
   "outputs": [
    {
     "name": "stdout",
     "output_type": "stream",
     "text": [
      "OR = 4.204267160014698\n"
     ]
    }
   ],
   "source": [
    "import math\n",
    "\n",
    "OR = math.exp(1.4361)\n",
    "print(f\"OR = {OR}\")"
   ]
  },
  {
   "cell_type": "code",
   "execution_count": 2,
   "id": "b120e93d-81c3-4da4-bde3-9c01623ce010",
   "metadata": {},
   "outputs": [
    {
     "name": "stdout",
     "output_type": "stream",
     "text": [
      "Wald Stat = 4.5345753078623305\n"
     ]
    }
   ],
   "source": [
    "wald = 1.4361 / 0.3167\n",
    "print(f\"Wald Stat = {wald}\")"
   ]
  },
  {
   "cell_type": "code",
   "execution_count": 3,
   "id": "043e24cd-193e-4dac-acd6-e480a00a0b95",
   "metadata": {},
   "outputs": [
    {
     "name": "stdout",
     "output_type": "stream",
     "text": [
      "Chi Stat = 20.56237322267475\n"
     ]
    }
   ],
   "source": [
    "chi_stat = wald**2\n",
    "print(f\"Chi Stat = {chi_stat}\")"
   ]
  },
  {
   "cell_type": "markdown",
   "id": "39e08f09-ead8-46f1-bf38-f0e1dab74e2b",
   "metadata": {},
   "source": [
    "The statistic is significant"
   ]
  }
 ],
 "metadata": {
  "kernelspec": {
   "display_name": "Python 3 (ipykernel)",
   "language": "python",
   "name": "python3"
  },
  "language_info": {
   "codemirror_mode": {
    "name": "ipython",
    "version": 3
   },
   "file_extension": ".py",
   "mimetype": "text/x-python",
   "name": "python",
   "nbconvert_exporter": "python",
   "pygments_lexer": "ipython3",
   "version": "3.12.3"
  }
 },
 "nbformat": 4,
 "nbformat_minor": 5
}
