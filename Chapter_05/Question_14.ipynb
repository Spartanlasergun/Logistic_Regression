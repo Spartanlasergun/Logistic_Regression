{
 "cells": [
  {
   "cell_type": "markdown",
   "id": "f32d611d-0ba5-46ae-b32f-e57d8e1d1744",
   "metadata": {},
   "source": [
    "# Question 14\n",
    "-----"
   ]
  },
  {
   "cell_type": "markdown",
   "id": "7d472edc-31f1-4a88-a14e-4c03e4b64798",
   "metadata": {},
   "source": [
    "$$ 100(1 - \\alpha) C.I. = e^{\\hat{l} + Z_{1 - \\frac{\\alpha}{2}} \\sqrt{\\hat{VAR}}} $$\n",
    "\n",
    "$$ 100(1 - \\alpha) C.I. = e^{\\hat{l} + 1.96\\sqrt{\\hat{VAR}}} $$"
   ]
  }
 ],
 "metadata": {
  "kernelspec": {
   "display_name": "Python 3 (ipykernel)",
   "language": "python",
   "name": "python3"
  },
  "language_info": {
   "codemirror_mode": {
    "name": "ipython",
    "version": 3
   },
   "file_extension": ".py",
   "mimetype": "text/x-python",
   "name": "python",
   "nbconvert_exporter": "python",
   "pygments_lexer": "ipython3",
   "version": "3.12.3"
  }
 },
 "nbformat": 4,
 "nbformat_minor": 5
}
