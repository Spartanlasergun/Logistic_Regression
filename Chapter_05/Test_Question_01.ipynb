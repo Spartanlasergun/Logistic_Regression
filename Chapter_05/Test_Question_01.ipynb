{
 "cells": [
  {
   "cell_type": "markdown",
   "id": "97733ab2-3057-4edc-a664-c09bf14af5b6",
   "metadata": {},
   "source": [
    "# Test Question 1\n",
    "-----"
   ]
  },
  {
   "cell_type": "markdown",
   "id": "d8a08126-f964-43ac-bf75-ef360d5af4bd",
   "metadata": {},
   "source": [
    "Conditional ML estimation was used."
   ]
  }
 ],
 "metadata": {
  "kernelspec": {
   "display_name": "Python 3 (ipykernel)",
   "language": "python",
   "name": "python3"
  },
  "language_info": {
   "codemirror_mode": {
    "name": "ipython",
    "version": 3
   },
   "file_extension": ".py",
   "mimetype": "text/x-python",
   "name": "python",
   "nbconvert_exporter": "python",
   "pygments_lexer": "ipython3",
   "version": "3.12.3"
  }
 },
 "nbformat": 4,
 "nbformat_minor": 5
}
