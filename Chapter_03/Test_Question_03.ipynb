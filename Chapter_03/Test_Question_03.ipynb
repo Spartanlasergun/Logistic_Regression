{
 "cells": [
  {
   "cell_type": "markdown",
   "id": "3db017ec-bf01-45de-adfa-8d58a6492fc6",
   "metadata": {},
   "source": [
    "# Test Question 3\n",
    "-----"
   ]
  },
  {
   "cell_type": "markdown",
   "id": "7b92eae2-47db-4a90-ad4c-fbb313a41999",
   "metadata": {},
   "source": [
    "a) \n",
    "$$ROR = e^{5\\beta + 5\\delta_{1}(AGE) + 5\\delta_{2}(SEX)}$$"
   ]
  },
  {
   "cell_type": "markdown",
   "id": "b1172a46-3d8c-4ac1-b43b-39bed471914e",
   "metadata": {},
   "source": [
    "b)\n",
    "$$ROR = e^{\\beta + \\delta_{1}(AGE) + \\delta_{2}(SEX)}$$"
   ]
  },
  {
   "cell_type": "markdown",
   "id": "58110235-729f-40c8-aea8-cab01c74994d",
   "metadata": {},
   "source": [
    "c)\n",
    "$$ROR = e^{\\beta + \\delta_{1}(AGE) + \\delta_{2}(SEX)}$$"
   ]
  },
  {
   "cell_type": "markdown",
   "id": "b5e5f722-9984-4231-847d-cdd1e7d2cea6",
   "metadata": {},
   "source": [
    "d) They are exactly the same."
   ]
  },
  {
   "cell_type": "code",
   "execution_count": null,
   "id": "306f16b2-dada-4b7c-b5a6-72a8c4908c2c",
   "metadata": {},
   "outputs": [],
   "source": []
  }
 ],
 "metadata": {
  "kernelspec": {
   "display_name": "Python 3 (ipykernel)",
   "language": "python",
   "name": "python3"
  },
  "language_info": {
   "codemirror_mode": {
    "name": "ipython",
    "version": 3
   },
   "file_extension": ".py",
   "mimetype": "text/x-python",
   "name": "python",
   "nbconvert_exporter": "python",
   "pygments_lexer": "ipython3",
   "version": "3.12.3"
  }
 },
 "nbformat": 4,
 "nbformat_minor": 5
}
