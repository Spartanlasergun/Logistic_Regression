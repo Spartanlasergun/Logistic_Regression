{
 "cells": [
  {
   "cell_type": "markdown",
   "id": "3db017ec-bf01-45de-adfa-8d58a6492fc6",
   "metadata": {},
   "source": [
    "# Test Question 3\n",
    "-----"
   ]
  },
  {
   "cell_type": "markdown",
   "id": "7b92eae2-47db-4a90-ad4c-fbb313a41999",
   "metadata": {},
   "source": [
    "a) \n",
    "$$ROR = e^{5\\beta + 5\\delta_{1}(AGE) + 5\\delta_{2}(SEX)}$$"
   ]
  },
  {
   "cell_type": "code",
   "execution_count": null,
   "id": "010c6bfa-0824-48bd-9a8f-5481d14b8cb6",
   "metadata": {},
   "outputs": [],
   "source": []
  }
 ],
 "metadata": {
  "kernelspec": {
   "display_name": "Python 3 (ipykernel)",
   "language": "python",
   "name": "python3"
  },
  "language_info": {
   "codemirror_mode": {
    "name": "ipython",
    "version": 3
   },
   "file_extension": ".py",
   "mimetype": "text/x-python",
   "name": "python",
   "nbconvert_exporter": "python",
   "pygments_lexer": "ipython3",
   "version": "3.12.3"
  }
 },
 "nbformat": 4,
 "nbformat_minor": 5
}
