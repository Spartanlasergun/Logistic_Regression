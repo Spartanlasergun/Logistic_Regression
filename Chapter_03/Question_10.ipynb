{
 "cells": [
  {
   "cell_type": "markdown",
   "id": "4f5dbe7e-4b51-4738-a9c9-68b98b17ec0d",
   "metadata": {},
   "source": [
    "# Question 10\n",
    "-----"
   ]
  },
  {
   "cell_type": "markdown",
   "id": "7c2291dc-4701-42df-b2ad-96eb7c4a1304",
   "metadata": {},
   "source": [
    "$$ROR = e^{\\beta_{1} + \\delta_{11}(SMK) + \\delta_{12}(AGE) + \\delta_{13}(RACE) + \\delta_{14}(SEX)} $$"
   ]
  }
 ],
 "metadata": {
  "kernelspec": {
   "display_name": "Python 3 (ipykernel)",
   "language": "python",
   "name": "python3"
  },
  "language_info": {
   "codemirror_mode": {
    "name": "ipython",
    "version": 3
   },
   "file_extension": ".py",
   "mimetype": "text/x-python",
   "name": "python",
   "nbconvert_exporter": "python",
   "pygments_lexer": "ipython3",
   "version": "3.12.3"
  }
 },
 "nbformat": 4,
 "nbformat_minor": 5
}
