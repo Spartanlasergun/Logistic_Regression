{
 "cells": [
  {
   "cell_type": "markdown",
   "id": "6de370a1-3f9a-468f-aa90-64cea962c303",
   "metadata": {},
   "source": [
    "# Test Question 1\n",
    "-----"
   ]
  },
  {
   "cell_type": "markdown",
   "id": "62dd5710-cde4-45c9-bc7b-18da3fbda6f8",
   "metadata": {},
   "source": [
    "a) \n",
    "\n",
    "$$ROR = e^{\\beta}$$"
   ]
  },
  {
   "cell_type": "markdown",
   "id": "d7745a97-3f19-4def-afda-e8671b132f2a",
   "metadata": {},
   "source": [
    "b) \n",
    "$$ ROR= e^{-5\\beta}$$"
   ]
  },
  {
   "cell_type": "markdown",
   "id": "c5bd7bb8-9075-4198-81e9-eb3d9551e487",
   "metadata": {},
   "source": [
    "c)\n",
    "$$ ROR = e^{-2\\beta}$$"
   ]
  },
  {
   "cell_type": "markdown",
   "id": "dd71f143-7d04-4745-ad1b-b2ad8ac48001",
   "metadata": {},
   "source": [
    "d) All three estimates have the same value given by:\n",
    "\n",
    "$$ROR = e^{(a-b)\\beta}$$"
   ]
  },
  {
   "cell_type": "markdown",
   "id": "e795c5b7-d0c9-4b63-8638-846ebd04cffc",
   "metadata": {},
   "source": [
    "e) The beta values are unique in each case, but the estimates will still same as long as the appropriate formula is used."
   ]
  }
 ],
 "metadata": {
  "kernelspec": {
   "display_name": "Python 3 (ipykernel)",
   "language": "python",
   "name": "python3"
  },
  "language_info": {
   "codemirror_mode": {
    "name": "ipython",
    "version": 3
   },
   "file_extension": ".py",
   "mimetype": "text/x-python",
   "name": "python",
   "nbconvert_exporter": "python",
   "pygments_lexer": "ipython3",
   "version": "3.12.3"
  }
 },
 "nbformat": 4,
 "nbformat_minor": 5
}
