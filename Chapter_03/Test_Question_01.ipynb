{
 "cells": [
  {
   "cell_type": "markdown",
   "id": "6de370a1-3f9a-468f-aa90-64cea962c303",
   "metadata": {},
   "source": [
    "# Test Question 1\n",
    "-----"
   ]
  },
  {
   "cell_type": "markdown",
   "id": "62dd5710-cde4-45c9-bc7b-18da3fbda6f8",
   "metadata": {},
   "source": [
    "a) \n",
    "\n",
    "$$ROR = e^{\\beta}$$"
   ]
  },
  {
   "cell_type": "markdown",
   "id": "d7745a97-3f19-4def-afda-e8671b132f2a",
   "metadata": {},
   "source": [
    "b) \n",
    "$$ ROR= e^{-5\\beta}$$"
   ]
  },
  {
   "cell_type": "markdown",
   "id": "c5bd7bb8-9075-4198-81e9-eb3d9551e487",
   "metadata": {},
   "source": [
    "c)\n",
    "$$ ROR = e^{-2\\beta}$$"
   ]
  },
  {
   "cell_type": "markdown",
   "id": "dd71f143-7d04-4745-ad1b-b2ad8ac48001",
   "metadata": {},
   "source": [
    "d)\n",
    "$$ROR = e^{(a-b)\\beta}$$"
   ]
  },
  {
   "cell_type": "code",
   "execution_count": null,
   "id": "3ba49f2e-2e69-4d9f-81b6-6a93b4a6146d",
   "metadata": {},
   "outputs": [],
   "source": [
    "e)\n",
    "$$ROR = "
   ]
  }
 ],
 "metadata": {
  "kernelspec": {
   "display_name": "Python 3 (ipykernel)",
   "language": "python",
   "name": "python3"
  },
  "language_info": {
   "codemirror_mode": {
    "name": "ipython",
    "version": 3
   },
   "file_extension": ".py",
   "mimetype": "text/x-python",
   "name": "python",
   "nbconvert_exporter": "python",
   "pygments_lexer": "ipython3",
   "version": "3.12.3"
  }
 },
 "nbformat": 4,
 "nbformat_minor": 5
}
