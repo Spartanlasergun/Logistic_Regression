{
 "cells": [
  {
   "cell_type": "markdown",
   "id": "50fd2e10-0fc4-4ac4-84cf-260104945f17",
   "metadata": {},
   "source": [
    "# Test Question 4\n",
    "-----"
   ]
  },
  {
   "cell_type": "markdown",
   "id": "bbeff05e-1daa-4966-a7e9-91cf0592732b",
   "metadata": {},
   "source": [
    "a)\n",
    "$$ logit P(X) = \\alpha + \\beta_{1}(SSU) + \\beta_{2}(SSU) + \\gamma_{1}(AGE) + \\gamma_ $$"
   ]
  },
  {
   "cell_type": "markdown",
   "id": "e9f62aae-a3cc-4b8a-84cc-abac650e137a",
   "metadata": {},
   "source": [
    "b)\n",
    "$$ROR = e^{(a-b)\\beta}$$"
   ]
  }
 ],
 "metadata": {
  "kernelspec": {
   "display_name": "Python 3 (ipykernel)",
   "language": "python",
   "name": "python3"
  },
  "language_info": {
   "codemirror_mode": {
    "name": "ipython",
    "version": 3
   },
   "file_extension": ".py",
   "mimetype": "text/x-python",
   "name": "python",
   "nbconvert_exporter": "python",
   "pygments_lexer": "ipython3",
   "version": "3.12.3"
  }
 },
 "nbformat": 4,
 "nbformat_minor": 5
}
