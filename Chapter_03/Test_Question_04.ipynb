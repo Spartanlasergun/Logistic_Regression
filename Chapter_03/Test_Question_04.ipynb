{
 "cells": [
  {
   "cell_type": "markdown",
   "id": "50fd2e10-0fc4-4ac4-84cf-260104945f17",
   "metadata": {},
   "source": [
    "# Test Question 4\n",
    "-----"
   ]
  },
  {
   "cell_type": "markdown",
   "id": "bbeff05e-1daa-4966-a7e9-91cf0592732b",
   "metadata": {},
   "source": [
    "a)\n",
    "$$ logit \\ \\ P(X) = \\alpha + \\beta_{1}(SSU_{1}) + \\beta_{2}(SSU_{2}) + \\gamma_{1}(AGE) + \\gamma_{2}(SEX) $$"
   ]
  },
  {
   "cell_type": "markdown",
   "id": "e9f62aae-a3cc-4b8a-84cc-abac650e137a",
   "metadata": {},
   "source": [
    "b)\n",
    "$$ROR = e^{(E_{1}^{*} - E_{1}^{**})\\beta + (E_{2}^{*} - E_{2}^{**})\\beta}$$"
   ]
  },
  {
   "cell_type": "markdown",
   "id": "08828a26-6748-446e-b3c8-015c0fe61125",
   "metadata": {},
   "source": [
    "c)\n",
    "$$ logit \\ \\ P(X) = \\alpha + \\beta_{1}(SSU) + \\beta_{2}(SSU) + \\gamma_{1}(AGE) + \\gamma_{2}(SEX) + SSU_{1}(\\delta_{11}(AGE) + \\delta_{12}(SEX) + SSU_{2}(\\delta_{21}(AGE) + \\delta_{22}(SEX))$$"
   ]
  },
  {
   "cell_type": "markdown",
   "id": "0e3a903a-4464-4222-b9be-deda6622fe6c",
   "metadata": {},
   "source": [
    "d)\n",
    "$$ROR = e^{(SSU_{1}^{*} - SSU_{1}^{**})\\beta + (SSU_{2}^{*} - SSU_{2}^{**})\\beta + (SSU_{1}^{*} - SSU_{1}^{**})(\\delta(11)(AGE) + \\delta_{12}(SEX)) + (SSU_{2}^{*} - SSU_{2}^{**})(\\delta_{21}(AGE) + \\delta_{22}(SEX))}$$"
   ]
  }
 ],
 "metadata": {
  "kernelspec": {
   "display_name": "Python 3 (ipykernel)",
   "language": "python",
   "name": "python3"
  },
  "language_info": {
   "codemirror_mode": {
    "name": "ipython",
    "version": 3
   },
   "file_extension": ".py",
   "mimetype": "text/x-python",
   "name": "python",
   "nbconvert_exporter": "python",
   "pygments_lexer": "ipython3",
   "version": "3.12.3"
  }
 },
 "nbformat": 4,
 "nbformat_minor": 5
}
