{
 "cells": [
  {
   "cell_type": "markdown",
   "id": "3b535274-0823-4a13-a497-7c98ffbca205",
   "metadata": {},
   "source": [
    "# True and False\n",
    "-----"
   ]
  },
  {
   "cell_type": "markdown",
   "id": "a82e2e25-4b5d-42b7-814f-7b083d311a5a",
   "metadata": {},
   "source": [
    "Question 1: False\n",
    "\n",
    "Question 2: True\n",
    "\n",
    "Question 3: False\n",
    "\n",
    "Question 4: True"
   ]
  }
 ],
 "metadata": {
  "kernelspec": {
   "display_name": "Python 3 (ipykernel)",
   "language": "python",
   "name": "python3"
  },
  "language_info": {
   "codemirror_mode": {
    "name": "ipython",
    "version": 3
   },
   "file_extension": ".py",
   "mimetype": "text/x-python",
   "name": "python",
   "nbconvert_exporter": "python",
   "pygments_lexer": "ipython3",
   "version": "3.12.3"
  }
 },
 "nbformat": 4,
 "nbformat_minor": 5
}
