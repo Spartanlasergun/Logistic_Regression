{
 "cells": [
  {
   "cell_type": "markdown",
   "id": "43fb1b41-c304-4c05-b096-2660e6712671",
   "metadata": {},
   "source": [
    "# Question 7\n",
    "-----"
   ]
  },
  {
   "cell_type": "markdown",
   "id": "06fa7d20-03db-4308-aeda-7fa569745010",
   "metadata": {},
   "source": [
    "$$logit \\ \\ P(X) = \\alpha + \\beta_{1}(E_{1}) + \\beta_{2}(E_{2}) + \\gamma_{1}(AGE) + \\gamma_{2}(SMK) + \\gamma_{3}(RACE) + \\gamma_{4}(SEX) $$"
   ]
  }
 ],
 "metadata": {
  "kernelspec": {
   "display_name": "Python 3 (ipykernel)",
   "language": "python",
   "name": "python3"
  },
  "language_info": {
   "codemirror_mode": {
    "name": "ipython",
    "version": 3
   },
   "file_extension": ".py",
   "mimetype": "text/x-python",
   "name": "python",
   "nbconvert_exporter": "python",
   "pygments_lexer": "ipython3",
   "version": "3.12.3"
  }
 },
 "nbformat": 4,
 "nbformat_minor": 5
}
