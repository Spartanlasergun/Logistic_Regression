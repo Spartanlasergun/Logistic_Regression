{
 "cells": [
  {
   "cell_type": "markdown",
   "id": "a08db697-a774-4e0b-a37c-b496e910adb0",
   "metadata": {},
   "source": [
    "# Test Question 5\n",
    "-----"
   ]
  },
  {
   "cell_type": "markdown",
   "id": "38dfea34-1bab-49eb-b458-e7993826ca45",
   "metadata": {},
   "source": [
    "a)\n",
    "$$ROR = e^{10\\beta_{3}}$$"
   ]
  },
  {
   "cell_type": "markdown",
   "id": "2d447215-fd0b-470b-a3f5-1dc034b0d688",
   "metadata": {},
   "source": [
    "b)\n",
    "$$ ROR = e^{195\\beta_{1} + 10\\beta_{3}}$$"
   ]
  }
 ],
 "metadata": {
  "kernelspec": {
   "display_name": "Python 3 (ipykernel)",
   "language": "python",
   "name": "python3"
  },
  "language_info": {
   "codemirror_mode": {
    "name": "ipython",
    "version": 3
   },
   "file_extension": ".py",
   "mimetype": "text/x-python",
   "name": "python",
   "nbconvert_exporter": "python",
   "pygments_lexer": "ipython3",
   "version": "3.12.3"
  }
 },
 "nbformat": 4,
 "nbformat_minor": 5
}
