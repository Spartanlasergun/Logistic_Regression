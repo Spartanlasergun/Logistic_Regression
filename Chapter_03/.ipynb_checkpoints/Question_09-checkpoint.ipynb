{
 "cells": [
  {
   "cell_type": "markdown",
   "id": "e635ee92-047c-4568-8893-15c168dd18c5",
   "metadata": {},
   "source": [
    "# Question 9\n",
    "-----"
   ]
  },
  {
   "cell_type": "markdown",
   "id": "7bcff0f2-301c-407d-b6f1-2fdf1a0460de",
   "metadata": {},
   "source": [
    "$$logit \\ \\ P(X) = \\alpha + \\beta_{1}(E_{1}) + \\beta_{2}(E_{2}) + \\gamma_{1}(AGE) + \\gamma_{2}(SMK) + \\gamma_{3}(RACE) + \\gamma_{4}(SEX) + E_{1}(\\delta_{1}(AGE) + \\delta_{2}(SMK) + \\delta_{3}(RACE) + \\delta_{4}(SEX)) + E_{2}(\\delta_{1}(AGE) + \\delta_{2}(SMK) + \\delta_{3}(RACE) + \\delta_{4}(SEX)) $$"
   ]
  }
 ],
 "metadata": {
  "kernelspec": {
   "display_name": "Python 3 (ipykernel)",
   "language": "python",
   "name": "python3"
  },
  "language_info": {
   "codemirror_mode": {
    "name": "ipython",
    "version": 3
   },
   "file_extension": ".py",
   "mimetype": "text/x-python",
   "name": "python",
   "nbconvert_exporter": "python",
   "pygments_lexer": "ipython3",
   "version": "3.12.3"
  }
 },
 "nbformat": 4,
 "nbformat_minor": 5
}
