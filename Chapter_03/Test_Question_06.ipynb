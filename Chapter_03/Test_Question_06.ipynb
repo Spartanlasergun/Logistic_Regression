{
 "cells": [
  {
   "cell_type": "markdown",
   "id": "bfecb13f-561f-4539-b7bb-33b477d24184",
   "metadata": {},
   "source": [
    "# Test Question 6\n",
    "-----"
   ]
  },
  {
   "cell_type": "markdown",
   "id": "868da610-3d9f-4388-94b3-7ba65b439792",
   "metadata": {},
   "source": [
    "a)\n",
    "$$ROR = e^{10\\beta_{3} + 10(\\delta_{31}(AGE) +  10(\\delta_{32}(RACE)}$$"
   ]
  },
  {
   "cell_type": "markdown",
   "id": "545e9087-d4ee-40ae-9ccf-34749ca34f17",
   "metadata": {},
   "source": [
    "b)\n",
    "\n",
    "$$ ROR = e^{195\\beta_{1} + 10\\beta_{3} + 195\\delta_{11}(AGE) + 195\\delta_{12}(RACE) + 10\\delta{31}(AGE) + 10\\delta_{32}(RACE)}$$"
   ]
  }
 ],
 "metadata": {
  "kernelspec": {
   "display_name": "Python 3 (ipykernel)",
   "language": "python",
   "name": "python3"
  },
  "language_info": {
   "codemirror_mode": {
    "name": "ipython",
    "version": 3
   },
   "file_extension": ".py",
   "mimetype": "text/x-python",
   "name": "python",
   "nbconvert_exporter": "python",
   "pygments_lexer": "ipython3",
   "version": "3.12.3"
  }
 },
 "nbformat": 4,
 "nbformat_minor": 5
}
