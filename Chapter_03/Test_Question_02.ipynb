{
 "cells": [
  {
   "cell_type": "markdown",
   "id": "e384a409-c674-48f8-bd35-53245e9ff45c",
   "metadata": {},
   "source": [
    "# Test Question 2\n",
    "-----"
   ]
  },
  {
   "cell_type": "markdown",
   "id": "a7dc2faa-23c5-4bed-8191-09e0aa61e4c7",
   "metadata": {},
   "source": [
    "a)\n",
    "\n",
    "$$ROR = e^{\\beta + \\delta_{1}(AGE) + \\delta_{2}(CHL)}$$"
   ]
  },
  {
   "cell_type": "markdown",
   "id": "053f0240-0b6c-4105-953e-37c7c54ff19f",
   "metadata": {},
   "source": [
    "b)\n",
    "\n",
    "$$ROR = e^{-5\\beta + (-5)\\delta_{1}(AGE) + (-5)\\delta_{2}(CHL)}$$"
   ]
  },
  {
   "cell_type": "markdown",
   "id": "b0eec57f-d4d6-4b1d-9838-6461ed2c2e6e",
   "metadata": {},
   "source": [
    "c)\n",
    "$$ROR = e^{-2\\beta + (-2)\\delta_{1}(AGE) + (-2)\\delta_{2}(CHL)}$$"
   ]
  },
  {
   "cell_type": "markdown",
   "id": "272de41d-838c-4eff-9565-b6bd937c7966",
   "metadata": {},
   "source": [
    "d) Each estimate should have the same value for specified values of AGE and CHL."
   ]
  },
  {
   "cell_type": "markdown",
   "id": "7e3b345d-de1f-4217-ac08-8d8c166ade9e",
   "metadata": {},
   "source": [
    "e) The beta values are unqiue in each case, but the estimate is the same one the appropriate formula is applied."
   ]
  }
 ],
 "metadata": {
  "kernelspec": {
   "display_name": "Python 3 (ipykernel)",
   "language": "python",
   "name": "python3"
  },
  "language_info": {
   "codemirror_mode": {
    "name": "ipython",
    "version": 3
   },
   "file_extension": ".py",
   "mimetype": "text/x-python",
   "name": "python",
   "nbconvert_exporter": "python",
   "pygments_lexer": "ipython3",
   "version": "3.12.3"
  }
 },
 "nbformat": 4,
 "nbformat_minor": 5
}
