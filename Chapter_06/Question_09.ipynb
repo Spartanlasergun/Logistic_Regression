{
 "cells": [
  {
   "cell_type": "markdown",
   "id": "9042ec53-de69-4a4f-8cbb-00b3a613925d",
   "metadata": {},
   "source": [
    "# Question 9\n",
    "-----"
   ]
  },
  {
   "cell_type": "markdown",
   "id": "d48cb3bd-22c5-4203-a9a5-75562fe2ea25",
   "metadata": {},
   "source": [
    "The exposure \"HT\" along with the confounding variables \"CT\" and \"SEX\" must remain as lower order variables in the model. Tests of significance are not relevant here as the significance of the relationship is confirmed by the interaction test. They are also main effect variables, which are not subject to significance testing via any statistical procedure. There independent significance is determined subjectively by the researcher."
   ]
  }
 ],
 "metadata": {
  "kernelspec": {
   "display_name": "Python 3 (ipykernel)",
   "language": "python",
   "name": "python3"
  },
  "language_info": {
   "codemirror_mode": {
    "name": "ipython",
    "version": 3
   },
   "file_extension": ".py",
   "mimetype": "text/x-python",
   "name": "python",
   "nbconvert_exporter": "python",
   "pygments_lexer": "ipython3",
   "version": "3.12.3"
  }
 },
 "nbformat": 4,
 "nbformat_minor": 5
}
