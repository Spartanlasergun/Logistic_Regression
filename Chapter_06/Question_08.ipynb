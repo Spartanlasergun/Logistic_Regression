{
 "cells": [
  {
   "cell_type": "markdown",
   "id": "56690cf9-5c68-4b2a-9667-e246eb2601c4",
   "metadata": {},
   "source": [
    "# Question 8\n",
    "-----"
   ]
  },
  {
   "cell_type": "markdown",
   "id": "a10d922e-11a8-452f-ad2d-53fdf62c77af",
   "metadata": {},
   "source": [
    "The hierarchical backward elimination procedure begins with the elimination of the highest order terms to the lowest. In the case of the model given in question 3, this would mean eliminating non-significant terms among the interaction terms only. The main effect variables would remain as they are all singular and independent terms. Eliminating main effect terms depends on the judgment of the researcher/mathematician as statistical testing is inappropriate here."
   ]
  }
 ],
 "metadata": {
  "kernelspec": {
   "display_name": "Python 3 (ipykernel)",
   "language": "python",
   "name": "python3"
  },
  "language_info": {
   "codemirror_mode": {
    "name": "ipython",
    "version": 3
   },
   "file_extension": ".py",
   "mimetype": "text/x-python",
   "name": "python",
   "nbconvert_exporter": "python",
   "pygments_lexer": "ipython3",
   "version": "3.12.3"
  }
 },
 "nbformat": 4,
 "nbformat_minor": 5
}
