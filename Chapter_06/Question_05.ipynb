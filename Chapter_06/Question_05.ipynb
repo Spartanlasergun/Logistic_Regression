{
 "cells": [
  {
   "cell_type": "markdown",
   "id": "158916dd-a2de-4e93-a331-dcec4e1cf4e0",
   "metadata": {},
   "source": [
    "# Question 5\n",
    "-----"
   ]
  },
  {
   "cell_type": "markdown",
   "id": "026ca5c0-c3fa-46d2-885e-2c2e20908b47",
   "metadata": {},
   "source": [
    "The specific coding of HT as a dichotomous (0, 1) variable or another format such as (-1, 1) or (-5, 0) means that the effect can be nothing or very heavily weighted in one direction which significantly affects the test results in a way that is difficult to account for."
   ]
  }
 ],
 "metadata": {
  "kernelspec": {
   "display_name": "Python 3 (ipykernel)",
   "language": "python",
   "name": "python3"
  },
  "language_info": {
   "codemirror_mode": {
    "name": "ipython",
    "version": 3
   },
   "file_extension": ".py",
   "mimetype": "text/x-python",
   "name": "python",
   "nbconvert_exporter": "python",
   "pygments_lexer": "ipython3",
   "version": "3.12.3"
  }
 },
 "nbformat": 4,
 "nbformat_minor": 5
}
