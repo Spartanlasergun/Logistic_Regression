{
 "cells": [
  {
   "cell_type": "markdown",
   "id": "6b9713cf-f1b7-47ec-8bd1-7cb52523d2ea",
   "metadata": {},
   "source": [
    "# Question 3\n",
    "-----"
   ]
  },
  {
   "cell_type": "markdown",
   "id": "fa0bb84f-73ac-46f0-9aac-69a10f1eb657",
   "metadata": {},
   "source": [
    "$$ logit \\ \\ P(X) = \\alpha + \\beta(HT) + \\gamma_{1}HS + \\gamma_{2}CT + \\gamma_{3}AGE  + \\gamma_{4}SEX  + HT(\\delta_{1}HS + \\delta_{2}CT + \\delta_{3}AGE + \\delta_{4}SEX) $$"
   ]
  }
 ],
 "metadata": {
  "kernelspec": {
   "display_name": "Python 3 (ipykernel)",
   "language": "python",
   "name": "python3"
  },
  "language_info": {
   "codemirror_mode": {
    "name": "ipython",
    "version": 3
   },
   "file_extension": ".py",
   "mimetype": "text/x-python",
   "name": "python",
   "nbconvert_exporter": "python",
   "pygments_lexer": "ipython3",
   "version": "3.12.3"
  }
 },
 "nbformat": 4,
 "nbformat_minor": 5
}
