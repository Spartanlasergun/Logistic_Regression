{
 "cells": [
  {
   "cell_type": "markdown",
   "id": "0ae4754c-7903-4bd9-9ccf-384064a5adf1",
   "metadata": {},
   "source": [
    "# Test Question 13\n",
    "-----"
   ]
  },
  {
   "cell_type": "markdown",
   "id": "228ddc8a-4139-4978-80b5-9d9e325704ef",
   "metadata": {},
   "source": [
    "The test is dependent on coding, because the dual interaction is a lower order term."
   ]
  }
 ],
 "metadata": {
  "kernelspec": {
   "display_name": "Python 3 (ipykernel)",
   "language": "python",
   "name": "python3"
  },
  "language_info": {
   "codemirror_mode": {
    "name": "ipython",
    "version": 3
   },
   "file_extension": ".py",
   "mimetype": "text/x-python",
   "name": "python",
   "nbconvert_exporter": "python",
   "pygments_lexer": "ipython3",
   "version": "3.12.3"
  }
 },
 "nbformat": 4,
 "nbformat_minor": 5
}
