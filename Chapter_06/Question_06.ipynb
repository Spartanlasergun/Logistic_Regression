{
 "cells": [
  {
   "cell_type": "markdown",
   "id": "673eb3b8-dd79-4af0-bf65-64d20e4535a5",
   "metadata": {},
   "source": [
    "# Question 6\n",
    "-----"
   ]
  },
  {
   "cell_type": "markdown",
   "id": "bd858943-65c9-4ce0-99da-156f97838f23",
   "metadata": {},
   "source": [
    "Since the model is hierarchically well formulated, the specific coding of the variables have no effect on higher order terms."
   ]
  }
 ],
 "metadata": {
  "kernelspec": {
   "display_name": "Python 3 (ipykernel)",
   "language": "python",
   "name": "python3"
  },
  "language_info": {
   "codemirror_mode": {
    "name": "ipython",
    "version": 3
   },
   "file_extension": ".py",
   "mimetype": "text/x-python",
   "name": "python",
   "nbconvert_exporter": "python",
   "pygments_lexer": "ipython3",
   "version": "3.12.3"
  }
 },
 "nbformat": 4,
 "nbformat_minor": 5
}
