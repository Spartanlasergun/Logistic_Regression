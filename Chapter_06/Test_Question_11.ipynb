{
 "cells": [
  {
   "cell_type": "markdown",
   "id": "66cb952d-aa67-44cd-8469-bc737097d48b",
   "metadata": {},
   "source": [
    "# Test Question 11\n",
    "-----"
   ]
  },
  {
   "cell_type": "markdown",
   "id": "b41d823e-994d-46c1-95bd-1913e3d61160",
   "metadata": {},
   "source": [
    "Yes, all the lower order components are present for a correct hierarchical model."
   ]
  }
 ],
 "metadata": {
  "kernelspec": {
   "display_name": "Python 3 (ipykernel)",
   "language": "python",
   "name": "python3"
  },
  "language_info": {
   "codemirror_mode": {
    "name": "ipython",
    "version": 3
   },
   "file_extension": ".py",
   "mimetype": "text/x-python",
   "name": "python",
   "nbconvert_exporter": "python",
   "pygments_lexer": "ipython3",
   "version": "3.12.3"
  }
 },
 "nbformat": 4,
 "nbformat_minor": 5
}
