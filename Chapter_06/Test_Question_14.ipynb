{
 "cells": [
  {
   "cell_type": "markdown",
   "id": "0939febd-6d36-437d-b7be-5772342717cb",
   "metadata": {},
   "source": [
    "# Test Question 14\n",
    "-----"
   ]
  },
  {
   "cell_type": "markdown",
   "id": "faf25904-d91e-4e7b-ba69-78f5f86146aa",
   "metadata": {},
   "source": [
    "Assess the interaction terms for significance beginning with the highest order terms to determine which should remain. Once this is done, ensure that the lower order components of the higher order terms are part of the model."
   ]
  }
 ],
 "metadata": {
  "kernelspec": {
   "display_name": "Python 3 (ipykernel)",
   "language": "python",
   "name": "python3"
  },
  "language_info": {
   "codemirror_mode": {
    "name": "ipython",
    "version": 3
   },
   "file_extension": ".py",
   "mimetype": "text/x-python",
   "name": "python",
   "nbconvert_exporter": "python",
   "pygments_lexer": "ipython3",
   "version": "3.12.3"
  }
 },
 "nbformat": 4,
 "nbformat_minor": 5
}
