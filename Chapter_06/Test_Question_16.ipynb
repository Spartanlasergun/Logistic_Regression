{
 "cells": [
  {
   "cell_type": "markdown",
   "id": "62ada4a9-449e-4b9d-bf9b-17ad243855ba",
   "metadata": {},
   "source": [
    "# Test Question 16\n",
    "-----"
   ]
  },
  {
   "cell_type": "markdown",
   "id": "cac9b471-d7c0-44c1-87d0-f440ffbdd5f2",
   "metadata": {},
   "source": [
    "If the highest order term is significant the model retains its original form and non of the confounding variables are eligible to be removed. If they are removed, the model will no longer be hierarchically well formulated."
   ]
  }
 ],
 "metadata": {
  "kernelspec": {
   "display_name": "Python 3 (ipykernel)",
   "language": "python",
   "name": "python3"
  },
  "language_info": {
   "codemirror_mode": {
    "name": "ipython",
    "version": 3
   },
   "file_extension": ".py",
   "mimetype": "text/x-python",
   "name": "python",
   "nbconvert_exporter": "python",
   "pygments_lexer": "ipython3",
   "version": "3.12.3"
  }
 },
 "nbformat": 4,
 "nbformat_minor": 5
}
