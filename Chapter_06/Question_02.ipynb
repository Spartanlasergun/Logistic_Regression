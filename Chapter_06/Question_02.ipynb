{
 "cells": [
  {
   "cell_type": "markdown",
   "id": "026d46c3-9b20-4455-9dbc-a6b6af0b987f",
   "metadata": {},
   "source": [
    "# Question 2\n",
    "-----"
   ]
  },
  {
   "cell_type": "markdown",
   "id": "8ead51fb-835b-4098-877f-3433e16c177f",
   "metadata": {},
   "source": [
    "The W variables should represent significant interactions between the exposure variable \"E\" and the other \"V\" variables in the relationship. Hence, $W_{i} = EV_{i}$"
   ]
  }
 ],
 "metadata": {
  "kernelspec": {
   "display_name": "Python 3 (ipykernel)",
   "language": "python",
   "name": "python3"
  },
  "language_info": {
   "codemirror_mode": {
    "name": "ipython",
    "version": 3
   },
   "file_extension": ".py",
   "mimetype": "text/x-python",
   "name": "python",
   "nbconvert_exporter": "python",
   "pygments_lexer": "ipython3",
   "version": "3.12.3"
  }
 },
 "nbformat": 4,
 "nbformat_minor": 5
}
