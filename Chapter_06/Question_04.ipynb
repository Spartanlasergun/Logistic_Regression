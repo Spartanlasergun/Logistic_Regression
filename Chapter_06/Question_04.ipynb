{
 "cells": [
  {
   "cell_type": "markdown",
   "id": "c0474e7e-f894-4e97-b0b2-02da079b6087",
   "metadata": {},
   "source": [
    "# Question 4\n",
    "-----"
   ]
  },
  {
   "cell_type": "markdown",
   "id": "edd9401b-acf9-4355-b0ba-9091dcc2875a",
   "metadata": {},
   "source": [
    "The addition of the triple product results in the inclusion of a lower order term that is not included in main body of the model. This breaks the hierarchy and will make it difficult to interpret the influence of specific variables within the model."
   ]
  }
 ],
 "metadata": {
  "kernelspec": {
   "display_name": "Python 3 (ipykernel)",
   "language": "python",
   "name": "python3"
  },
  "language_info": {
   "codemirror_mode": {
    "name": "ipython",
    "version": 3
   },
   "file_extension": ".py",
   "mimetype": "text/x-python",
   "name": "python",
   "nbconvert_exporter": "python",
   "pygments_lexer": "ipython3",
   "version": "3.12.3"
  }
 },
 "nbformat": 4,
 "nbformat_minor": 5
}
