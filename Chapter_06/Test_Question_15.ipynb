{
 "cells": [
  {
   "cell_type": "markdown",
   "id": "fe28d1c4-87ac-4612-8d84-4fc84b503bcf",
   "metadata": {},
   "source": [
    "# Test Question 15\n",
    "-----"
   ]
  },
  {
   "cell_type": "markdown",
   "id": "7eca7f83-d6a5-42ac-8bfc-11ea30ab6af0",
   "metadata": {},
   "source": [
    "The terms SMK, NS, AS, (SMK * NS), (SMK * AS), and (NS * AS) must remain part of the model. "
   ]
  }
 ],
 "metadata": {
  "kernelspec": {
   "display_name": "Python 3 (ipykernel)",
   "language": "python",
   "name": "python3"
  },
  "language_info": {
   "codemirror_mode": {
    "name": "ipython",
    "version": 3
   },
   "file_extension": ".py",
   "mimetype": "text/x-python",
   "name": "python",
   "nbconvert_exporter": "python",
   "pygments_lexer": "ipython3",
   "version": "3.12.3"
  }
 },
 "nbformat": 4,
 "nbformat_minor": 5
}
