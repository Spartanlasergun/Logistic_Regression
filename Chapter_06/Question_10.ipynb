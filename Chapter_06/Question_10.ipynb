{
 "cells": [
  {
   "cell_type": "markdown",
   "id": "88bdd5b8-0473-44c7-badd-e35bade3e946",
   "metadata": {},
   "source": [
    "# Question 10\n",
    "-----"
   ]
  },
  {
   "cell_type": "markdown",
   "id": "f61a486f-a5d3-4bfd-b22b-f24620ef645d",
   "metadata": {},
   "source": [
    "$$ logit \\ \\ P(X) = \\alpha + \\beta(HT) + \\gamma_{1}HS + \\gamma_{2}CT + \\gamma_{3}AGE  + \\gamma_{4}SEX  + HT(\\delta_{1}CT + \\delta_{2}SEX) $$"
   ]
  }
 ],
 "metadata": {
  "kernelspec": {
   "display_name": "Python 3 (ipykernel)",
   "language": "python",
   "name": "python3"
  },
  "language_info": {
   "codemirror_mode": {
    "name": "ipython",
    "version": 3
   },
   "file_extension": ".py",
   "mimetype": "text/x-python",
   "name": "python",
   "nbconvert_exporter": "python",
   "pygments_lexer": "ipython3",
   "version": "3.12.3"
  }
 },
 "nbformat": 4,
 "nbformat_minor": 5
}
