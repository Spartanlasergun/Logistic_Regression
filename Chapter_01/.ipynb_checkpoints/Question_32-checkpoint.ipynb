{
 "cells": [
  {
   "cell_type": "markdown",
   "id": "f1527021-00aa-490f-ac32-273c83667948",
   "metadata": {},
   "source": [
    "# Question 32\n",
    "-----"
   ]
  },
  {
   "cell_type": "code",
   "execution_count": 1,
   "id": "dc9dd52c-fb72-46c8-af78-362c08b28a4e",
   "metadata": {},
   "outputs": [
    {
     "name": "stdout",
     "output_type": "stream",
     "text": [
      "OCC effect: 0.588075463519158\n"
     ]
    }
   ],
   "source": [
    "import math\n",
    "\n",
    "occ_effect = math.exp(-0.5309)\n",
    "print(f\"OCC effect: {occ_effect}\")"
   ]
  },
  {
   "cell_type": "code",
   "execution_count": 2,
   "id": "2059ce2d-d55e-431f-9f5b-6002c225292b",
   "metadata": {},
   "outputs": [
    {
     "data": {
      "text/plain": [
       "1.7006802721088436"
      ]
     },
     "execution_count": 2,
     "metadata": {},
     "output_type": "execute_result"
    }
   ],
   "source": [
    "1 / 0.588"
   ]
  },
  {
   "cell_type": "markdown",
   "id": "c6a755d7-1d69-4c0e-b4e6-d75797a4fd84",
   "metadata": {},
   "source": [
    "Hence, a person with $OCC = 0$ is 1.7 times more likely to develop hypertension than a person with $OCC = 0$"
   ]
  }
 ],
 "metadata": {
  "kernelspec": {
   "display_name": "Python 3 (ipykernel)",
   "language": "python",
   "name": "python3"
  },
  "language_info": {
   "codemirror_mode": {
    "name": "ipython",
    "version": 3
   },
   "file_extension": ".py",
   "mimetype": "text/x-python",
   "name": "python",
   "nbconvert_exporter": "python",
   "pygments_lexer": "ipython3",
   "version": "3.12.3"
  }
 },
 "nbformat": 4,
 "nbformat_minor": 5
}
