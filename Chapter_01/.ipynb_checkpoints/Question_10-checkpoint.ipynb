{
 "cells": [
  {
   "cell_type": "markdown",
   "id": "564dee45-83b1-4b4b-b598-f24b399ccdcb",
   "metadata": {},
   "source": [
    "# Question 10\n",
    "-----"
   ]
  },
  {
   "cell_type": "markdown",
   "id": "2f4dea2c-b858-4f71-9d33-16baebc9ef5c",
   "metadata": {},
   "source": [
    "Equation $a$ is not appropriate as model one contain weighted terms that interact with each other."
   ]
  }
 ],
 "metadata": {
  "kernelspec": {
   "display_name": "Python 3 (ipykernel)",
   "language": "python",
   "name": "python3"
  },
  "language_info": {
   "codemirror_mode": {
    "name": "ipython",
    "version": 3
   },
   "file_extension": ".py",
   "mimetype": "text/x-python",
   "name": "python",
   "nbconvert_exporter": "python",
   "pygments_lexer": "ipython3",
   "version": "3.12.3"
  }
 },
 "nbformat": 4,
 "nbformat_minor": 5
}
