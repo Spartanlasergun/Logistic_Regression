{
 "cells": [
  {
   "cell_type": "markdown",
   "id": "1eeba51d-9162-4025-a12d-6376217cfe19",
   "metadata": {},
   "source": [
    "# Question 28\n",
    "-----"
   ]
  },
  {
   "cell_type": "markdown",
   "id": "108f1e72-28c7-4264-b284-8d0551894514",
   "metadata": {},
   "source": [
    "No, the risk-ratio calculation is not appropriate for case-control or cross-sectional studies as an appropriate estimate of the alpha value is not possible."
   ]
  }
 ],
 "metadata": {
  "kernelspec": {
   "display_name": "Python 3 (ipykernel)",
   "language": "python",
   "name": "python3"
  },
  "language_info": {
   "codemirror_mode": {
    "name": "ipython",
    "version": 3
   },
   "file_extension": ".py",
   "mimetype": "text/x-python",
   "name": "python",
   "nbconvert_exporter": "python",
   "pygments_lexer": "ipython3",
   "version": "3.12.3"
  }
 },
 "nbformat": 4,
 "nbformat_minor": 5
}
