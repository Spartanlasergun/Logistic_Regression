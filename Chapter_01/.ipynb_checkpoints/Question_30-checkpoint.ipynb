{
 "cells": [
  {
   "cell_type": "markdown",
   "id": "b71cb80c-0513-4579-a140-4c990a244a96",
   "metadata": {},
   "source": [
    "# Question 30\n",
    "-----"
   ]
  },
  {
   "cell_type": "markdown",
   "id": "60ecd8d3-a3e1-42d5-9855-7c322c7cab80",
   "metadata": {},
   "source": [
    "If the disease in question is extremely rare, the odds ratio can be taken as a risk ratio."
   ]
  }
 ],
 "metadata": {
  "kernelspec": {
   "display_name": "Python 3 (ipykernel)",
   "language": "python",
   "name": "python3"
  },
  "language_info": {
   "codemirror_mode": {
    "name": "ipython",
    "version": 3
   },
   "file_extension": ".py",
   "mimetype": "text/x-python",
   "name": "python",
   "nbconvert_exporter": "python",
   "pygments_lexer": "ipython3",
   "version": "3.12.3"
  }
 },
 "nbformat": 4,
 "nbformat_minor": 5
}
