{
 "cells": [
  {
   "cell_type": "markdown",
   "id": "ff583a87-3c60-43b7-8ddb-2370c91f2773",
   "metadata": {},
   "source": [
    "# Question 5\n",
    "-----"
   ]
  },
  {
   "cell_type": "markdown",
   "id": "17c75820-eb54-4705-ad74-3a7acb38c52d",
   "metadata": {},
   "source": [
    "The models are different. In particular, model one considers the possibility that the person is simultaneously of high social class and a smoker ($SOC * SMK$), as well as the relationship between high social class and high systolic blood pressure ($SOC * SBP$)."
   ]
  }
 ],
 "metadata": {
  "kernelspec": {
   "display_name": "Python 3 (ipykernel)",
   "language": "python",
   "name": "python3"
  },
  "language_info": {
   "codemirror_mode": {
    "name": "ipython",
    "version": 3
   },
   "file_extension": ".py",
   "mimetype": "text/x-python",
   "name": "python",
   "nbconvert_exporter": "python",
   "pygments_lexer": "ipython3",
   "version": "3.12.3"
  }
 },
 "nbformat": 4,
 "nbformat_minor": 5
}
