{
 "cells": [
  {
   "cell_type": "markdown",
   "id": "2bc0db8a-cc14-4eac-8c9f-2e3c40d70472",
   "metadata": {},
   "source": [
    "# Question 3\n",
    "-----"
   ]
  },
  {
   "cell_type": "code",
   "execution_count": 1,
   "id": "1c74b25b-5722-47a6-9fb5-d812cb0d5246",
   "metadata": {},
   "outputs": [
    {
     "name": "stdout",
     "output_type": "stream",
     "text": [
      "0.26211589880836506\n"
     ]
    }
   ],
   "source": [
    "import math\n",
    "\n",
    "def model_one(SOC, SBP, SMK):\n",
    "    PX = 1 / (1 + math.exp(-1 * (-1.18 + (-0.52 * SOC) + (0.04 * SBP) + (-0.56 * SMK) + (-0.033 * SOC * SBP) + (0.175 * SOC * SMK))))\n",
    "    return PX\n",
    "\n",
    "prob = model_one(SOC=1, SMK=1, SBP=150)\n",
    "print(prob)"
   ]
  }
 ],
 "metadata": {
  "kernelspec": {
   "display_name": "Python 3 (ipykernel)",
   "language": "python",
   "name": "python3"
  },
  "language_info": {
   "codemirror_mode": {
    "name": "ipython",
    "version": 3
   },
   "file_extension": ".py",
   "mimetype": "text/x-python",
   "name": "python",
   "nbconvert_exporter": "python",
   "pygments_lexer": "ipython3",
   "version": "3.12.3"
  }
 },
 "nbformat": 4,
 "nbformat_minor": 5
}
