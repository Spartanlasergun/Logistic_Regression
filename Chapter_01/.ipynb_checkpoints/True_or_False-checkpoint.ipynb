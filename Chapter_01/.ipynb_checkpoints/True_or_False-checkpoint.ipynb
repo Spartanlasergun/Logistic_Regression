{
 "cells": [
  {
   "cell_type": "markdown",
   "id": "5eb63e79-d6be-4b93-a7e2-2b1d25f828bc",
   "metadata": {},
   "source": [
    "# True or False\n",
    "-----"
   ]
  },
  {
   "cell_type": "markdown",
   "id": "2803de48-b991-494c-ab6e-d087c143b454",
   "metadata": {},
   "source": [
    "Question 1: False\n",
    "\n",
    "Question 2: False\n",
    "\n",
    "Question 3: True\n",
    "\n",
    "Question 4: False\n",
    "\n",
    "Question 5: True\n",
    "\n",
    "Question 6: True\n",
    "\n",
    "Question 7: False\n",
    "\n",
    "Question 8: True\n",
    "\n",
    "Question 9: False\n",
    "\n",
    "Question 10: True"
   ]
  }
 ],
 "metadata": {
  "kernelspec": {
   "display_name": "Python 3 (ipykernel)",
   "language": "python",
   "name": "python3"
  },
  "language_info": {
   "codemirror_mode": {
    "name": "ipython",
    "version": 3
   },
   "file_extension": ".py",
   "mimetype": "text/x-python",
   "name": "python",
   "nbconvert_exporter": "python",
   "pygments_lexer": "ipython3",
   "version": "3.12.3"
  }
 },
 "nbformat": 4,
 "nbformat_minor": 5
}
