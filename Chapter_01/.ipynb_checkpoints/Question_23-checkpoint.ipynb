{
 "cells": [
  {
   "cell_type": "markdown",
   "id": "b6cfd1a0-1139-439c-a088-1e75c72b11ab",
   "metadata": {},
   "source": [
    "# Question 23\n",
    "-----"
   ]
  },
  {
   "cell_type": "markdown",
   "id": "0f9a0692-087d-4785-84a4-1b81bf2ba117",
   "metadata": {},
   "source": [
    "$$P(X) = \\frac{1}{1 + e^{-(-4.32 + (0.0274*AGE) + (0.5959*SMK) + (1.1523*SEX) + (0.0087*CHOL) + (-0.5309*OCC))}}$$"
   ]
  }
 ],
 "metadata": {
  "kernelspec": {
   "display_name": "Python 3 (ipykernel)",
   "language": "python",
   "name": "python3"
  },
  "language_info": {
   "codemirror_mode": {
    "name": "ipython",
    "version": 3
   },
   "file_extension": ".py",
   "mimetype": "text/x-python",
   "name": "python",
   "nbconvert_exporter": "python",
   "pygments_lexer": "ipython3",
   "version": "3.12.3"
  }
 },
 "nbformat": 4,
 "nbformat_minor": 5
}
