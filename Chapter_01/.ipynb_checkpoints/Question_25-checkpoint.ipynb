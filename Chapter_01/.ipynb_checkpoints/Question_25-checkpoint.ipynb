{
 "cells": [
  {
   "cell_type": "markdown",
   "id": "05fd42b3-d4c9-42d6-85a3-b214aa06b668",
   "metadata": {},
   "source": [
    "# Question 25\n",
    "-----"
   ]
  },
  {
   "cell_type": "code",
   "execution_count": 1,
   "id": "fc64dfed-d97a-487e-bf97-a2aedb0ae884",
   "metadata": {},
   "outputs": [
    {
     "name": "stdout",
     "output_type": "stream",
     "text": [
      "risk: 0.4312630000103794\n"
     ]
    }
   ],
   "source": [
    "import math\n",
    "def P(AGE, SMK, SEX, CHOL, OCC):\n",
    "    PX = 1 / (1 + math.exp(-1 * (-4.32 + (0.0274*AGE) + (0.5859*SMK) + (1.1523*SEX) + (0.0087*CHOL) + (-0.5309*OCC))))\n",
    "    return PX\n",
    "\n",
    "print(f\"risk: {P(40, 1, 1, 200, 1)}\")"
   ]
  }
 ],
 "metadata": {
  "kernelspec": {
   "display_name": "Python 3 (ipykernel)",
   "language": "python",
   "name": "python3"
  },
  "language_info": {
   "codemirror_mode": {
    "name": "ipython",
    "version": 3
   },
   "file_extension": ".py",
   "mimetype": "text/x-python",
   "name": "python",
   "nbconvert_exporter": "python",
   "pygments_lexer": "ipython3",
   "version": "3.12.3"
  }
 },
 "nbformat": 4,
 "nbformat_minor": 5
}
