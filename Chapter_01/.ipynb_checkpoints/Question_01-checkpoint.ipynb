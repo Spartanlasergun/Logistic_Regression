{
 "cells": [
  {
   "cell_type": "markdown",
   "id": "f8a10ec8-27dd-450e-a51d-0a295b558955",
   "metadata": {},
   "source": [
    "# Question 1\n",
    "-----"
   ]
  },
  {
   "cell_type": "markdown",
   "id": "3bf54631-61e9-4025-9a2a-8969b163979c",
   "metadata": {},
   "source": [
    "$$P(X) = \\frac{1}{1 + e^{-(\\alpha + \\Sigma\\beta_{i}X_{1}})}$$\n",
    "\n",
    "Model One:\n",
    "\n",
    "$$\\hat P(X) = \\frac{1}{1 + e^{-(-1.18 + (-0.52 * SOC) + (0.04 * SBP) + (-0.56 * SMK) + (-0.033 * SOC * SBP) + (0.175 * SOC * SMK))}}$$\n",
    "\n",
    "Model Two:\n",
    "\n",
    "$$\\hat P(X) = \\frac{1}{1 + e^{-(1.19 + (-0.5 * SOC) + (0.01 * SBP) + (-0.42 * SMK))}}$$"
   ]
  }
 ],
 "metadata": {
  "kernelspec": {
   "display_name": "Python 3 (ipykernel)",
   "language": "python",
   "name": "python3"
  },
  "language_info": {
   "codemirror_mode": {
    "name": "ipython",
    "version": 3
   },
   "file_extension": ".py",
   "mimetype": "text/x-python",
   "name": "python",
   "nbconvert_exporter": "python",
   "pygments_lexer": "ipython3",
   "version": "3.12.3"
  }
 },
 "nbformat": 4,
 "nbformat_minor": 5
}
