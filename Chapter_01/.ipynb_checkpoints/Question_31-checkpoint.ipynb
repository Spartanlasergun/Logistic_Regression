{
 "cells": [
  {
   "cell_type": "markdown",
   "id": "70208831-244b-4aa8-b28b-a54b47f0414f",
   "metadata": {},
   "source": [
    "# Question 31\n",
    "-----"
   ]
  },
  {
   "cell_type": "markdown",
   "id": "c5a0d613-c442-45fa-bae4-998254892d35",
   "metadata": {},
   "source": [
    "Other than an odds ratio, a ___risk odds ratio___ could be calculated."
   ]
  }
 ],
 "metadata": {
  "kernelspec": {
   "display_name": "Python 3 (ipykernel)",
   "language": "python",
   "name": "python3"
  },
  "language_info": {
   "codemirror_mode": {
    "name": "ipython",
    "version": 3
   },
   "file_extension": ".py",
   "mimetype": "text/x-python",
   "name": "python",
   "nbconvert_exporter": "python",
   "pygments_lexer": "ipython3",
   "version": "3.12.3"
  }
 },
 "nbformat": 4,
 "nbformat_minor": 5
}
