{
 "cells": [
  {
   "cell_type": "markdown",
   "id": "404e6043-a15e-4237-af58-69265afd1004",
   "metadata": {},
   "source": [
    "# Question 22\n",
    "-----"
   ]
  },
  {
   "cell_type": "markdown",
   "id": "146d198e-25e6-473d-8f2f-820ac18a9dd1",
   "metadata": {},
   "source": [
    "$$P(X) = \\frac{1}{1 + e^{-(\\alpha + (\\beta_{1}*AGE) + (\\beta_{2}*SMK) + (\\beta_{3}*SEX) + (\\beta_{4}*CHOL) + (\\beta_{5}*OCC))}}$$"
   ]
  }
 ],
 "metadata": {
  "kernelspec": {
   "display_name": "Python 3 (ipykernel)",
   "language": "python",
   "name": "python3"
  },
  "language_info": {
   "codemirror_mode": {
    "name": "ipython",
    "version": 3
   },
   "file_extension": ".py",
   "mimetype": "text/x-python",
   "name": "python",
   "nbconvert_exporter": "python",
   "pygments_lexer": "ipython3",
   "version": "3.12.3"
  }
 },
 "nbformat": 4,
 "nbformat_minor": 5
}
