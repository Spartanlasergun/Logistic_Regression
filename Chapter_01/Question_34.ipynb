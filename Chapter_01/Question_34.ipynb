{
 "cells": [
  {
   "cell_type": "markdown",
   "id": "ea7dd44b-409b-4322-bce1-e614e1bb6086",
   "metadata": {},
   "source": [
    "# Question 34\n",
    "-----"
   ]
  },
  {
   "cell_type": "markdown",
   "id": "dbe6115c-5905-4ad5-b7f8-8c977eb5747b",
   "metadata": {},
   "source": [
    "Age is not dichotomous, it is a continuous variable."
   ]
  }
 ],
 "metadata": {
  "kernelspec": {
   "display_name": "Python 3 (ipykernel)",
   "language": "python",
   "name": "python3"
  },
  "language_info": {
   "codemirror_mode": {
    "name": "ipython",
    "version": 3
   },
   "file_extension": ".py",
   "mimetype": "text/x-python",
   "name": "python",
   "nbconvert_exporter": "python",
   "pygments_lexer": "ipython3",
   "version": "3.12.3"
  }
 },
 "nbformat": 4,
 "nbformat_minor": 5
}
