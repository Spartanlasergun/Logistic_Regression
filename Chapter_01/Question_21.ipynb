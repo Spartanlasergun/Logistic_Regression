{
 "cells": [
  {
   "cell_type": "markdown",
   "id": "f449ee59-46cb-4301-9b19-d6ccbade66b8",
   "metadata": {},
   "source": [
    "# Question 21\n",
    "-----"
   ]
  },
  {
   "cell_type": "markdown",
   "id": "929563c6-d601-46dc-94d1-bd3084d1401d",
   "metadata": {},
   "source": [
    "Option 'e' is incorrect"
   ]
  }
 ],
 "metadata": {
  "kernelspec": {
   "display_name": "Python 3 (ipykernel)",
   "language": "python",
   "name": "python3"
  },
  "language_info": {
   "codemirror_mode": {
    "name": "ipython",
    "version": 3
   },
   "file_extension": ".py",
   "mimetype": "text/x-python",
   "name": "python",
   "nbconvert_exporter": "python",
   "pygments_lexer": "ipython3",
   "version": "3.12.3"
  }
 },
 "nbformat": 4,
 "nbformat_minor": 5
}
