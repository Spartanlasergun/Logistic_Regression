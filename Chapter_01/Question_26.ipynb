{
 "cells": [
  {
   "cell_type": "markdown",
   "id": "f0495a94-c17c-45be-aeed-aea6d8bd290c",
   "metadata": {},
   "source": [
    "# Question 26\n",
    "-----"
   ]
  },
  {
   "cell_type": "code",
   "execution_count": 2,
   "id": "a2babf68-21a4-435d-93a6-6e32b1be8a4b",
   "metadata": {},
   "outputs": [
    {
     "name": "stdout",
     "output_type": "stream",
     "text": [
      "risk: 0.2967964175256905\n"
     ]
    }
   ],
   "source": [
    "import math\n",
    "def P(AGE, SMK, SEX, CHOL, OCC):\n",
    "    PX = 1 / (1 + math.exp(-1 * (-4.32 + (0.0274*AGE) + (0.5859*SMK) + (1.1523*SEX) + (0.0087*CHOL) + (-0.5309*OCC))))\n",
    "    return PX\n",
    "\n",
    "print(f\"risk: {P(40, 0, 1, 200, 1)}\")"
   ]
  }
 ],
 "metadata": {
  "kernelspec": {
   "display_name": "Python 3 (ipykernel)",
   "language": "python",
   "name": "python3"
  },
  "language_info": {
   "codemirror_mode": {
    "name": "ipython",
    "version": 3
   },
   "file_extension": ".py",
   "mimetype": "text/x-python",
   "name": "python",
   "nbconvert_exporter": "python",
   "pygments_lexer": "ipython3",
   "version": "3.12.3"
  }
 },
 "nbformat": 4,
 "nbformat_minor": 5
}
