{
 "cells": [
  {
   "cell_type": "markdown",
   "id": "6e7031d2-f1b5-4d0e-b4cc-c4711a563c0f",
   "metadata": {},
   "source": [
    "# Question 6\n",
    "-----"
   ]
  },
  {
   "cell_type": "code",
   "execution_count": 1,
   "id": "72ad4728-70a7-44c4-942f-75ae44fe156d",
   "metadata": {},
   "outputs": [
    {
     "name": "stdout",
     "output_type": "stream",
     "text": [
      "person one: 0.3520591979193498\n",
      "person two: 0.47252769565540637\n",
      "risk ratio: 0.7450551600600593\n"
     ]
    }
   ],
   "source": [
    "import math\n",
    "\n",
    "def model_two(SOC, SBP, SMK):\n",
    "    PX = 1 / (1 + math.exp(-1 * (-1.19 + (-0.5 * SOC) + (0.01 * SBP) + (-0.42 * SMK))))\n",
    "    return PX\n",
    "\n",
    "person_one = model_two(SOC=1, SMK=1, SBP=150)\n",
    "person_two = model_two(SOC=0, SMK=1, SBP=150)\n",
    "print(f\"person one: {person_one}\")\n",
    "print(f\"person two: {person_two}\")\n",
    "\n",
    "risk_ratio = person_one / person_two\n",
    "print(f\"risk ratio: {risk_ratio}\")"
   ]
  },
  {
   "cell_type": "markdown",
   "id": "213ed660-fdd3-4358-b59d-15634c2063fd",
   "metadata": {},
   "source": [
    "The risk ratio essentially tells us that a person of low social class is more likely to suffer from CVD than a person of high social class. \n",
    "\n",
    "$$0.473 - 0.352 = 0.121$$\n",
    "\n",
    "Hence, a person of low social class is $12.1\\%$ more likely to suffer from CVD than a person of high social class."
   ]
  }
 ],
 "metadata": {
  "kernelspec": {
   "display_name": "Python 3 (ipykernel)",
   "language": "python",
   "name": "python3"
  },
  "language_info": {
   "codemirror_mode": {
    "name": "ipython",
    "version": 3
   },
   "file_extension": ".py",
   "mimetype": "text/x-python",
   "name": "python",
   "nbconvert_exporter": "python",
   "pygments_lexer": "ipython3",
   "version": "3.12.3"
  }
 },
 "nbformat": 4,
 "nbformat_minor": 5
}
