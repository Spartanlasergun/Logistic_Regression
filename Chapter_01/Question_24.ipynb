{
 "cells": [
  {
   "cell_type": "markdown",
   "id": "db7d4b24-2910-48a0-84da-34d00a56ddc3",
   "metadata": {},
   "source": [
    "# Question 24\n",
    "-----"
   ]
  },
  {
   "cell_type": "markdown",
   "id": "2a13b01a-14d7-4355-8c52-80eae60f81fc",
   "metadata": {},
   "source": [
    "$$logit \\ \\ P(X) = -4.32 + (0.0274*AGE) + (0.5959*SMK) + (1.1523*SEX) + (0.0087*CHOL) + (-0.5309*OCC) $$"
   ]
  }
 ],
 "metadata": {
  "kernelspec": {
   "display_name": "Python 3 (ipykernel)",
   "language": "python",
   "name": "python3"
  },
  "language_info": {
   "codemirror_mode": {
    "name": "ipython",
    "version": 3
   },
   "file_extension": ".py",
   "mimetype": "text/x-python",
   "name": "python",
   "nbconvert_exporter": "python",
   "pygments_lexer": "ipython3",
   "version": "3.12.3"
  }
 },
 "nbformat": 4,
 "nbformat_minor": 5
}
