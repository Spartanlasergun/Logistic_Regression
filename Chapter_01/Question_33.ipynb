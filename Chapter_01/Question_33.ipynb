{
 "cells": [
  {
   "cell_type": "markdown",
   "id": "25f6a600-2f0d-48f9-acd1-0fac1bf5e39e",
   "metadata": {},
   "source": [
    "# Question 33\n",
    "-----"
   ]
  },
  {
   "cell_type": "markdown",
   "id": "7ca6700e-9284-4aa2-9721-a98d790c70ac",
   "metadata": {},
   "source": [
    "The variables must be dichotomous, main effect variables."
   ]
  }
 ],
 "metadata": {
  "kernelspec": {
   "display_name": "Python 3 (ipykernel)",
   "language": "python",
   "name": "python3"
  },
  "language_info": {
   "codemirror_mode": {
    "name": "ipython",
    "version": 3
   },
   "file_extension": ".py",
   "mimetype": "text/x-python",
   "name": "python",
   "nbconvert_exporter": "python",
   "pygments_lexer": "ipython3",
   "version": "3.12.3"
  }
 },
 "nbformat": 4,
 "nbformat_minor": 5
}
