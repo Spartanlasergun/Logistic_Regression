{
 "cells": [
  {
   "cell_type": "markdown",
   "id": "3b4298db-0e63-4629-964e-376b29103df8",
   "metadata": {},
   "source": [
    "# Question 27\n",
    "-----"
   ]
  },
  {
   "cell_type": "code",
   "execution_count": 1,
   "id": "10f50ffa-0599-4383-a749-6f6ddb803800",
   "metadata": {},
   "outputs": [
    {
     "name": "stdout",
     "output_type": "stream",
     "text": [
      "risk ratio: 1.4530599917805596\n"
     ]
    }
   ],
   "source": [
    "import math\n",
    "def P(AGE, SMK, SEX, CHOL, OCC):\n",
    "    PX = 1 / (1 + math.exp(-1 * (-4.32 + (0.0274*AGE) + (0.5859*SMK) + (1.1523*SEX) + (0.0087*CHOL) + (-0.5309*OCC))))\n",
    "    return PX\n",
    "\n",
    "smoker = P(40, 1, 1, 200, 1)\n",
    "non_smoker = P(40, 0, 1, 200, 1)\n",
    "risk_ratio = smoker / non_smoker\n",
    "print(f\"risk ratio: {risk_ratio}\")"
   ]
  },
  {
   "cell_type": "markdown",
   "id": "506cacc1-72cc-4c4f-83f0-8f7353f76a9c",
   "metadata": {},
   "source": [
    "Hence, smokers have 1.45 times increased risk of hypertension."
   ]
  }
 ],
 "metadata": {
  "kernelspec": {
   "display_name": "Python 3 (ipykernel)",
   "language": "python",
   "name": "python3"
  },
  "language_info": {
   "codemirror_mode": {
    "name": "ipython",
    "version": 3
   },
   "file_extension": ".py",
   "mimetype": "text/x-python",
   "name": "python",
   "nbconvert_exporter": "python",
   "pygments_lexer": "ipython3",
   "version": "3.12.3"
  }
 },
 "nbformat": 4,
 "nbformat_minor": 5
}
