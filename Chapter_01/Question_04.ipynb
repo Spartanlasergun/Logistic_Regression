{
 "cells": [
  {
   "cell_type": "markdown",
   "id": "0cc2984f-a37a-4db7-9531-5c5f829eb7b3",
   "metadata": {},
   "source": [
    "# Question 4\n",
    "-----"
   ]
  },
  {
   "cell_type": "code",
   "execution_count": 1,
   "id": "bf296e56-c451-402d-ab9e-20fed3e1cf5d",
   "metadata": {},
   "outputs": [
    {
     "name": "stdout",
     "output_type": "stream",
     "text": [
      "person one: 0.3520591979193498\n",
      "person two: 0.47252769565540637\n"
     ]
    }
   ],
   "source": [
    "import math\n",
    "\n",
    "def model_two(SOC, SBP, SMK):\n",
    "    PX = 1 / (1 + math.exp(-1 * (-1.19 + (-0.5 * SOC) + (0.01 * SBP) + (-0.42 * SMK))))\n",
    "    return PX\n",
    "\n",
    "person_one = model_two(SOC=1, SMK=1, SBP=150)\n",
    "person_two = model_two(SOC=0, SMK=1, SBP=150)\n",
    "print(f\"person one: {person_one}\")\n",
    "print(f\"person two: {person_two}\")"
   ]
  }
 ],
 "metadata": {
  "kernelspec": {
   "display_name": "Python 3 (ipykernel)",
   "language": "python",
   "name": "python3"
  },
  "language_info": {
   "codemirror_mode": {
    "name": "ipython",
    "version": 3
   },
   "file_extension": ".py",
   "mimetype": "text/x-python",
   "name": "python",
   "nbconvert_exporter": "python",
   "pygments_lexer": "ipython3",
   "version": "3.12.3"
  }
 },
 "nbformat": 4,
 "nbformat_minor": 5
}
