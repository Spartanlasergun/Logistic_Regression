{
 "cells": [
  {
   "cell_type": "markdown",
   "id": "1a5a445f-fbc5-4737-a887-b7dee9aeb9c2",
   "metadata": {},
   "source": [
    "# Question 2\n",
    "-----"
   ]
  },
  {
   "cell_type": "markdown",
   "id": "54ccd848-5fd1-4e87-937e-43c30d7205bb",
   "metadata": {},
   "source": [
    "$$ logit \\ \\ P(X) = \\alpha + \\Sigma\\beta_{i}X_{i}$$ \n",
    "\n",
    "Model One:\n",
    "\n",
    "$$ logit \\ \\ P(X) = -1.18 + (-0.52 * SOC) + (0.04 * SBP) + (-0.56 * SMK) + (-0.033 * SOC * SBP) + (0.175 * SOC * SMK) $$\n",
    "\n",
    "Model Two:\n",
    "\n",
    "$$ logit \\ \\ P(X) = 1.19 + (-0.5 * SOC) + (0.01 * SBP) + (-0.42 * SMK) $$"
   ]
  },
  {
   "cell_type": "code",
   "execution_count": null,
   "id": "bbd864e1-ef11-48bd-8c07-db34965736f2",
   "metadata": {},
   "outputs": [],
   "source": []
  }
 ],
 "metadata": {
  "kernelspec": {
   "display_name": "Python 3 (ipykernel)",
   "language": "python",
   "name": "python3"
  },
  "language_info": {
   "codemirror_mode": {
    "name": "ipython",
    "version": 3
   },
   "file_extension": ".py",
   "mimetype": "text/x-python",
   "name": "python",
   "nbconvert_exporter": "python",
   "pygments_lexer": "ipython3",
   "version": "3.12.3"
  }
 },
 "nbformat": 4,
 "nbformat_minor": 5
}
