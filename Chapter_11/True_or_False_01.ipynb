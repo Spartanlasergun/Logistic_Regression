{
 "cells": [
  {
   "cell_type": "markdown",
   "id": "be209455-db59-4417-a0e9-ef0c466e85b2",
   "metadata": {},
   "source": [
    "# True or False 1\n",
    "-----"
   ]
  },
  {
   "cell_type": "markdown",
   "id": "a55b41f8-c2ae-40b4-9b99-b4042937690a",
   "metadata": {},
   "source": [
    "Question 1: True\n",
    "\n",
    "Question 2: False"
   ]
  }
 ],
 "metadata": {
  "kernelspec": {
   "display_name": "Python 3 (ipykernel)",
   "language": "python",
   "name": "python3"
  },
  "language_info": {
   "codemirror_mode": {
    "name": "ipython",
    "version": 3
   },
   "file_extension": ".py",
   "mimetype": "text/x-python",
   "name": "python",
   "nbconvert_exporter": "python",
   "pygments_lexer": "ipython3",
   "version": "3.12.3"
  }
 },
 "nbformat": 4,
 "nbformat_minor": 5
}
