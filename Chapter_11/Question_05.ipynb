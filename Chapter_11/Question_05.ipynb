{
 "cells": [
  {
   "cell_type": "markdown",
   "id": "b8770fb9-4057-461c-aa12-1da6314e594f",
   "metadata": {},
   "source": [
    "# Question 5\n",
    "-----"
   ]
  },
  {
   "cell_type": "markdown",
   "id": "77be3e71-6887-43e8-a0d9-a1136359aa53",
   "metadata": {},
   "source": [
    "Unstructured correlation structure"
   ]
  }
 ],
 "metadata": {
  "kernelspec": {
   "display_name": "Python 3 (ipykernel)",
   "language": "python",
   "name": "python3"
  },
  "language_info": {
   "codemirror_mode": {
    "name": "ipython",
    "version": 3
   },
   "file_extension": ".py",
   "mimetype": "text/x-python",
   "name": "python",
   "nbconvert_exporter": "python",
   "pygments_lexer": "ipython3",
   "version": "3.12.3"
  }
 },
 "nbformat": 4,
 "nbformat_minor": 5
}
