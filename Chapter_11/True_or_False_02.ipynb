{
 "cells": [
  {
   "cell_type": "markdown",
   "id": "30903843-fdb8-4bb1-a046-9e9d61de2b22",
   "metadata": {},
   "source": [
    "# True or False 2\n",
    "-----"
   ]
  },
  {
   "cell_type": "markdown",
   "id": "4cf77604-ba07-4951-abb0-f26e50bae019",
   "metadata": {},
   "source": [
    "Question 1: True\n",
    "\n",
    "Question 2: False\n",
    "\n",
    "Question 3: False\n",
    "\n",
    "Question 4: True\n",
    "\n",
    "Question 5: True\n",
    "\n",
    "Question 6: True\n",
    "\n",
    "Question 7: True\n",
    "\n",
    "Question 8: True"
   ]
  }
 ],
 "metadata": {
  "kernelspec": {
   "display_name": "Python 3 (ipykernel)",
   "language": "python",
   "name": "python3"
  },
  "language_info": {
   "codemirror_mode": {
    "name": "ipython",
    "version": 3
   },
   "file_extension": ".py",
   "mimetype": "text/x-python",
   "name": "python",
   "nbconvert_exporter": "python",
   "pygments_lexer": "ipython3",
   "version": "3.12.3"
  }
 },
 "nbformat": 4,
 "nbformat_minor": 5
}
