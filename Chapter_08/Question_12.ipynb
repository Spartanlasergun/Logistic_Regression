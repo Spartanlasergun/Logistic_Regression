{
 "cells": [
  {
   "cell_type": "markdown",
   "id": "d155fb57-cae1-4fcc-a57b-935fb2e56a09",
   "metadata": {},
   "source": [
    "# Question 12\n",
    "-----"
   ]
  },
  {
   "cell_type": "code",
   "execution_count": 1,
   "id": "3ff8af02-c28c-4594-b0f4-4bcb89dc417e",
   "metadata": {},
   "outputs": [
    {
     "name": "stdout",
     "output_type": "stream",
     "text": [
      "ROR: 1.9997056605411638\n"
     ]
    }
   ],
   "source": [
    "import math\n",
    "\n",
    "ror = math.exp(0.693)\n",
    "print(f\"ROR: {ror}\")"
   ]
  },
  {
   "cell_type": "code",
   "execution_count": 2,
   "id": "ba1e1b7d-324e-4e5f-9e4b-12b7252d0746",
   "metadata": {},
   "outputs": [
    {
     "name": "stdout",
     "output_type": "stream",
     "text": [
      "MOR = 2.0\n"
     ]
    }
   ],
   "source": [
    "MOR = 40 / 20\n",
    "print(f\"MOR = {MOR}\")"
   ]
  },
  {
   "cell_type": "markdown",
   "id": "de724b7d-9aa1-4631-9c21-eaeb47176aef",
   "metadata": {},
   "source": [
    "Hence, both estimates are the same"
   ]
  }
 ],
 "metadata": {
  "kernelspec": {
   "display_name": "Python 3 (ipykernel)",
   "language": "python",
   "name": "python3"
  },
  "language_info": {
   "codemirror_mode": {
    "name": "ipython",
    "version": 3
   },
   "file_extension": ".py",
   "mimetype": "text/x-python",
   "name": "python",
   "nbconvert_exporter": "python",
   "pygments_lexer": "ipython3",
   "version": "3.12.3"
  }
 },
 "nbformat": 4,
 "nbformat_minor": 5
}
