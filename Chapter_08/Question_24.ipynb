{
 "cells": [
  {
   "cell_type": "markdown",
   "id": "a2597064-ad29-44c5-880a-813361a22f4b",
   "metadata": {},
   "source": [
    "# Question 24\n",
    "-----"
   ]
  },
  {
   "cell_type": "markdown",
   "id": "d6c0a1a2-082f-4db3-b591-35ba7b7330d8",
   "metadata": {},
   "source": [
    "An unpooled estimate is used because each strata is treated as unique."
   ]
  }
 ],
 "metadata": {
  "kernelspec": {
   "display_name": "Python 3 (ipykernel)",
   "language": "python",
   "name": "python3"
  },
  "language_info": {
   "codemirror_mode": {
    "name": "ipython",
    "version": 3
   },
   "file_extension": ".py",
   "mimetype": "text/x-python",
   "name": "python",
   "nbconvert_exporter": "python",
   "pygments_lexer": "ipython3",
   "version": "3.12.3"
  }
 },
 "nbformat": 4,
 "nbformat_minor": 5
}
