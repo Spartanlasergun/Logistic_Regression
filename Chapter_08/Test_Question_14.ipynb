{
 "cells": [
  {
   "cell_type": "markdown",
   "id": "fe9e3009-15af-41b4-8049-796d44fa81ee",
   "metadata": {},
   "source": [
    "# Test Question 14\n",
    "-----"
   ]
  },
  {
   "cell_type": "markdown",
   "id": "53a501d4-15c6-4a9a-a520-863efb1f9c95",
   "metadata": {},
   "source": [
    "Based on the P-values, the interaction term is significant at the 10% level, but not at the 5% level, making it the least significant term in the model."
   ]
  }
 ],
 "metadata": {
  "kernelspec": {
   "display_name": "Python 3 (ipykernel)",
   "language": "python",
   "name": "python3"
  },
  "language_info": {
   "codemirror_mode": {
    "name": "ipython",
    "version": 3
   },
   "file_extension": ".py",
   "mimetype": "text/x-python",
   "name": "python",
   "nbconvert_exporter": "python",
   "pygments_lexer": "ipython3",
   "version": "3.12.3"
  }
 },
 "nbformat": 4,
 "nbformat_minor": 5
}
