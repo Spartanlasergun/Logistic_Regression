{
 "cells": [
  {
   "cell_type": "markdown",
   "id": "8671727d-13a5-495e-b820-18ef26a702d3",
   "metadata": {},
   "source": [
    "# Test Question 6\n",
    "-----"
   ]
  },
  {
   "cell_type": "code",
   "execution_count": 1,
   "id": "5ff0559c-8c8a-4d30-83d5-4dd90f8da2f3",
   "metadata": {},
   "outputs": [
    {
     "name": "stdout",
     "output_type": "stream",
     "text": [
      "chi stat = 0.06504065040650407\n"
     ]
    }
   ],
   "source": [
    "chi_sq = ((121 - 125)**2)/(121 + 125)\n",
    "print(f\"chi stat = {chi_sq}\")"
   ]
  },
  {
   "cell_type": "markdown",
   "id": "54c88619-d274-470b-8d4e-436941de6e05",
   "metadata": {},
   "source": [
    "hence the exposure is very insignificant"
   ]
  },
  {
   "cell_type": "code",
   "execution_count": 2,
   "id": "e9d4436b-a56b-4f2b-b5fb-54f09ca2ef6b",
   "metadata": {},
   "outputs": [
    {
     "name": "stdout",
     "output_type": "stream",
     "text": [
      "OR: 0.968\n"
     ]
    }
   ],
   "source": [
    "OR = 121 / 125\n",
    "print(f\"OR: {OR}\")"
   ]
  }
 ],
 "metadata": {
  "kernelspec": {
   "display_name": "Python 3 (ipykernel)",
   "language": "python",
   "name": "python3"
  },
  "language_info": {
   "codemirror_mode": {
    "name": "ipython",
    "version": 3
   },
   "file_extension": ".py",
   "mimetype": "text/x-python",
   "name": "python",
   "nbconvert_exporter": "python",
   "pygments_lexer": "ipython3",
   "version": "3.12.3"
  }
 },
 "nbformat": 4,
 "nbformat_minor": 5
}
