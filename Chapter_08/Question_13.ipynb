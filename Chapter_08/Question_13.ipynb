{
 "cells": [
  {
   "cell_type": "markdown",
   "id": "2ec7dcd7-9fa2-41ab-89bd-cf8fdd3bdfb6",
   "metadata": {},
   "source": [
    "# Question 13\n",
    "-----"
   ]
  },
  {
   "cell_type": "code",
   "execution_count": 1,
   "id": "3be0806a-d569-4647-9cf3-35cb0f623f87",
   "metadata": {},
   "outputs": [
    {
     "name": "stdout",
     "output_type": "stream",
     "text": [
      "wald = 2.5291970802919703\n"
     ]
    }
   ],
   "source": [
    "wald = (0.693 / 0.274)\n",
    "print(f\"wald = {wald}\")"
   ]
  },
  {
   "cell_type": "code",
   "execution_count": 2,
   "id": "d3db2029-c95c-4b00-a5cd-c4263249d68f",
   "metadata": {},
   "outputs": [
    {
     "name": "stdout",
     "output_type": "stream",
     "text": [
      "chi stat: 6.396837870957428\n"
     ]
    }
   ],
   "source": [
    "chi_sq = wald**2\n",
    "print(f\"chi stat: {chi_sq}\")"
   ]
  },
  {
   "cell_type": "code",
   "execution_count": 3,
   "id": "3744400a-bccc-4751-9367-141018e5f354",
   "metadata": {},
   "outputs": [
    {
     "name": "stdout",
     "output_type": "stream",
     "text": [
      "Mc Nemar: 6.666666666666667\n"
     ]
    }
   ],
   "source": [
    "mc_nemar = ((40 - 20)**2) / (40 + 20)\n",
    "print(f\"Mc Nemar: {mc_nemar}\")"
   ]
  },
  {
   "cell_type": "markdown",
   "id": "5f02953d-8dca-4586-b900-20d172e66ba1",
   "metadata": {},
   "source": [
    "The Wald Squared stat is almost the same as the Mc Nemar's test."
   ]
  }
 ],
 "metadata": {
  "kernelspec": {
   "display_name": "Python 3 (ipykernel)",
   "language": "python",
   "name": "python3"
  },
  "language_info": {
   "codemirror_mode": {
    "name": "ipython",
    "version": 3
   },
   "file_extension": ".py",
   "mimetype": "text/x-python",
   "name": "python",
   "nbconvert_exporter": "python",
   "pygments_lexer": "ipython3",
   "version": "3.12.3"
  }
 },
 "nbformat": 4,
 "nbformat_minor": 5
}
