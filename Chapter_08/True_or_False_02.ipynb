{
 "cells": [
  {
   "cell_type": "markdown",
   "id": "5811447e-4d43-4472-9283-894ce1ab7ef7",
   "metadata": {},
   "source": [
    "# True or False 2\n",
    "-----"
   ]
  },
  {
   "cell_type": "markdown",
   "id": "b67fd2c2-67a1-4663-9d65-642eb0910cbf",
   "metadata": {},
   "source": [
    "Question 1: True\n",
    "\n",
    "Question 2: True\n",
    "\n",
    "Question 3: True\n",
    "\n",
    "Question 4: False\n",
    "\n",
    "Question 5: True"
   ]
  }
 ],
 "metadata": {
  "kernelspec": {
   "display_name": "Python 3 (ipykernel)",
   "language": "python",
   "name": "python3"
  },
  "language_info": {
   "codemirror_mode": {
    "name": "ipython",
    "version": 3
   },
   "file_extension": ".py",
   "mimetype": "text/x-python",
   "name": "python",
   "nbconvert_exporter": "python",
   "pygments_lexer": "ipython3",
   "version": "3.12.3"
  }
 },
 "nbformat": 4,
 "nbformat_minor": 5
}
