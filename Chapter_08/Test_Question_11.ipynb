{
 "cells": [
  {
   "cell_type": "markdown",
   "id": "93e052af-de32-4c23-8a1b-72f65b4c12bf",
   "metadata": {},
   "source": [
    "# Test Question 11\n",
    "-----"
   ]
  },
  {
   "cell_type": "markdown",
   "id": "e4a0bbdb-0cd8-4bf7-bde1-7c2a169376ad",
   "metadata": {},
   "source": [
    "Conditional Maximum Likelihood estimation would have been used since the model involved matching."
   ]
  }
 ],
 "metadata": {
  "kernelspec": {
   "display_name": "Python 3 (ipykernel)",
   "language": "python",
   "name": "python3"
  },
  "language_info": {
   "codemirror_mode": {
    "name": "ipython",
    "version": 3
   },
   "file_extension": ".py",
   "mimetype": "text/x-python",
   "name": "python",
   "nbconvert_exporter": "python",
   "pygments_lexer": "ipython3",
   "version": "3.12.3"
  }
 },
 "nbformat": 4,
 "nbformat_minor": 5
}
