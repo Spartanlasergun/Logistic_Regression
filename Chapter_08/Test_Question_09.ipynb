{
 "cells": [
  {
   "cell_type": "markdown",
   "id": "f504263e-68e9-4ad7-8fc0-78eef8e436e3",
   "metadata": {},
   "source": [
    "# Test Question 9\n",
    "-----"
   ]
  },
  {
   "cell_type": "markdown",
   "id": "b35536e2-9f56-4245-bee8-7532319dfc40",
   "metadata": {},
   "source": [
    "The odds ratios are almost exactly the same."
   ]
  }
 ],
 "metadata": {
  "kernelspec": {
   "display_name": "Python 3 (ipykernel)",
   "language": "python",
   "name": "python3"
  },
  "language_info": {
   "codemirror_mode": {
    "name": "ipython",
    "version": 3
   },
   "file_extension": ".py",
   "mimetype": "text/x-python",
   "name": "python",
   "nbconvert_exporter": "python",
   "pygments_lexer": "ipython3",
   "version": "3.12.3"
  }
 },
 "nbformat": 4,
 "nbformat_minor": 5
}
