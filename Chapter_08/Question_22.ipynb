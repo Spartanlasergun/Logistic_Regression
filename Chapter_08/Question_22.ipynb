{
 "cells": [
  {
   "cell_type": "markdown",
   "id": "01aacb2a-b8e4-4f99-af04-a524063a01ad",
   "metadata": {},
   "source": [
    "# Question 22\n",
    "-----"
   ]
  },
  {
   "cell_type": "markdown",
   "id": "59509384-3915-4c8c-9cf3-d65ef74653bd",
   "metadata": {},
   "source": [
    "One pair is discordant with the case unexposed and control exposed"
   ]
  }
 ],
 "metadata": {
  "kernelspec": {
   "display_name": "Python 3 (ipykernel)",
   "language": "python",
   "name": "python3"
  },
  "language_info": {
   "codemirror_mode": {
    "name": "ipython",
    "version": 3
   },
   "file_extension": ".py",
   "mimetype": "text/x-python",
   "name": "python",
   "nbconvert_exporter": "python",
   "pygments_lexer": "ipython3",
   "version": "3.12.3"
  }
 },
 "nbformat": 4,
 "nbformat_minor": 5
}
