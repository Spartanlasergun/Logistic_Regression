{
 "cells": [
  {
   "cell_type": "markdown",
   "id": "7a60e8c4-5246-4096-8267-08b157ac56bb",
   "metadata": {},
   "source": [
    "# Question 29\n",
    "-----"
   ]
  },
  {
   "cell_type": "markdown",
   "id": "e1571537-66e8-4cb9-8248-129bacee43de",
   "metadata": {},
   "source": [
    "pooled mOR = 2.5"
   ]
  }
 ],
 "metadata": {
  "kernelspec": {
   "display_name": "Python 3 (ipykernel)",
   "language": "python",
   "name": "python3"
  },
  "language_info": {
   "codemirror_mode": {
    "name": "ipython",
    "version": 3
   },
   "file_extension": ".py",
   "mimetype": "text/x-python",
   "name": "python",
   "nbconvert_exporter": "python",
   "pygments_lexer": "ipython3",
   "version": "3.12.3"
  }
 },
 "nbformat": 4,
 "nbformat_minor": 5
}
