{
 "cells": [
  {
   "cell_type": "markdown",
   "id": "deedd098-7625-4ac4-ae12-20b4179bb49b",
   "metadata": {},
   "source": [
    "# Question 26\n",
    "-----"
   ]
  },
  {
   "cell_type": "markdown",
   "id": "92878b50-2232-4038-a066-2bb5d1524422",
   "metadata": {},
   "source": [
    "Pooled analysis"
   ]
  }
 ],
 "metadata": {
  "kernelspec": {
   "display_name": "Python 3 (ipykernel)",
   "language": "python",
   "name": "python3"
  },
  "language_info": {
   "codemirror_mode": {
    "name": "ipython",
    "version": 3
   },
   "file_extension": ".py",
   "mimetype": "text/x-python",
   "name": "python",
   "nbconvert_exporter": "python",
   "pygments_lexer": "ipython3",
   "version": "3.12.3"
  }
 },
 "nbformat": 4,
 "nbformat_minor": 5
}
