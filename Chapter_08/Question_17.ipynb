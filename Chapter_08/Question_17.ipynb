{
 "cells": [
  {
   "cell_type": "markdown",
   "id": "bf3d1901-130b-4467-b7b1-58275043f860",
   "metadata": {},
   "source": [
    "# Question 17\n",
    "-----"
   ]
  },
  {
   "cell_type": "markdown",
   "id": "1a9cc2b9-5977-43f9-b8cb-b1187efec713",
   "metadata": {},
   "source": [
    "$$ROR = e^{\\beta + \\delta(PAR)}$$"
   ]
  }
 ],
 "metadata": {
  "kernelspec": {
   "display_name": "Python 3 (ipykernel)",
   "language": "python",
   "name": "python3"
  },
  "language_info": {
   "codemirror_mode": {
    "name": "ipython",
    "version": 3
   },
   "file_extension": ".py",
   "mimetype": "text/x-python",
   "name": "python",
   "nbconvert_exporter": "python",
   "pygments_lexer": "ipython3",
   "version": "3.12.3"
  }
 },
 "nbformat": 4,
 "nbformat_minor": 5
}
