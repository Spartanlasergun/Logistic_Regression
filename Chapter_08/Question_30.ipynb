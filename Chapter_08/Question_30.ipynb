{
 "cells": [
  {
   "cell_type": "markdown",
   "id": "b239bfb8-e974-4996-9f9b-8961109b5678",
   "metadata": {},
   "source": [
    "# Question 30\n",
    "-----"
   ]
  },
  {
   "cell_type": "markdown",
   "id": "87330138-979f-4bf2-bff6-b3b879fd00c1",
   "metadata": {},
   "source": [
    "Answer a"
   ]
  }
 ],
 "metadata": {
  "kernelspec": {
   "display_name": "Python 3 (ipykernel)",
   "language": "python",
   "name": "python3"
  },
  "language_info": {
   "codemirror_mode": {
    "name": "ipython",
    "version": 3
   },
   "file_extension": ".py",
   "mimetype": "text/x-python",
   "name": "python",
   "nbconvert_exporter": "python",
   "pygments_lexer": "ipython3",
   "version": "3.12.3"
  }
 },
 "nbformat": 4,
 "nbformat_minor": 5
}
