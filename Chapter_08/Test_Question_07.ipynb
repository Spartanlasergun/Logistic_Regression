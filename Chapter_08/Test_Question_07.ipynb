{
 "cells": [
  {
   "cell_type": "markdown",
   "id": "16efafbd-47aa-44e5-beeb-896284f0a8d2",
   "metadata": {},
   "source": [
    "# Test Question 7\n",
    "-----"
   ]
  },
  {
   "cell_type": "markdown",
   "id": "9eba23c7-a191-41df-943e-c19a3b16ab41",
   "metadata": {},
   "source": [
    "$$logit \\ \\ P(X) = \\alpha + \\beta(E) + \\displaystyle \\sum_{i=1}^{8501} \\gamma_{1i}V_{1i}$$"
   ]
  }
 ],
 "metadata": {
  "kernelspec": {
   "display_name": "Python 3 (ipykernel)",
   "language": "python",
   "name": "python3"
  },
  "language_info": {
   "codemirror_mode": {
    "name": "ipython",
    "version": 3
   },
   "file_extension": ".py",
   "mimetype": "text/x-python",
   "name": "python",
   "nbconvert_exporter": "python",
   "pygments_lexer": "ipython3",
   "version": "3.12.3"
  }
 },
 "nbformat": 4,
 "nbformat_minor": 5
}
