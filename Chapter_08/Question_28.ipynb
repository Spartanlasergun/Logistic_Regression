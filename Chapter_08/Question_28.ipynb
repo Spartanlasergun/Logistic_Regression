{
 "cells": [
  {
   "cell_type": "markdown",
   "id": "2ba4a498-3c53-4714-aaf3-8e6676db19ad",
   "metadata": {},
   "source": [
    "# Question 28\n",
    "-----"
   ]
  },
  {
   "cell_type": "markdown",
   "id": "682c76b5-22c8-4d60-a85f-730e13f16e80",
   "metadata": {},
   "source": [
    "W = 1, X = 1, Y = 0, Z = 2"
   ]
  }
 ],
 "metadata": {
  "kernelspec": {
   "display_name": "Python 3 (ipykernel)",
   "language": "python",
   "name": "python3"
  },
  "language_info": {
   "codemirror_mode": {
    "name": "ipython",
    "version": 3
   },
   "file_extension": ".py",
   "mimetype": "text/x-python",
   "name": "python",
   "nbconvert_exporter": "python",
   "pygments_lexer": "ipython3",
   "version": "3.12.3"
  }
 },
 "nbformat": 4,
 "nbformat_minor": 5
}
