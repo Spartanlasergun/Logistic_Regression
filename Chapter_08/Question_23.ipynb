{
 "cells": [
  {
   "cell_type": "markdown",
   "id": "08168219-7d19-4f63-896a-4dd93c522296",
   "metadata": {},
   "source": [
    "# Question 23\n",
    "-----"
   ]
  },
  {
   "cell_type": "code",
   "execution_count": 1,
   "id": "bb7c6f95-ce7e-476d-bcec-81875711e54b",
   "metadata": {},
   "outputs": [
    {
     "name": "stdout",
     "output_type": "stream",
     "text": [
      "MOR = 2.0\n"
     ]
    }
   ],
   "source": [
    "MOR = 2/1\n",
    "print(f\"MOR = {MOR}\")"
   ]
  }
 ],
 "metadata": {
  "kernelspec": {
   "display_name": "Python 3 (ipykernel)",
   "language": "python",
   "name": "python3"
  },
  "language_info": {
   "codemirror_mode": {
    "name": "ipython",
    "version": 3
   },
   "file_extension": ".py",
   "mimetype": "text/x-python",
   "name": "python",
   "nbconvert_exporter": "python",
   "pygments_lexer": "ipython3",
   "version": "3.12.3"
  }
 },
 "nbformat": 4,
 "nbformat_minor": 5
}
