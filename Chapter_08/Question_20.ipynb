{
 "cells": [
  {
   "cell_type": "markdown",
   "id": "ac269e1e-94f8-4d0e-84a6-5450d6108f89",
   "metadata": {},
   "source": [
    "# Question 20\n",
    "-----"
   ]
  },
  {
   "cell_type": "markdown",
   "id": "46c7898f-0ef9-45b7-973c-65fd775e76c7",
   "metadata": {},
   "source": [
    "Only one pair has both subjects unexposed."
   ]
  }
 ],
 "metadata": {
  "kernelspec": {
   "display_name": "Python 3 (ipykernel)",
   "language": "python",
   "name": "python3"
  },
  "language_info": {
   "codemirror_mode": {
    "name": "ipython",
    "version": 3
   },
   "file_extension": ".py",
   "mimetype": "text/x-python",
   "name": "python",
   "nbconvert_exporter": "python",
   "pygments_lexer": "ipython3",
   "version": "3.12.3"
  }
 },
 "nbformat": 4,
 "nbformat_minor": 5
}
