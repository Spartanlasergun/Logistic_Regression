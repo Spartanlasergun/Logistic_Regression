{
 "cells": [
  {
   "cell_type": "markdown",
   "id": "def3bf4f-e11c-4c6f-ae9d-24833a8019d6",
   "metadata": {},
   "source": [
    "# Test Question 17\n",
    "-----"
   ]
  },
  {
   "cell_type": "markdown",
   "id": "760f2e57-6a99-47fd-a5f8-20709cb76fb9",
   "metadata": {},
   "source": [
    "Given the limits provided, the confidence interval when $NS = 1$ is relatively wide."
   ]
  }
 ],
 "metadata": {
  "kernelspec": {
   "display_name": "Python 3 (ipykernel)",
   "language": "python",
   "name": "python3"
  },
  "language_info": {
   "codemirror_mode": {
    "name": "ipython",
    "version": 3
   },
   "file_extension": ".py",
   "mimetype": "text/x-python",
   "name": "python",
   "nbconvert_exporter": "python",
   "pygments_lexer": "ipython3",
   "version": "3.12.3"
  }
 },
 "nbformat": 4,
 "nbformat_minor": 5
}
