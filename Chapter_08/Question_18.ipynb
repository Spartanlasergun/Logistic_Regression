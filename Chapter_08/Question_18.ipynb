{
 "cells": [
  {
   "cell_type": "markdown",
   "id": "cf2bc5e9-730c-46fc-8953-e707fa83e7d6",
   "metadata": {},
   "source": [
    "# Question 18\n",
    "-----"
   ]
  },
  {
   "cell_type": "markdown",
   "id": "8324cb8d-8c1e-45fb-a9e7-0ab3335edbd6",
   "metadata": {},
   "source": [
    "Using backwards elimination, the first step is to test the higher order variables for significance within the model. Insignificant terms are dropped, while significant terms are retained along with their lower order components. After this stage, the confounding variables eligible to be dropped can be assessed for significance using models with and without them to understand their effect on the exposure variable. Significant confounding variables are kept, while insignificant variables are dropped if the model is meaningfully more precise without them."
   ]
  }
 ],
 "metadata": {
  "kernelspec": {
   "display_name": "Python 3 (ipykernel)",
   "language": "python",
   "name": "python3"
  },
  "language_info": {
   "codemirror_mode": {
    "name": "ipython",
    "version": 3
   },
   "file_extension": ".py",
   "mimetype": "text/x-python",
   "name": "python",
   "nbconvert_exporter": "python",
   "pygments_lexer": "ipython3",
   "version": "3.12.3"
  }
 },
 "nbformat": 4,
 "nbformat_minor": 5
}
