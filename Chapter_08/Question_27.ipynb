{
 "cells": [
  {
   "cell_type": "markdown",
   "id": "3f0b6033-f549-42f2-9da9-8894e50ad948",
   "metadata": {},
   "source": [
    "# Question 27\n",
    "-----"
   ]
  },
  {
   "cell_type": "markdown",
   "id": "a336b511-99b7-4276-8820-ac241f95a6cd",
   "metadata": {},
   "source": [
    "The strata can be treated together as pooled data, so pooled matching should be used."
   ]
  }
 ],
 "metadata": {
  "kernelspec": {
   "display_name": "Python 3 (ipykernel)",
   "language": "python",
   "name": "python3"
  },
  "language_info": {
   "codemirror_mode": {
    "name": "ipython",
    "version": 3
   },
   "file_extension": ".py",
   "mimetype": "text/x-python",
   "name": "python",
   "nbconvert_exporter": "python",
   "pygments_lexer": "ipython3",
   "version": "3.12.3"
  }
 },
 "nbformat": 4,
 "nbformat_minor": 5
}
