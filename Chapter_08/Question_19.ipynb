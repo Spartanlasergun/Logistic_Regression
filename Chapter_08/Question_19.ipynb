{
 "cells": [
  {
   "cell_type": "markdown",
   "id": "ee7bdb0f-5e28-4577-962d-cfa5b954a73f",
   "metadata": {},
   "source": [
    "# Question 19\n",
    "-----"
   ]
  },
  {
   "cell_type": "markdown",
   "id": "63b091f0-98bb-43a1-a4e3-58ca3a478752",
   "metadata": {},
   "source": [
    "Only one pair has both subjects exposed."
   ]
  }
 ],
 "metadata": {
  "kernelspec": {
   "display_name": "Python 3 (ipykernel)",
   "language": "python",
   "name": "python3"
  },
  "language_info": {
   "codemirror_mode": {
    "name": "ipython",
    "version": 3
   },
   "file_extension": ".py",
   "mimetype": "text/x-python",
   "name": "python",
   "nbconvert_exporter": "python",
   "pygments_lexer": "ipython3",
   "version": "3.12.3"
  }
 },
 "nbformat": 4,
 "nbformat_minor": 5
}
