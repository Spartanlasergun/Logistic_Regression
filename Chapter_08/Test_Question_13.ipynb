{
 "cells": [
  {
   "cell_type": "markdown",
   "id": "fa0fb059-c107-4827-ad3b-18a593ab75ad",
   "metadata": {},
   "source": [
    "# Test Question 13\n",
    "-----"
   ]
  },
  {
   "cell_type": "markdown",
   "id": "146492d8-090f-4fef-94f9-28e203ce7e78",
   "metadata": {},
   "source": [
    "$$logit \\ \\ P(X) = \\alpha + \\beta(SMK) + \\displaystyle \\sum_{i=1}^{312} \\gamma_{1i}V_{1i} + \\gamma_{1}(NS) + \\gamma_{2}(AS) + \\delta(SMK * NS) $$"
   ]
  }
 ],
 "metadata": {
  "kernelspec": {
   "display_name": "Python 3 (ipykernel)",
   "language": "python",
   "name": "python3"
  },
  "language_info": {
   "codemirror_mode": {
    "name": "ipython",
    "version": 3
   },
   "file_extension": ".py",
   "mimetype": "text/x-python",
   "name": "python",
   "nbconvert_exporter": "python",
   "pygments_lexer": "ipython3",
   "version": "3.12.3"
  }
 },
 "nbformat": 4,
 "nbformat_minor": 5
}
