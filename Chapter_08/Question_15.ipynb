{
 "cells": [
  {
   "cell_type": "markdown",
   "id": "0c8bcb9e-a69c-4240-9da1-e5e275f8f1ef",
   "metadata": {},
   "source": [
    "# Question 15\n",
    "-----"
   ]
  },
  {
   "cell_type": "markdown",
   "id": "77c386fe-ed81-4000-8a18-f67b86e25026",
   "metadata": {},
   "source": [
    "The unconditional method would be biased and would give an overestimate."
   ]
  }
 ],
 "metadata": {
  "kernelspec": {
   "display_name": "Python 3 (ipykernel)",
   "language": "python",
   "name": "python3"
  },
  "language_info": {
   "codemirror_mode": {
    "name": "ipython",
    "version": 3
   },
   "file_extension": ".py",
   "mimetype": "text/x-python",
   "name": "python",
   "nbconvert_exporter": "python",
   "pygments_lexer": "ipython3",
   "version": "3.12.3"
  }
 },
 "nbformat": 4,
 "nbformat_minor": 5
}
