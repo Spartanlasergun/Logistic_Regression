{
 "cells": [
  {
   "cell_type": "markdown",
   "id": "50819882-c595-471a-9c0e-ef09abe18d26",
   "metadata": {},
   "source": [
    "# Test Question 15\n",
    "-----"
   ]
  },
  {
   "cell_type": "markdown",
   "id": "b5a9f1a2-2ecf-4a38-be1c-e00ec27e9341",
   "metadata": {},
   "source": [
    "$$ROR = e^{\\beta + \\delta(NS)}$$"
   ]
  }
 ],
 "metadata": {
  "kernelspec": {
   "display_name": "Python 3 (ipykernel)",
   "language": "python",
   "name": "python3"
  },
  "language_info": {
   "codemirror_mode": {
    "name": "ipython",
    "version": 3
   },
   "file_extension": ".py",
   "mimetype": "text/x-python",
   "name": "python",
   "nbconvert_exporter": "python",
   "pygments_lexer": "ipython3",
   "version": "3.12.3"
  }
 },
 "nbformat": 4,
 "nbformat_minor": 5
}
