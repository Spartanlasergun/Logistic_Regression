{
 "cells": [
  {
   "cell_type": "markdown",
   "id": "150f7ded-1db9-49f7-a8fb-70b26b5c6bd8",
   "metadata": {},
   "source": [
    "# Test Question 8\n",
    "-----"
   ]
  },
  {
   "cell_type": "code",
   "execution_count": 1,
   "id": "18d61abd-3f2f-45dc-96e3-7d6b33a6be4b",
   "metadata": {},
   "outputs": [
    {
     "name": "stdout",
     "output_type": "stream",
     "text": [
      "wald = 0.25\n"
     ]
    }
   ],
   "source": [
    "wald = 0.032 / 0.128\n",
    "print(f\"wald = {wald}\")"
   ]
  },
  {
   "cell_type": "markdown",
   "id": "1f632e13-ab30-4e99-80be-3b1f220cc975",
   "metadata": {},
   "source": [
    "the Wald stat is slight more significant than the McNemar's test, but still insignificant."
   ]
  }
 ],
 "metadata": {
  "kernelspec": {
   "display_name": "Python 3 (ipykernel)",
   "language": "python",
   "name": "python3"
  },
  "language_info": {
   "codemirror_mode": {
    "name": "ipython",
    "version": 3
   },
   "file_extension": ".py",
   "mimetype": "text/x-python",
   "name": "python",
   "nbconvert_exporter": "python",
   "pygments_lexer": "ipython3",
   "version": "3.12.3"
  }
 },
 "nbformat": 4,
 "nbformat_minor": 5
}
