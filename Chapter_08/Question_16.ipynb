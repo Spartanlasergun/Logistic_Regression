{
 "cells": [
  {
   "cell_type": "markdown",
   "id": "0399e683-337d-4a88-a122-234caddb8085",
   "metadata": {},
   "source": [
    "# Question 16\n",
    "-----"
   ]
  },
  {
   "cell_type": "markdown",
   "id": "51679f49-313a-4098-8888-6aeb5bc4d8d2",
   "metadata": {},
   "source": [
    "$$ logit \\ \\ P(X) = \\alpha + \\beta(CON) + \\displaystyle \\sum_{i=1}^{99} \\gamma_{1i}V_{1i} + \\gamma_{1}(NP) + \\gamma_{2}(ASCM) + \\gamma_{3}(PAR) + \\delta_{1}(CON * PAR)$$"
   ]
  }
 ],
 "metadata": {
  "kernelspec": {
   "display_name": "Python 3 (ipykernel)",
   "language": "python",
   "name": "python3"
  },
  "language_info": {
   "codemirror_mode": {
    "name": "ipython",
    "version": 3
   },
   "file_extension": ".py",
   "mimetype": "text/x-python",
   "name": "python",
   "nbconvert_exporter": "python",
   "pygments_lexer": "ipython3",
   "version": "3.12.3"
  }
 },
 "nbformat": 4,
 "nbformat_minor": 5
}
