{
 "cells": [
  {
   "cell_type": "markdown",
   "id": "6cf91f4a-b067-4cbe-adc0-26bd830701d0",
   "metadata": {},
   "source": [
    "# Question 14\n",
    "-----"
   ]
  },
  {
   "cell_type": "code",
   "execution_count": 1,
   "id": "643ed8c9-da40-43ef-9368-245c4bfa48e9",
   "metadata": {},
   "outputs": [
    {
     "name": "stdout",
     "output_type": "stream",
     "text": [
      "1.168779450976794 < Beta < 3.4213663882081455\n"
     ]
    }
   ],
   "source": [
    "import math\n",
    "\n",
    "lower_limit = math.exp(0.693 - (1.96 * 0.274))\n",
    "upper_limit = math.exp(0.693 + (1.96 * 0.274))\n",
    "print(f\"{lower_limit} < Beta < {upper_limit}\")"
   ]
  }
 ],
 "metadata": {
  "kernelspec": {
   "display_name": "Python 3 (ipykernel)",
   "language": "python",
   "name": "python3"
  },
  "language_info": {
   "codemirror_mode": {
    "name": "ipython",
    "version": 3
   },
   "file_extension": ".py",
   "mimetype": "text/x-python",
   "name": "python",
   "nbconvert_exporter": "python",
   "pygments_lexer": "ipython3",
   "version": "3.12.3"
  }
 },
 "nbformat": 4,
 "nbformat_minor": 5
}
