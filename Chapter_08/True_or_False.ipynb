{
 "cells": [
  {
   "cell_type": "markdown",
   "id": "8f464ade-7c32-4808-98dc-c59b91b6e580",
   "metadata": {},
   "source": [
    "# True or False\n",
    "-----"
   ]
  },
  {
   "cell_type": "markdown",
   "id": "706814f0-fe3d-4532-9765-6fd0afe78357",
   "metadata": {},
   "source": [
    "Question 1: False\n",
    "\n",
    "Question 2: False\n",
    "\n",
    "Question 3: True\n",
    "\n",
    "Question 4: True\n",
    "\n",
    "Question 5: True\n",
    "\n",
    "Question 6: True\n",
    "\n",
    "Question 7: False \n",
    "\n",
    "Question 8: True\n",
    "\n",
    "Question 9: True\n",
    "\n",
    "Question 10: False"
   ]
  }
 ],
 "metadata": {
  "kernelspec": {
   "display_name": "Python 3 (ipykernel)",
   "language": "python",
   "name": "python3"
  },
  "language_info": {
   "codemirror_mode": {
    "name": "ipython",
    "version": 3
   },
   "file_extension": ".py",
   "mimetype": "text/x-python",
   "name": "python",
   "nbconvert_exporter": "python",
   "pygments_lexer": "ipython3",
   "version": "3.12.3"
  }
 },
 "nbformat": 4,
 "nbformat_minor": 5
}
