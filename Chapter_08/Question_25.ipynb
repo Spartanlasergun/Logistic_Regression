{
 "cells": [
  {
   "cell_type": "markdown",
   "id": "befda2e4-1e46-4a3e-9789-e2855ebee862",
   "metadata": {},
   "source": [
    "# Question 25\n",
    "-----"
   ]
  },
  {
   "cell_type": "markdown",
   "id": "503f2934-898b-49b1-a8ef-d65da2d8aa2c",
   "metadata": {},
   "source": [
    "$MOR = 2.5$"
   ]
  }
 ],
 "metadata": {
  "kernelspec": {
   "display_name": "Python 3 (ipykernel)",
   "language": "python",
   "name": "python3"
  },
  "language_info": {
   "codemirror_mode": {
    "name": "ipython",
    "version": 3
   },
   "file_extension": ".py",
   "mimetype": "text/x-python",
   "name": "python",
   "nbconvert_exporter": "python",
   "pygments_lexer": "ipython3",
   "version": "3.12.3"
  }
 },
 "nbformat": 4,
 "nbformat_minor": 5
}
