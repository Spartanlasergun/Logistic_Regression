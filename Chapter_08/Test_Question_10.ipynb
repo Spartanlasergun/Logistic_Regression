{
 "cells": [
  {
   "cell_type": "markdown",
   "id": "37b79c66-19c7-45bf-89f5-7aed57dbe450",
   "metadata": {},
   "source": [
    "# Test Question 10\n",
    "-----"
   ]
  },
  {
   "cell_type": "markdown",
   "id": "05ef31ee-cbb7-4263-a367-b352c2cd504b",
   "metadata": {},
   "source": [
    "The confidence interval is a z statistic computed using the p-value and standard error for the model."
   ]
  }
 ],
 "metadata": {
  "kernelspec": {
   "display_name": "Python 3 (ipykernel)",
   "language": "python",
   "name": "python3"
  },
  "language_info": {
   "codemirror_mode": {
    "name": "ipython",
    "version": 3
   },
   "file_extension": ".py",
   "mimetype": "text/x-python",
   "name": "python",
   "nbconvert_exporter": "python",
   "pygments_lexer": "ipython3",
   "version": "3.12.3"
  }
 },
 "nbformat": 4,
 "nbformat_minor": 5
}
