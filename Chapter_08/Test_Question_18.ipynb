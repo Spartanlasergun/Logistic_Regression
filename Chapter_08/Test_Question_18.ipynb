{
 "cells": [
  {
   "cell_type": "markdown",
   "id": "39bda50d-ce6e-40de-af06-73e1faf7ca81",
   "metadata": {},
   "source": [
    "# Test Question 18\n",
    "-----"
   ]
  },
  {
   "cell_type": "code",
   "execution_count": 1,
   "id": "c482a25f-2021-4106-bf13-481435b2ca1e",
   "metadata": {},
   "outputs": [
    {
     "name": "stdout",
     "output_type": "stream",
     "text": [
      "ROR = 4.204267160014698\n"
     ]
    }
   ],
   "source": [
    "import math\n",
    "\n",
    "ROR = math.exp(1.4361)\n",
    "print(f\"ROR = {ROR}\")"
   ]
  },
  {
   "cell_type": "code",
   "execution_count": 2,
   "id": "4a558402-a29e-4bc8-9e75-975bbd964d03",
   "metadata": {},
   "outputs": [
    {
     "name": "stdout",
     "output_type": "stream",
     "text": [
      "wald = 4.5345753078623305\n"
     ]
    }
   ],
   "source": [
    "wald = 1.4361 / 0.3167\n",
    "print(f\"wald = {wald}\")"
   ]
  },
  {
   "cell_type": "code",
   "execution_count": 3,
   "id": "c6dcf659-8e56-4d5a-9617-4cbe084e5802",
   "metadata": {},
   "outputs": [
    {
     "name": "stdout",
     "output_type": "stream",
     "text": [
      "chi stat = 20.56237322267475\n"
     ]
    }
   ],
   "source": [
    "chi_sq = wald**2\n",
    "print(f\"chi stat = {chi_sq}\")"
   ]
  },
  {
   "cell_type": "markdown",
   "id": "64fb968c-c231-4d38-b071-d8e5cb27fb64",
   "metadata": {},
   "source": [
    "Hence, the statistic is extremely significant."
   ]
  },
  {
   "cell_type": "code",
   "execution_count": 4,
   "id": "8a7d415f-e90b-45d6-887c-52c9cab9dcea",
   "metadata": {},
   "outputs": [
    {
     "name": "stdout",
     "output_type": "stream",
     "text": [
      "2.260007201989196 < OR < 7.82115310837074\n"
     ]
    }
   ],
   "source": [
    "lower_limit = math.exp(1.4361 - (1.96 * (0.3167)))\n",
    "upper_limit = math.exp(1.4361 + (1.96 * (0.3167)))\n",
    "print(f\"{lower_limit} < OR < {upper_limit}\")"
   ]
  },
  {
   "cell_type": "markdown",
   "id": "35149604-bcc0-4ac3-a8cf-d93f92f18a7c",
   "metadata": {},
   "source": [
    "The interval is extremely wide which suggests that the model needs to be refined."
   ]
  }
 ],
 "metadata": {
  "kernelspec": {
   "display_name": "Python 3 (ipykernel)",
   "language": "python",
   "name": "python3"
  },
  "language_info": {
   "codemirror_mode": {
    "name": "ipython",
    "version": 3
   },
   "file_extension": ".py",
   "mimetype": "text/x-python",
   "name": "python",
   "nbconvert_exporter": "python",
   "pygments_lexer": "ipython3",
   "version": "3.12.3"
  }
 },
 "nbformat": 4,
 "nbformat_minor": 5
}
