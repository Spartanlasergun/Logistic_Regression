{
 "cells": [
  {
   "cell_type": "markdown",
   "id": "ca553958-aef6-49d4-9fcb-2729e09a146c",
   "metadata": {},
   "source": [
    "# Test Question 12\n",
    "-----"
   ]
  },
  {
   "cell_type": "markdown",
   "id": "daa824e7-306e-4151-b223-744efb922b61",
   "metadata": {},
   "source": [
    "Age and Socioeconomic status are dummy variables in the model and do not need to be included."
   ]
  }
 ],
 "metadata": {
  "kernelspec": {
   "display_name": "Python 3 (ipykernel)",
   "language": "python",
   "name": "python3"
  },
  "language_info": {
   "codemirror_mode": {
    "name": "ipython",
    "version": 3
   },
   "file_extension": ".py",
   "mimetype": "text/x-python",
   "name": "python",
   "nbconvert_exporter": "python",
   "pygments_lexer": "ipython3",
   "version": "3.12.3"
  }
 },
 "nbformat": 4,
 "nbformat_minor": 5
}
