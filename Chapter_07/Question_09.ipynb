{
 "cells": [
  {
   "cell_type": "markdown",
   "id": "cf74d67c-57ab-499d-b84c-e0e8a4d5831c",
   "metadata": {},
   "source": [
    "# Question 9\n",
    "-----"
   ]
  },
  {
   "cell_type": "markdown",
   "id": "76e3b11b-299e-4e14-ab61-3ff797adfa13",
   "metadata": {},
   "source": [
    "If SEX is not a confounding variables and the confidence interval for the effect of the exposure variable decreases in width when it is removed, then the gain in precision from its removal is meaningful and it can be removed from the model. Since interaction terms need to be considered, a table of odds ratios and corresponding C.I.'s for the different values of the interaction terms will need to be conducted to determine how significant the change is without the SEX variable."
   ]
  }
 ],
 "metadata": {
  "kernelspec": {
   "display_name": "Python 3 (ipykernel)",
   "language": "python",
   "name": "python3"
  },
  "language_info": {
   "codemirror_mode": {
    "name": "ipython",
    "version": 3
   },
   "file_extension": ".py",
   "mimetype": "text/x-python",
   "name": "python",
   "nbconvert_exporter": "python",
   "pygments_lexer": "ipython3",
   "version": "3.12.3"
  }
 },
 "nbformat": 4,
 "nbformat_minor": 5
}
