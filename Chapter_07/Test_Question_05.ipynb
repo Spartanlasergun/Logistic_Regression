{
 "cells": [
  {
   "cell_type": "markdown",
   "id": "74b066fc-c010-4b00-81ca-449314ad3b63",
   "metadata": {},
   "source": [
    "# Test Question 5\n",
    "-----"
   ]
  },
  {
   "cell_type": "markdown",
   "id": "b1203d9a-7116-4828-9a54-8d03a7a8bcfa",
   "metadata": {},
   "source": [
    "$$ ROR = e^{\\beta + \\delta_{1}(NS)} $$"
   ]
  }
 ],
 "metadata": {
  "kernelspec": {
   "display_name": "Python 3 (ipykernel)",
   "language": "python",
   "name": "python3"
  },
  "language_info": {
   "codemirror_mode": {
    "name": "ipython",
    "version": 3
   },
   "file_extension": ".py",
   "mimetype": "text/x-python",
   "name": "python",
   "nbconvert_exporter": "python",
   "pygments_lexer": "ipython3",
   "version": "3.12.3"
  }
 },
 "nbformat": 4,
 "nbformat_minor": 5
}
