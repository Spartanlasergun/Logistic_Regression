{
 "cells": [
  {
   "cell_type": "markdown",
   "id": "22dfcf0f-aac5-4b92-a6a9-cf39de597e89",
   "metadata": {},
   "source": [
    "# Question 10\n",
    "-----"
   ]
  },
  {
   "cell_type": "markdown",
   "id": "9dc76583-b3e9-4805-84cd-63aa0138df36",
   "metadata": {},
   "source": [
    "The assessment of the change in the coefficients and odds ratios for different models are subjective."
   ]
  }
 ],
 "metadata": {
  "kernelspec": {
   "display_name": "Python 3 (ipykernel)",
   "language": "python",
   "name": "python3"
  },
  "language_info": {
   "codemirror_mode": {
    "name": "ipython",
    "version": 3
   },
   "file_extension": ".py",
   "mimetype": "text/x-python",
   "name": "python",
   "nbconvert_exporter": "python",
   "pygments_lexer": "ipython3",
   "version": "3.12.3"
  }
 },
 "nbformat": 4,
 "nbformat_minor": 5
}
