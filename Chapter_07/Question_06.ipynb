{
 "cells": [
  {
   "cell_type": "markdown",
   "id": "4a8609d2-3f31-45b0-a892-f8153cbf348b",
   "metadata": {},
   "source": [
    "# Question 6\n",
    "-----"
   ]
  },
  {
   "cell_type": "markdown",
   "id": "a104c399-5eee-4aa2-851c-dd34d89c8450",
   "metadata": {},
   "source": [
    "$$ROR = e^{\\beta + \\delta_{1}(AGE) + \\delta_{2}(SEX)}$$"
   ]
  }
 ],
 "metadata": {
  "kernelspec": {
   "display_name": "Python 3 (ipykernel)",
   "language": "python",
   "name": "python3"
  },
  "language_info": {
   "codemirror_mode": {
    "name": "ipython",
    "version": 3
   },
   "file_extension": ".py",
   "mimetype": "text/x-python",
   "name": "python",
   "nbconvert_exporter": "python",
   "pygments_lexer": "ipython3",
   "version": "3.12.3"
  }
 },
 "nbformat": 4,
 "nbformat_minor": 5
}
