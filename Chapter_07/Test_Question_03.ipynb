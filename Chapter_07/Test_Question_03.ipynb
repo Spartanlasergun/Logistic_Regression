{
 "cells": [
  {
   "cell_type": "markdown",
   "id": "25123911-e6f1-4082-90f3-059a68bed798",
   "metadata": {},
   "source": [
    "# Test Question 3\n",
    "-----"
   ]
  },
  {
   "cell_type": "markdown",
   "id": "f7886a92-1e9f-475c-99b7-5af6a80ea4b8",
   "metadata": {},
   "source": [
    "After the interaction test, only the exposure variable and the $NS$ variable are necessarily retained by the model."
   ]
  }
 ],
 "metadata": {
  "kernelspec": {
   "display_name": "Python 3 (ipykernel)",
   "language": "python",
   "name": "python3"
  },
  "language_info": {
   "codemirror_mode": {
    "name": "ipython",
    "version": 3
   },
   "file_extension": ".py",
   "mimetype": "text/x-python",
   "name": "python",
   "nbconvert_exporter": "python",
   "pygments_lexer": "ipython3",
   "version": "3.12.3"
  }
 },
 "nbformat": 4,
 "nbformat_minor": 5
}
