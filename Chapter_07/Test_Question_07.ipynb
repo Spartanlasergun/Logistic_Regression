{
 "cells": [
  {
   "cell_type": "markdown",
   "id": "1f962da9-648b-4156-88de-42d6b9d4f7a0",
   "metadata": {},
   "source": [
    "# Test Question 7\n",
    "-----"
   ]
  },
  {
   "cell_type": "markdown",
   "id": "aa5282b4-7c50-4166-9437-fab8df93f722",
   "metadata": {},
   "source": [
    "The only other term eligible for removal is $AS$. The effect of the exposure variable can be checked for a model with or without this variable to assess its significance. If it is not significant, and the confidence interval of the effect of the exposure variable is narrower, then there is a meaningful gain in precision that can be had from removing it. "
   ]
  }
 ],
 "metadata": {
  "kernelspec": {
   "display_name": "Python 3 (ipykernel)",
   "language": "python",
   "name": "python3"
  },
  "language_info": {
   "codemirror_mode": {
    "name": "ipython",
    "version": 3
   },
   "file_extension": ".py",
   "mimetype": "text/x-python",
   "name": "python",
   "nbconvert_exporter": "python",
   "pygments_lexer": "ipython3",
   "version": "3.12.3"
  }
 },
 "nbformat": 4,
 "nbformat_minor": 5
}
