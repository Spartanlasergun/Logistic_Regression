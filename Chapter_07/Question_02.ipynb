{
 "cells": [
  {
   "cell_type": "markdown",
   "id": "7e01b34c-a13b-4c9f-860e-09f6a90e8f31",
   "metadata": {},
   "source": [
    "# Question 2\n",
    "-----"
   ]
  },
  {
   "cell_type": "markdown",
   "id": "6a65b1d0-1b7d-4583-bfb2-106b2a675a93",
   "metadata": {},
   "source": [
    "A backward elimination procedure involves testing for significance of higher order terms. After non-significant terms are removed, and the model retains the necessary lower order terms, confounding variables eligible for removal can be tested for significance to the model."
   ]
  }
 ],
 "metadata": {
  "kernelspec": {
   "display_name": "Python 3 (ipykernel)",
   "language": "python",
   "name": "python3"
  },
  "language_info": {
   "codemirror_mode": {
    "name": "ipython",
    "version": 3
   },
   "file_extension": ".py",
   "mimetype": "text/x-python",
   "name": "python",
   "nbconvert_exporter": "python",
   "pygments_lexer": "ipython3",
   "version": "3.12.3"
  }
 },
 "nbformat": 4,
 "nbformat_minor": 5
}
