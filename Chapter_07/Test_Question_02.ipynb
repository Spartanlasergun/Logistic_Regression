{
 "cells": [
  {
   "cell_type": "markdown",
   "id": "6ec4fa75-9a09-4378-8c8d-b96fd4b17bda",
   "metadata": {},
   "source": [
    "# Test Question 2\n",
    "-----"
   ]
  },
  {
   "cell_type": "markdown",
   "id": "f09291aa-3a5d-4912-907b-51fc2993b138",
   "metadata": {},
   "source": [
    "The triple product would first be assessed for significance and would be dropped if insignificant. The dual products would be assessed afterward and dropped if insignificant. After the higher order terms have been tested and the model retains the necessary lower order components, the lower order components eligible for removal would be assessed for confounding and dropped if there is a meaningful gain in precision."
   ]
  }
 ],
 "metadata": {
  "kernelspec": {
   "display_name": "Python 3 (ipykernel)",
   "language": "python",
   "name": "python3"
  },
  "language_info": {
   "codemirror_mode": {
    "name": "ipython",
    "version": 3
   },
   "file_extension": ".py",
   "mimetype": "text/x-python",
   "name": "python",
   "nbconvert_exporter": "python",
   "pygments_lexer": "ipython3",
   "version": "3.12.3"
  }
 },
 "nbformat": 4,
 "nbformat_minor": 5
}
