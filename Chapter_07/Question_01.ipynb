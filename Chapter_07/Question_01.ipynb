{
 "cells": [
  {
   "cell_type": "markdown",
   "id": "6c52c0c4-9c4c-4090-8ce7-d8ff59ed8e7b",
   "metadata": {},
   "source": [
    "# Question 1\n",
    "-----"
   ]
  },
  {
   "cell_type": "markdown",
   "id": "6f8bc0d7-68f5-4c7c-8462-c896d48bf0ef",
   "metadata": {},
   "source": [
    "In a chunk test, all the higher order terms are presumed to be $0$ in the null hypothesis. In this case, this means:\n",
    "$$H_{0}: \\delta_{1} = \\delta_{2} = 0$$\n",
    "\n",
    "Hence the full model would be given by:\n",
    "\n",
    "$$logit \\ \\ P(X) = \\alpha + \\beta(HT) + \\gamma_{1}(HS) + \\gamma_{2}(CT) + \\gamma_{3}(AGE) + \\gamma_{4}(SEX) + \\delta_{1}(HT * AGE) + \\delta_{2}(HT * SEX)$$\n",
    "\n",
    "and the reduced model is:\n",
    "\n",
    "$$logit \\ \\ P(X) = \\alpha + \\beta(HT) + \\gamma_{1}(HS) + \\gamma_{2}(CT) + \\gamma_{3}(AGE) + \\gamma_{4}(SEX)$$\n",
    "\n",
    "The distribution of the test statistic for the likelihood ratio is chi-squared."
   ]
  }
 ],
 "metadata": {
  "kernelspec": {
   "display_name": "Python 3 (ipykernel)",
   "language": "python",
   "name": "python3"
  },
  "language_info": {
   "codemirror_mode": {
    "name": "ipython",
    "version": 3
   },
   "file_extension": ".py",
   "mimetype": "text/x-python",
   "name": "python",
   "nbconvert_exporter": "python",
   "pygments_lexer": "ipython3",
   "version": "3.12.3"
  }
 },
 "nbformat": 4,
 "nbformat_minor": 5
}
