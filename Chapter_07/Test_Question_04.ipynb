{
 "cells": [
  {
   "cell_type": "markdown",
   "id": "ad63aa93-ad9e-44ea-b057-d1d63d05a329",
   "metadata": {},
   "source": [
    "# Test Question 4\n",
    "-----"
   ]
  },
  {
   "cell_type": "markdown",
   "id": "4b673ed6-51a5-4449-b604-b3b17f4b3023",
   "metadata": {},
   "source": [
    "$$ROR = e^{\\beta + \\delta_{1}(NS)}$$"
   ]
  }
 ],
 "metadata": {
  "kernelspec": {
   "display_name": "Python 3 (ipykernel)",
   "language": "python",
   "name": "python3"
  },
  "language_info": {
   "codemirror_mode": {
    "name": "ipython",
    "version": 3
   },
   "file_extension": ".py",
   "mimetype": "text/x-python",
   "name": "python",
   "nbconvert_exporter": "python",
   "pygments_lexer": "ipython3",
   "version": "3.12.3"
  }
 },
 "nbformat": 4,
 "nbformat_minor": 5
}
