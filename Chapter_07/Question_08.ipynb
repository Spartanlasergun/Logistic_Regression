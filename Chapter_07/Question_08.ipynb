{
 "cells": [
  {
   "cell_type": "markdown",
   "id": "4d611310-bc0c-4999-8650-834c4c4703db",
   "metadata": {},
   "source": [
    "# Question 8\n",
    "-----"
   ]
  },
  {
   "cell_type": "markdown",
   "id": "f313a01e-6018-4ceb-a281-4c91919c5971",
   "metadata": {},
   "source": [
    "Check the model to see how significant the change is in the coefficients necessary for calculating the effect of the exposure variable (i.e. $\\beta$, $\\delta_{1}$, $\\delta_{2}$) when the confounding variables eligible for removal are not present."
   ]
  }
 ],
 "metadata": {
  "kernelspec": {
   "display_name": "Python 3 (ipykernel)",
   "language": "python",
   "name": "python3"
  },
  "language_info": {
   "codemirror_mode": {
    "name": "ipython",
    "version": 3
   },
   "file_extension": ".py",
   "mimetype": "text/x-python",
   "name": "python",
   "nbconvert_exporter": "python",
   "pygments_lexer": "ipython3",
   "version": "3.12.3"
  }
 },
 "nbformat": 4,
 "nbformat_minor": 5
}
