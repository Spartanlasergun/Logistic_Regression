{
 "cells": [
  {
   "cell_type": "markdown",
   "id": "5aaecc78-b8ac-459d-9f7b-a3fed4c752c8",
   "metadata": {},
   "source": [
    "# Test Question 1\n",
    "-----"
   ]
  },
  {
   "cell_type": "markdown",
   "id": "4f2574ce-24c7-4189-9dc2-77a682908606",
   "metadata": {},
   "source": [
    "Variables $SMK * NS$, $SMK * AS$, and $SMK * NS * AS$ are interaction terms."
   ]
  }
 ],
 "metadata": {
  "kernelspec": {
   "display_name": "Python 3 (ipykernel)",
   "language": "python",
   "name": "python3"
  },
  "language_info": {
   "codemirror_mode": {
    "name": "ipython",
    "version": 3
   },
   "file_extension": ".py",
   "mimetype": "text/x-python",
   "name": "python",
   "nbconvert_exporter": "python",
   "pygments_lexer": "ipython3",
   "version": "3.12.3"
  }
 },
 "nbformat": 4,
 "nbformat_minor": 5
}
