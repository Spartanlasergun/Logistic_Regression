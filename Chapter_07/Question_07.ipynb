{
 "cells": [
  {
   "cell_type": "markdown",
   "id": "1eb29a6e-ae52-41fa-a3b5-039306806c6c",
   "metadata": {},
   "source": [
    "# Question 7\n",
    "-----"
   ]
  },
  {
   "cell_type": "markdown",
   "id": "d4bf5701-9411-4791-9f4a-b989045581b6",
   "metadata": {},
   "source": [
    "The confounding varibles HS and CT are eligible to be dropped."
   ]
  }
 ],
 "metadata": {
  "kernelspec": {
   "display_name": "Python 3 (ipykernel)",
   "language": "python",
   "name": "python3"
  },
  "language_info": {
   "codemirror_mode": {
    "name": "ipython",
    "version": 3
   },
   "file_extension": ".py",
   "mimetype": "text/x-python",
   "name": "python",
   "nbconvert_exporter": "python",
   "pygments_lexer": "ipython3",
   "version": "3.12.3"
  }
 },
 "nbformat": 4,
 "nbformat_minor": 5
}
