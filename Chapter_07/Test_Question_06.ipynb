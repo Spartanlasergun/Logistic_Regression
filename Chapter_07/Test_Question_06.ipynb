{
 "cells": [
  {
   "cell_type": "markdown",
   "id": "0e30ff2b-896b-4b96-92fd-7058c7985c31",
   "metadata": {},
   "source": [
    "# Test Question 6\n",
    "-----"
   ]
  },
  {
   "cell_type": "markdown",
   "id": "4763d826-5266-44ad-9025-cea490766216",
   "metadata": {},
   "source": [
    "If there is significant change in the effect of the exposure variable for a model without the variable $NS * AS$ then it should be retained. If the change is not significant but the confidence interval is smaller without it, then their is a meaningful gain in precision that could be had from dropping the variable."
   ]
  }
 ],
 "metadata": {
  "kernelspec": {
   "display_name": "Python 3 (ipykernel)",
   "language": "python",
   "name": "python3"
  },
  "language_info": {
   "codemirror_mode": {
    "name": "ipython",
    "version": 3
   },
   "file_extension": ".py",
   "mimetype": "text/x-python",
   "name": "python",
   "nbconvert_exporter": "python",
   "pygments_lexer": "ipython3",
   "version": "3.12.3"
  }
 },
 "nbformat": 4,
 "nbformat_minor": 5
}
