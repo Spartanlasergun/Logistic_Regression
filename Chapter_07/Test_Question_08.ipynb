{
 "cells": [
  {
   "cell_type": "markdown",
   "id": "ecf12634-3d61-4899-bef6-02282ab9a17b",
   "metadata": {},
   "source": [
    "# Test Question 8\n",
    "-----"
   ]
  },
  {
   "cell_type": "markdown",
   "id": "bbe62372-579f-49ce-9e88-7c7faa9fe0b4",
   "metadata": {},
   "source": [
    "Using the coefficients obtained from fitting the logistic model, the effect of the exposure can be tracked for changes in the $NS$ variable, i.e.\n",
    "\n",
    "$$ROR = e^{\\beta + \\delta_{1}(NS)}$$\n",
    "\n",
    "The confidence intervals for each estimate as well as significance testing can be done for further examination of the relationship between the variables."
   ]
  }
 ],
 "metadata": {
  "kernelspec": {
   "display_name": "Python 3 (ipykernel)",
   "language": "python",
   "name": "python3"
  },
  "language_info": {
   "codemirror_mode": {
    "name": "ipython",
    "version": 3
   },
   "file_extension": ".py",
   "mimetype": "text/x-python",
   "name": "python",
   "nbconvert_exporter": "python",
   "pygments_lexer": "ipython3",
   "version": "3.12.3"
  }
 },
 "nbformat": 4,
 "nbformat_minor": 5
}
