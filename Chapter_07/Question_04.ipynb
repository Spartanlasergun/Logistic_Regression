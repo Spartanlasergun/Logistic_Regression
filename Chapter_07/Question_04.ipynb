{
 "cells": [
  {
   "cell_type": "markdown",
   "id": "29ecfc8b-9f0f-433f-a3bc-7251a973b5c1",
   "metadata": {},
   "source": [
    "# Question 4\n",
    "-----"
   ]
  },
  {
   "cell_type": "markdown",
   "id": "ebda6868-3012-4bc1-9fd0-21864dfc59a6",
   "metadata": {},
   "source": [
    "If there is no interaction, the effect of HT is given by:\n",
    "\n",
    "$$ROR = e^{\\beta}$$\n",
    "\n",
    "Without significant interaction, the terms AGE and SEX become eligible for removal. The odds ratio for the effect of the exposure variable can be calculated for models with and without these terms to determine how significant their influence is on the $\\beta$ value in the model. Removing confounding variables is a question of precision, so if the variables eligible for removal do not significantly affect the outcome of the assessment they can be removed. However, the safest practice is to control for all of the confounding variables."
   ]
  }
 ],
 "metadata": {
  "kernelspec": {
   "display_name": "Python 3 (ipykernel)",
   "language": "python",
   "name": "python3"
  },
  "language_info": {
   "codemirror_mode": {
    "name": "ipython",
    "version": 3
   },
   "file_extension": ".py",
   "mimetype": "text/x-python",
   "name": "python",
   "nbconvert_exporter": "python",
   "pygments_lexer": "ipython3",
   "version": "3.12.3"
  }
 },
 "nbformat": 4,
 "nbformat_minor": 5
}
