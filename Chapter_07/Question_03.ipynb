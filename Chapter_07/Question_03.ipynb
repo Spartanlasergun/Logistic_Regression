{
 "cells": [
  {
   "cell_type": "markdown",
   "id": "ee821f15-328b-46c9-8ee7-82527e66c216",
   "metadata": {},
   "source": [
    "# Question 3\n",
    "-----"
   ]
  },
  {
   "cell_type": "markdown",
   "id": "345b7a59-0df5-4ed2-af2f-e4ec5f1f714c",
   "metadata": {},
   "source": [
    "The chunk test described in question one is a good first test to determine if the interaction terms are altogether significant. If they are significant as a unit, then they can be assessed independently via the backwards elimination procedure described in question two."
   ]
  }
 ],
 "metadata": {
  "kernelspec": {
   "display_name": "Python 3 (ipykernel)",
   "language": "python",
   "name": "python3"
  },
  "language_info": {
   "codemirror_mode": {
    "name": "ipython",
    "version": 3
   },
   "file_extension": ".py",
   "mimetype": "text/x-python",
   "name": "python",
   "nbconvert_exporter": "python",
   "pygments_lexer": "ipython3",
   "version": "3.12.3"
  }
 },
 "nbformat": 4,
 "nbformat_minor": 5
}
