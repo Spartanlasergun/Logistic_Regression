{
 "cells": [
  {
   "cell_type": "markdown",
   "id": "8e29d336-3159-4f4e-a870-57bce9049f52",
   "metadata": {},
   "source": [
    "# Question 5\n",
    "-----"
   ]
  },
  {
   "cell_type": "markdown",
   "id": "70ba43db-1f58-4d74-8d8e-796d045c47d8",
   "metadata": {},
   "source": [
    "If the confidence interval for the estimated effect of the exposure variable without the confounding variables is smaller than with the confounding variables, then the gain in precision is meaningful. Thus, the confounding variables can then be dropped."
   ]
  }
 ],
 "metadata": {
  "kernelspec": {
   "display_name": "Python 3 (ipykernel)",
   "language": "python",
   "name": "python3"
  },
  "language_info": {
   "codemirror_mode": {
    "name": "ipython",
    "version": 3
   },
   "file_extension": ".py",
   "mimetype": "text/x-python",
   "name": "python",
   "nbconvert_exporter": "python",
   "pygments_lexer": "ipython3",
   "version": "3.12.3"
  }
 },
 "nbformat": 4,
 "nbformat_minor": 5
}
