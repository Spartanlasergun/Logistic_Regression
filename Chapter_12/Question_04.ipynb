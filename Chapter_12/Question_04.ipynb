{
 "cells": [
  {
   "cell_type": "markdown",
   "id": "23e17f9e-04fa-40af-851d-6aa81536d49c",
   "metadata": {},
   "source": [
    "# Question 4\n",
    "-----"
   ]
  },
  {
   "cell_type": "markdown",
   "id": "c3ec4eeb-f419-4b81-af36-11d8227d1ec6",
   "metadata": {},
   "source": [
    "The empirical estimate is better, because the model is not stationary-4 dependent."
   ]
  }
 ],
 "metadata": {
  "kernelspec": {
   "display_name": "Python 3 (ipykernel)",
   "language": "python",
   "name": "python3"
  },
  "language_info": {
   "codemirror_mode": {
    "name": "ipython",
    "version": 3
   },
   "file_extension": ".py",
   "mimetype": "text/x-python",
   "name": "python",
   "nbconvert_exporter": "python",
   "pygments_lexer": "ipython3",
   "version": "3.12.3"
  }
 },
 "nbformat": 4,
 "nbformat_minor": 5
}
