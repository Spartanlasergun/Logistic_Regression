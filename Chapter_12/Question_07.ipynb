{
 "cells": [
  {
   "cell_type": "markdown",
   "id": "79259600-838a-4a54-bdc4-f44f84dfcc09",
   "metadata": {},
   "source": [
    "# Question 7\n",
    "-----"
   ]
  },
  {
   "cell_type": "markdown",
   "id": "e03630c6-1cbf-4493-bd22-23208d4c7861",
   "metadata": {},
   "source": [
    "The unstructured correlation can give insight into existing patterns in the correlations that may be indicative of a specific structure within the data."
   ]
  }
 ],
 "metadata": {
  "kernelspec": {
   "display_name": "Python 3 (ipykernel)",
   "language": "python",
   "name": "python3"
  },
  "language_info": {
   "codemirror_mode": {
    "name": "ipython",
    "version": 3
   },
   "file_extension": ".py",
   "mimetype": "text/x-python",
   "name": "python",
   "nbconvert_exporter": "python",
   "pygments_lexer": "ipython3",
   "version": "3.12.3"
  }
 },
 "nbformat": 4,
 "nbformat_minor": 5
}
