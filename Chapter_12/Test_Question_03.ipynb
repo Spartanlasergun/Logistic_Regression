{
 "cells": [
  {
   "cell_type": "markdown",
   "id": "7cab018e-8a26-4e0f-8b22-9d13fc82d9c2",
   "metadata": {},
   "source": [
    "# Test Question 3\n",
    "-----"
   ]
  },
  {
   "cell_type": "markdown",
   "id": "588de7e3-5019-48bc-a71f-229c0dec247f",
   "metadata": {},
   "source": [
    "The working covariance pertains to each cluster, while the covariance for parameter estimates pertains to the model parameters."
   ]
  }
 ],
 "metadata": {
  "kernelspec": {
   "display_name": "Python 3 (ipykernel)",
   "language": "python",
   "name": "python3"
  },
  "language_info": {
   "codemirror_mode": {
    "name": "ipython",
    "version": 3
   },
   "file_extension": ".py",
   "mimetype": "text/x-python",
   "name": "python",
   "nbconvert_exporter": "python",
   "pygments_lexer": "ipython3",
   "version": "3.12.3"
  }
 },
 "nbformat": 4,
 "nbformat_minor": 5
}
