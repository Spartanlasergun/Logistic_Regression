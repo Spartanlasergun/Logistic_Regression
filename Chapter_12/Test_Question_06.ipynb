{
 "cells": [
  {
   "cell_type": "markdown",
   "id": "7464592f-984e-484d-a7c9-de54b7f356f9",
   "metadata": {},
   "source": [
    "# Test Question 6\n",
    "-----"
   ]
  },
  {
   "cell_type": "code",
   "execution_count": 1,
   "id": "0ce5a84a-6fc7-4c82-8b83-c2b65a90ea5b",
   "metadata": {},
   "outputs": [
    {
     "name": "stdout",
     "output_type": "stream",
     "text": [
      "OR (Model 2) = 1.3639705932663844\n",
      "OR (Model 3) = 1.3509391266920934\n"
     ]
    }
   ],
   "source": [
    "import math\n",
    "\n",
    "OR_M2 = math.exp(0.3104)\n",
    "OR_M3 = math.exp(0.3008)\n",
    "\n",
    "print(f\"OR (Model 2) = {OR_M2}\")\n",
    "print(f\"OR (Model 3) = {OR_M3}\")"
   ]
  },
  {
   "cell_type": "markdown",
   "id": "823708f0-5362-4f7a-af06-b9c9879f1a70",
   "metadata": {},
   "source": [
    "The odds ratio with and without SEQUENCE is almost identical, which means that SEQUENCE has little to no effect on RX and is not confounding RX."
   ]
  }
 ],
 "metadata": {
  "kernelspec": {
   "display_name": "Python 3 (ipykernel)",
   "language": "python",
   "name": "python3"
  },
  "language_info": {
   "codemirror_mode": {
    "name": "ipython",
    "version": 3
   },
   "file_extension": ".py",
   "mimetype": "text/x-python",
   "name": "python",
   "nbconvert_exporter": "python",
   "pygments_lexer": "ipython3",
   "version": "3.12.3"
  }
 },
 "nbformat": 4,
 "nbformat_minor": 5
}
