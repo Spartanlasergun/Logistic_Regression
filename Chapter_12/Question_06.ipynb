{
 "cells": [
  {
   "cell_type": "markdown",
   "id": "fe78daf5-eb68-4627-b185-4b9c23f30f80",
   "metadata": {},
   "source": [
    "# Question 6\n",
    "-----"
   ]
  },
  {
   "cell_type": "markdown",
   "id": "677cbaa1-2233-4721-8286-9715cf6c0edb",
   "metadata": {},
   "source": [
    "Unstructured uses 36 while 8-dependent uses 8, hence the difference is 28 parameters."
   ]
  }
 ],
 "metadata": {
  "kernelspec": {
   "display_name": "Python 3 (ipykernel)",
   "language": "python",
   "name": "python3"
  },
  "language_info": {
   "codemirror_mode": {
    "name": "ipython",
    "version": 3
   },
   "file_extension": ".py",
   "mimetype": "text/x-python",
   "name": "python",
   "nbconvert_exporter": "python",
   "pygments_lexer": "ipython3",
   "version": "3.12.3"
  }
 },
 "nbformat": 4,
 "nbformat_minor": 5
}
