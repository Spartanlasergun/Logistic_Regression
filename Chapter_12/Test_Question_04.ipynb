{
 "cells": [
  {
   "cell_type": "markdown",
   "id": "bde3209c-3dad-4f3e-b25d-73cb02dcdac4",
   "metadata": {},
   "source": [
    "# Test Question 4\n",
    "-----"
   ]
  },
  {
   "cell_type": "code",
   "execution_count": 1,
   "id": "04d2abe2-6cbb-4d78-81b4-3cf3dae6a283",
   "metadata": {},
   "outputs": [
    {
     "name": "stdout",
     "output_type": "stream",
     "text": [
      "wald = -0.2672338296009008\n"
     ]
    }
   ],
   "source": [
    "wald = (-0.2136) / 0.7993\n",
    "print(f\"wald = {wald}\")"
   ]
  },
  {
   "cell_type": "code",
   "execution_count": 2,
   "id": "f7391ecd-9dc6-48db-b2b8-d91f9ae94d80",
   "metadata": {},
   "outputs": [],
   "source": [
    "from scipy.integrate import quad\n",
    "import math\n",
    "\n",
    "class normal:\n",
    "    def __init__(self, u, sigma):\n",
    "        self.u = u\n",
    "        self.sigma = sigma\n",
    "        self.root2pi = math.sqrt((2 * math.pi)) \n",
    "    \n",
    "    def normal_func(self, x):\n",
    "        return (1 / (self.sigma * self.root2pi)) * math.exp((-1 * pow((x - self.u), 2)) / (2 * pow(self.sigma, 2)))\n",
    "\n",
    "    def integrate(self, lower_limit, upper_limit):\n",
    "        result, error = quad(self.normal_func, lower_limit, upper_limit)\n",
    "        \n",
    "        return result"
   ]
  },
  {
   "cell_type": "code",
   "execution_count": 3,
   "id": "86db8336-5dbd-4a37-9e1a-d75f81e33411",
   "metadata": {},
   "outputs": [
    {
     "name": "stdout",
     "output_type": "stream",
     "text": [
      "0.78928913071817\n"
     ]
    }
   ],
   "source": [
    "z = normal(0, 1)\n",
    "p = 1 - z.integrate(wald, (-1* wald))\n",
    "print(p)"
   ]
  },
  {
   "cell_type": "markdown",
   "id": "817ab142-a794-4ef3-bc0b-9953c5ff754f",
   "metadata": {},
   "source": [
    "$P < 0.95$\n",
    "Hence the wald statistic is not significant at the 5% level"
   ]
  }
 ],
 "metadata": {
  "kernelspec": {
   "display_name": "Python 3 (ipykernel)",
   "language": "python",
   "name": "python3"
  },
  "language_info": {
   "codemirror_mode": {
    "name": "ipython",
    "version": 3
   },
   "file_extension": ".py",
   "mimetype": "text/x-python",
   "name": "python",
   "nbconvert_exporter": "python",
   "pygments_lexer": "ipython3",
   "version": "3.12.3"
  }
 },
 "nbformat": 4,
 "nbformat_minor": 5
}
