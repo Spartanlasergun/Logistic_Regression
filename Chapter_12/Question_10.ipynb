{
 "cells": [
  {
   "cell_type": "markdown",
   "id": "3c0a5560-337f-4c27-ad9d-c7b676971830",
   "metadata": {},
   "source": [
    "# Question 10\n",
    "-----"
   ]
  },
  {
   "cell_type": "markdown",
   "id": "6556e3fa-5b49-476b-a846-5269c6e17a93",
   "metadata": {},
   "source": [
    "If the variance changes based on correlation structure as well, then the Wald statistics would be affected."
   ]
  }
 ],
 "metadata": {
  "kernelspec": {
   "display_name": "Python 3 (ipykernel)",
   "language": "python",
   "name": "python3"
  },
  "language_info": {
   "codemirror_mode": {
    "name": "ipython",
    "version": 3
   },
   "file_extension": ".py",
   "mimetype": "text/x-python",
   "name": "python",
   "nbconvert_exporter": "python",
   "pygments_lexer": "ipython3",
   "version": "3.12.3"
  }
 },
 "nbformat": 4,
 "nbformat_minor": 5
}
