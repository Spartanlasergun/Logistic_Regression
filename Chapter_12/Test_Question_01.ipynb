{
 "cells": [
  {
   "cell_type": "markdown",
   "id": "b8d14e1c-003a-4fa8-8db2-3326311d5e95",
   "metadata": {},
   "source": [
    "# Test Question 1\n",
    "-----"
   ]
  },
  {
   "cell_type": "markdown",
   "id": "745a2736-6d6f-451e-a1ae-43cf25445bca",
   "metadata": {},
   "source": [
    "Model 1:\n",
    "\n",
    "$$logit \\ \\ P(X) = (-0.6190) + (0.4814 * RX) + (0.8197 * SEQ) + (-0.2136)(RX * SEQ) $$"
   ]
  },
  {
   "cell_type": "markdown",
   "id": "7db42d15-8efa-428c-88e6-db3157d79680",
   "metadata": {},
   "source": [
    "Model 2:\n",
    "\n",
    "$$logit \\ \\ P(X) = (-0.5625) + (0.3104 * RX) + (0.7118 * SEQ)$$"
   ]
  },
  {
   "cell_type": "markdown",
   "id": "039375cd-2553-4d42-bf79-79874e405915",
   "metadata": {},
   "source": [
    "Model 3:\n",
    "\n",
    "$$logit \\ \\ P(X) = (-0.2007) + (0.3008 * RX)$$"
   ]
  }
 ],
 "metadata": {
  "kernelspec": {
   "display_name": "Python 3 (ipykernel)",
   "language": "python",
   "name": "python3"
  },
  "language_info": {
   "codemirror_mode": {
    "name": "ipython",
    "version": 3
   },
   "file_extension": ".py",
   "mimetype": "text/x-python",
   "name": "python",
   "nbconvert_exporter": "python",
   "pygments_lexer": "ipython3",
   "version": "3.12.3"
  }
 },
 "nbformat": 4,
 "nbformat_minor": 5
}
