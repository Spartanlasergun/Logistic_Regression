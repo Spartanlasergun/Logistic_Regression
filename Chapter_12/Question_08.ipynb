{
 "cells": [
  {
   "cell_type": "markdown",
   "id": "a8504f20-5fea-4bfa-85ac-ab9c7577bc6f",
   "metadata": {},
   "source": [
    "# Question 8\n",
    "-----"
   ]
  },
  {
   "cell_type": "code",
   "execution_count": 1,
   "id": "38d2fa78-1104-4f09-ba87-a433c7c0a5a7",
   "metadata": {},
   "outputs": [
    {
     "name": "stdout",
     "output_type": "stream",
     "text": [
      "OR = 1.4334727546686823\n"
     ]
    }
   ],
   "source": [
    "import math\n",
    "\n",
    "OR = math.exp(0.3601)\n",
    "print(f\"OR = {OR}\")"
   ]
  },
  {
   "cell_type": "code",
   "execution_count": 2,
   "id": "6f11a2ef-3636-4e54-8188-5fbc5f282cef",
   "metadata": {},
   "outputs": [
    {
     "name": "stdout",
     "output_type": "stream",
     "text": [
      "0.291763423088945 < OR < 7.042843536117254\n"
     ]
    }
   ],
   "source": [
    "lower_limit = math.exp(0.3601 - (1.96 * 0.8122))\n",
    "upper_limit = math.exp(0.3601 + (1.96 * 0.8122))\n",
    "print(f\"{lower_limit} < OR < {upper_limit}\")"
   ]
  }
 ],
 "metadata": {
  "kernelspec": {
   "display_name": "Python 3 (ipykernel)",
   "language": "python",
   "name": "python3"
  },
  "language_info": {
   "codemirror_mode": {
    "name": "ipython",
    "version": 3
   },
   "file_extension": ".py",
   "mimetype": "text/x-python",
   "name": "python",
   "nbconvert_exporter": "python",
   "pygments_lexer": "ipython3",
   "version": "3.12.3"
  }
 },
 "nbformat": 4,
 "nbformat_minor": 5
}
