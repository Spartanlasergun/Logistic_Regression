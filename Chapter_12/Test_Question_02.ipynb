{
 "cells": [
  {
   "cell_type": "markdown",
   "id": "0b76efe7-a481-4f9a-a4ac-8879cba1dffe",
   "metadata": {},
   "source": [
    "# Test Question 2\n",
    "-----"
   ]
  },
  {
   "cell_type": "code",
   "execution_count": 1,
   "id": "ea7b73b9-72d9-4f67-8d21-771902d2b5fc",
   "metadata": {},
   "outputs": [
    {
     "name": "stdout",
     "output_type": "stream",
     "text": [
      "OR (SEQ = 0) = 1.5190725740645368\n",
      "0.4793328680778886 < OR < 4.814152416729515\n"
     ]
    }
   ],
   "source": [
    "import math\n",
    "\n",
    "OR_0 = math.exp(0.4181) \n",
    "lower_limit = math.exp(0.4181 - (1.96 * 0.5885))\n",
    "upper_limit = math.exp(0.4181 + (1.96 * 0.5885))\n",
    "print(f\"OR (SEQ = 0) = {OR_0}\")\n",
    "print(f\"{lower_limit} < OR < {upper_limit}\")"
   ]
  },
  {
   "cell_type": "code",
   "execution_count": 2,
   "id": "e7d6cf51-e9bc-4c92-a035-2b151a53770f",
   "metadata": {},
   "outputs": [
    {
     "name": "stdout",
     "output_type": "stream",
     "text": [
      "OR (SEQ = 1) = 1.226911455845759\n",
      "0.42505696872312376 < OR < 3.5414352222186465\n"
     ]
    }
   ],
   "source": [
    "OR_1 = math.exp(0.4181 - 0.2136) \n",
    "lower_limit = math.exp((0.4181 - 0.2136) - (1.96 * math.sqrt(0.3463 + 0.6388 - (2 * 0.3463))))\n",
    "upper_limit = math.exp((0.4181 - 0.2136) + (1.96 * math.sqrt(0.3463 + 0.6388 - (2 * 0.3463))))\n",
    "print(f\"OR (SEQ = 1) = {OR_1}\")\n",
    "print(f\"{lower_limit} < OR < {upper_limit}\")"
   ]
  }
 ],
 "metadata": {
  "kernelspec": {
   "display_name": "Python 3 (ipykernel)",
   "language": "python",
   "name": "python3"
  },
  "language_info": {
   "codemirror_mode": {
    "name": "ipython",
    "version": 3
   },
   "file_extension": ".py",
   "mimetype": "text/x-python",
   "name": "python",
   "nbconvert_exporter": "python",
   "pygments_lexer": "ipython3",
   "version": "3.12.3"
  }
 },
 "nbformat": 4,
 "nbformat_minor": 5
}
