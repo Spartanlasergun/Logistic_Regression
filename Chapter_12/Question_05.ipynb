{
 "cells": [
  {
   "cell_type": "markdown",
   "id": "69105fbe-3a9c-4f89-8372-9a32d967fc9f",
   "metadata": {},
   "source": [
    "# Question 5\n",
    "-----"
   ]
  },
  {
   "cell_type": "markdown",
   "id": "71c3e6a4-aeb8-42fb-990a-92496256b35a",
   "metadata": {},
   "source": [
    "Unstructured correlation considers every possible correlation combination while stationary 8-dependent is limited."
   ]
  }
 ],
 "metadata": {
  "kernelspec": {
   "display_name": "Python 3 (ipykernel)",
   "language": "python",
   "name": "python3"
  },
  "language_info": {
   "codemirror_mode": {
    "name": "ipython",
    "version": 3
   },
   "file_extension": ".py",
   "mimetype": "text/x-python",
   "name": "python",
   "nbconvert_exporter": "python",
   "pygments_lexer": "ipython3",
   "version": "3.12.3"
  }
 },
 "nbformat": 4,
 "nbformat_minor": 5
}
