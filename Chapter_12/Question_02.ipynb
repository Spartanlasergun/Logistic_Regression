{
 "cells": [
  {
   "cell_type": "markdown",
   "id": "7f33c04e-e44a-4faa-8547-30d64b1e86f2",
   "metadata": {},
   "source": [
    "# Question 2\n",
    "-----"
   ]
  },
  {
   "cell_type": "code",
   "execution_count": 1,
   "id": "cfd0b86a-16aa-4369-86fd-4f46bf16b8a5",
   "metadata": {},
   "outputs": [
    {
     "name": "stdout",
     "output_type": "stream",
     "text": [
      "Empirical Std. Error:\n",
      "0.21311741947983262 < OR < 6.508519428393682\n"
     ]
    }
   ],
   "source": [
    "import math\n",
    "\n",
    "lower_limit = math.exp(0.1636 - (1.96 * 0.8722))\n",
    "upper_limit = math.exp(0.1636 + (1.96 * 0.8722))\n",
    "print(\"Empirical Std. Error:\")\n",
    "print(f\"{lower_limit} < OR < {upper_limit}\")"
   ]
  },
  {
   "cell_type": "code",
   "execution_count": 2,
   "id": "513b12c8-c1e5-4ffe-96c1-36a4596be918",
   "metadata": {},
   "outputs": [
    {
     "name": "stdout",
     "output_type": "stream",
     "text": [
      "Model-Based Std. Error:\n",
      "0.6748694595984247 < OR < 2.0553291388218784\n"
     ]
    }
   ],
   "source": [
    "lower_limit = math.exp(0.1636 - (1.96 * 0.2841))\n",
    "upper_limit = math.exp(0.1636 + (1.96 * 0.2841))\n",
    "print(\"Model-Based Std. Error:\")\n",
    "print(f\"{lower_limit} < OR < {upper_limit}\")"
   ]
  }
 ],
 "metadata": {
  "kernelspec": {
   "display_name": "Python 3 (ipykernel)",
   "language": "python",
   "name": "python3"
  },
  "language_info": {
   "codemirror_mode": {
    "name": "ipython",
    "version": 3
   },
   "file_extension": ".py",
   "mimetype": "text/x-python",
   "name": "python",
   "nbconvert_exporter": "python",
   "pygments_lexer": "ipython3",
   "version": "3.12.3"
  }
 },
 "nbformat": 4,
 "nbformat_minor": 5
}
