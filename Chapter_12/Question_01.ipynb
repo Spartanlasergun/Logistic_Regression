{
 "cells": [
  {
   "cell_type": "markdown",
   "id": "dccd1a49-c70e-45a9-9277-7d3ed145e318",
   "metadata": {},
   "source": [
    "# Question 1\n",
    "-----"
   ]
  },
  {
   "cell_type": "markdown",
   "id": "e906f7bf-60ef-44fe-8d58-167707e5e3b7",
   "metadata": {},
   "source": [
    "The stationary-4 structure uses 4 correlation parameters. The correlation between responses from the same infant 1 month apart is $\\alpha_{1}$. The correlation between responses from the same infant 2, 3, or 4 months apart is $\\alpha_{2}$, $\\alpha_{3}$, and $\\alpha_{4}$ respectively. The correlation between responses for the same infant more than 4 months apart if assumed to be 0."
   ]
  }
 ],
 "metadata": {
  "kernelspec": {
   "display_name": "Python 3 (ipykernel)",
   "language": "python",
   "name": "python3"
  },
  "language_info": {
   "codemirror_mode": {
    "name": "ipython",
    "version": 3
   },
   "file_extension": ".py",
   "mimetype": "text/x-python",
   "name": "python",
   "nbconvert_exporter": "python",
   "pygments_lexer": "ipython3",
   "version": "3.12.3"
  }
 },
 "nbformat": 4,
 "nbformat_minor": 5
}
