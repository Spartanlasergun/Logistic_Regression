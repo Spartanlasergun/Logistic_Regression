{
 "cells": [
  {
   "cell_type": "markdown",
   "id": "4d0efdea-12ee-42db-8e12-b5e366f344dc",
   "metadata": {},
   "source": [
    "# Test Question 5\n",
    "-----"
   ]
  },
  {
   "cell_type": "code",
   "execution_count": 1,
   "id": "74766784-261a-447d-a58b-03c511b57874",
   "metadata": {},
   "outputs": [
    {
     "name": "stdout",
     "output_type": "stream",
     "text": [
      "score = 0.07139584\n"
     ]
    }
   ],
   "source": [
    "score = 0.2672**2\n",
    "print(f\"score = {score}\")"
   ]
  },
  {
   "cell_type": "code",
   "execution_count": 2,
   "id": "3e31c6d4-c751-42ba-9fa4-a9573efab37e",
   "metadata": {},
   "outputs": [],
   "source": [
    "import math\n",
    "from scipy.special import gamma\n",
    "from scipy.integrate import quad\n",
    "\n",
    "class chi:\n",
    "    def __init__(self, nu):\n",
    "        self.a = (nu / 2) - 1\n",
    "        self.b = nu / 2\n",
    "        self.c = gamma(nu / 2)\n",
    "        \n",
    "    def chi_pdf(self, x):\n",
    "        return (pow(x, self.a) * math.exp((-1 * x) / 2)) / ((2**(self.b)) * self.c)\n",
    "\n",
    "    def integrate(self, upper_limit):\n",
    "        result, error = quad(self.chi_pdf, 0, upper_limit)\n",
    "        return result\n",
    "\n",
    "   "
   ]
  },
  {
   "cell_type": "code",
   "execution_count": 3,
   "id": "d9581d5e-ba40-44be-bf46-ace12e3e0531",
   "metadata": {},
   "outputs": [
    {
     "name": "stdout",
     "output_type": "stream",
     "text": [
      "0.7893151761500474\n"
     ]
    }
   ],
   "source": [
    "chi_dist = chi(1)\n",
    "p = 1 - chi_dist.integrate(score)\n",
    "print(p)"
   ]
  },
  {
   "cell_type": "markdown",
   "id": "fc73c0a8-55aa-4535-9bcc-a6e6cb201efc",
   "metadata": {},
   "source": [
    "Hence the score test is not significant at the 5% level"
   ]
  }
 ],
 "metadata": {
  "kernelspec": {
   "display_name": "Python 3 (ipykernel)",
   "language": "python",
   "name": "python3"
  },
  "language_info": {
   "codemirror_mode": {
    "name": "ipython",
    "version": 3
   },
   "file_extension": ".py",
   "mimetype": "text/x-python",
   "name": "python",
   "nbconvert_exporter": "python",
   "pygments_lexer": "ipython3",
   "version": "3.12.3"
  }
 },
 "nbformat": 4,
 "nbformat_minor": 5
}
