{
 "cells": [
  {
   "cell_type": "markdown",
   "id": "9ebe66ee-13fe-43e0-99ed-e1d0d05d3134",
   "metadata": {},
   "source": [
    "# Question 18\n",
    "-----"
   ]
  },
  {
   "cell_type": "markdown",
   "id": "1e246979-f0b3-4642-ae20-d2963ee1a0dd",
   "metadata": {},
   "source": [
    "The lower and upper limits for the confidence interval for the effect of VITC is given by:\n",
    "\n",
    "$$0.5924 < \\gamma_{VITC} < 1.0359$$ "
   ]
  }
 ],
 "metadata": {
  "kernelspec": {
   "display_name": "Python 3 (ipykernel)",
   "language": "python",
   "name": "python3"
  },
  "language_info": {
   "codemirror_mode": {
    "name": "ipython",
    "version": 3
   },
   "file_extension": ".py",
   "mimetype": "text/x-python",
   "name": "python",
   "nbconvert_exporter": "python",
   "pygments_lexer": "ipython3",
   "version": "3.12.3"
  }
 },
 "nbformat": 4,
 "nbformat_minor": 5
}
