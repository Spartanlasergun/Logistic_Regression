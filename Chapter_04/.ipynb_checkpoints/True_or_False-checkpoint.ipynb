{
 "cells": [
  {
   "cell_type": "markdown",
   "id": "23a5d897-986e-4417-93bc-e5aeee0c9bb8",
   "metadata": {},
   "source": [
    "# True or False\n",
    "-----"
   ]
  },
  {
   "cell_type": "markdown",
   "id": "57fb07e5-054c-4345-b304-49a5d2db519b",
   "metadata": {},
   "source": [
    "Question 1: True\n",
    "\n",
    "Question 2: True\n",
    "\n",
    "Question 3: True\n",
    "\n",
    "Question 4: True"
   ]
  }
 ],
 "metadata": {
  "kernelspec": {
   "display_name": "Python 3 (ipykernel)",
   "language": "python",
   "name": "python3"
  },
  "language_info": {
   "codemirror_mode": {
    "name": "ipython",
    "version": 3
   },
   "file_extension": ".py",
   "mimetype": "text/x-python",
   "name": "python",
   "nbconvert_exporter": "python",
   "pygments_lexer": "ipython3",
   "version": "3.12.3"
  }
 },
 "nbformat": 4,
 "nbformat_minor": 5
}
