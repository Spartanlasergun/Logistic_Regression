{
 "cells": [
  {
   "cell_type": "markdown",
   "id": "ccc7a13b-f35f-43cb-9d4e-26a30ab8ad72",
   "metadata": {},
   "source": [
    "# Question 15\n",
    "-----"
   ]
  },
  {
   "cell_type": "markdown",
   "id": "9f70415f-5b2c-4ace-a4f5-b991084b7e70",
   "metadata": {},
   "source": [
    "There are no interaction terms, which mean that the effect of pills use in the odds ratio can be calculated with\n",
    "\n",
    "$$ e^{\\gamma_{pill}}$$\n",
    "\n",
    "which is equivalent to\n",
    "\n",
    "$$ e^{0.39447} = 1.48 $$"
   ]
  }
 ],
 "metadata": {
  "kernelspec": {
   "display_name": "Python 3 (ipykernel)",
   "language": "python",
   "name": "python3"
  },
  "language_info": {
   "codemirror_mode": {
    "name": "ipython",
    "version": 3
   },
   "file_extension": ".py",
   "mimetype": "text/x-python",
   "name": "python",
   "nbconvert_exporter": "python",
   "pygments_lexer": "ipython3",
   "version": "3.12.3"
  }
 },
 "nbformat": 4,
 "nbformat_minor": 5
}
