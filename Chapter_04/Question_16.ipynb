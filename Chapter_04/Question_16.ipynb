{
 "cells": [
  {
   "cell_type": "markdown",
   "id": "b329e4f6-c7a7-47da-8e92-fc16194ec085",
   "metadata": {},
   "source": [
    "# Question 16\n",
    "-----"
   ]
  },
  {
   "cell_type": "code",
   "execution_count": 1,
   "id": "1fd68d64-8329-4c07-9ea3-6189ec1c5ba4",
   "metadata": {},
   "outputs": [
    {
     "name": "stdout",
     "output_type": "stream",
     "text": [
      "effect = 0.78340145536302\n"
     ]
    }
   ],
   "source": [
    "import math\n",
    "\n",
    "print(f\"effect = {math.exp(-0.24411)}\")"
   ]
  },
  {
   "cell_type": "code",
   "execution_count": 2,
   "id": "2322793d-fa3c-4322-87ef-20eeebe09009",
   "metadata": {},
   "outputs": [
    {
     "name": "stdout",
     "output_type": "stream",
     "text": [
      "common ratio: 1.2764871074802144\n"
     ]
    }
   ],
   "source": [
    "print(f\"common ratio: {1/0.7834}\")"
   ]
  },
  {
   "cell_type": "markdown",
   "id": "54516272-0c7c-4342-9b30-63c0344b21f1",
   "metadata": {},
   "source": [
    "The effect $e^{-0.24411}$ tells us that a person with low vitamin C intake is 1.28 times more likely to get cervical cancer."
   ]
  }
 ],
 "metadata": {
  "kernelspec": {
   "display_name": "Python 3 (ipykernel)",
   "language": "python",
   "name": "python3"
  },
  "language_info": {
   "codemirror_mode": {
    "name": "ipython",
    "version": 3
   },
   "file_extension": ".py",
   "mimetype": "text/x-python",
   "name": "python",
   "nbconvert_exporter": "python",
   "pygments_lexer": "ipython3",
   "version": "3.12.3"
  }
 },
 "nbformat": 4,
 "nbformat_minor": 5
}
