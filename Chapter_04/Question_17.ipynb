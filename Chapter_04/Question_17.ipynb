{
 "cells": [
  {
   "cell_type": "markdown",
   "id": "24eb4464-25cc-4bf6-af64-542dddf1b5f8",
   "metadata": {},
   "source": [
    "# Question 17\n",
    "-----"
   ]
  },
  {
   "cell_type": "markdown",
   "id": "142190ae-6ea9-4825-97ed-1e65a658592c",
   "metadata": {},
   "source": [
    "The null hypothesis can be described as:\n",
    "* The total effect of of the VITC variable is equal to 1\n",
    "* The coefficient of VITC is equal to 0"
   ]
  }
 ],
 "metadata": {
  "kernelspec": {
   "display_name": "Python 3 (ipykernel)",
   "language": "python",
   "name": "python3"
  },
  "language_info": {
   "codemirror_mode": {
    "name": "ipython",
    "version": 3
   },
   "file_extension": ".py",
   "mimetype": "text/x-python",
   "name": "python",
   "nbconvert_exporter": "python",
   "pygments_lexer": "ipython3",
   "version": "3.12.3"
  }
 },
 "nbformat": 4,
 "nbformat_minor": 5
}
