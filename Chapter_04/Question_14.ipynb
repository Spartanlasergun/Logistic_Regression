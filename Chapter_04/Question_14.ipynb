{
 "cells": [
  {
   "cell_type": "markdown",
   "id": "db722b89-688d-46c7-8928-016f24aeece3",
   "metadata": {},
   "source": [
    "# Question 14\n",
    "-----"
   ]
  },
  {
   "cell_type": "markdown",
   "id": "2cf2f9b2-7082-4f4a-a2bd-d12d06eab9a9",
   "metadata": {},
   "source": [
    "Age and Socioeconomic factors are controls for matching, so they are not part of the calculations."
   ]
  }
 ],
 "metadata": {
  "kernelspec": {
   "display_name": "Python 3 (ipykernel)",
   "language": "python",
   "name": "python3"
  },
  "language_info": {
   "codemirror_mode": {
    "name": "ipython",
    "version": 3
   },
   "file_extension": ".py",
   "mimetype": "text/x-python",
   "name": "python",
   "nbconvert_exporter": "python",
   "pygments_lexer": "ipython3",
   "version": "3.12.3"
  }
 },
 "nbformat": 4,
 "nbformat_minor": 5
}
