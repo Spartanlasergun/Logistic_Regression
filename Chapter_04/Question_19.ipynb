{
 "cells": [
  {
   "cell_type": "markdown",
   "id": "40b14f01-0d04-40e3-9b81-e9789998a1d6",
   "metadata": {},
   "source": [
    "# Question 19\n",
    "-----"
   ]
  },
  {
   "cell_type": "code",
   "execution_count": 1,
   "id": "e79e6674-975f-4502-b40e-6470862cdd03",
   "metadata": {},
   "outputs": [
    {
     "name": "stdout",
     "output_type": "stream",
     "text": [
      "Z statistic = -1.7125719096393994\n"
     ]
    }
   ],
   "source": [
    "print(f\"Z statistic = {-0.24411/0.14254}\")"
   ]
  }
 ],
 "metadata": {
  "kernelspec": {
   "display_name": "Python 3 (ipykernel)",
   "language": "python",
   "name": "python3"
  },
  "language_info": {
   "codemirror_mode": {
    "name": "ipython",
    "version": 3
   },
   "file_extension": ".py",
   "mimetype": "text/x-python",
   "name": "python",
   "nbconvert_exporter": "python",
   "pygments_lexer": "ipython3",
   "version": "3.12.3"
  }
 },
 "nbformat": 4,
 "nbformat_minor": 5
}
