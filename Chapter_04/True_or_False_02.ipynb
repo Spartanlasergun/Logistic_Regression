{
 "cells": [
  {
   "cell_type": "markdown",
   "id": "34aa3b72-d6f6-4394-aaa2-205412b5a796",
   "metadata": {},
   "source": [
    "# True or False 2\n",
    "-----"
   ]
  },
  {
   "cell_type": "markdown",
   "id": "0bed4f8a-1eb7-4805-8ced-3d1487ba8692",
   "metadata": {},
   "source": [
    "Question 1: True\n",
    "\n",
    "Question 2: True\n",
    "\n",
    "Question 3: False\n",
    "\n",
    "Question 4: True"
   ]
  }
 ],
 "metadata": {
  "kernelspec": {
   "display_name": "Python 3 (ipykernel)",
   "language": "python",
   "name": "python3"
  },
  "language_info": {
   "codemirror_mode": {
    "name": "ipython",
    "version": 3
   },
   "file_extension": ".py",
   "mimetype": "text/x-python",
   "name": "python",
   "nbconvert_exporter": "python",
   "pygments_lexer": "ipython3",
   "version": "3.12.3"
  }
 },
 "nbformat": 4,
 "nbformat_minor": 5
}
