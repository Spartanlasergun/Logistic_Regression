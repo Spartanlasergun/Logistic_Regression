{
 "cells": [
  {
   "cell_type": "markdown",
   "id": "5c12a1a7-aaad-4521-8dd4-697e554663ad",
   "metadata": {},
   "source": [
    "# True or False (second set)\n",
    "-----"
   ]
  },
  {
   "cell_type": "markdown",
   "id": "2d99ef18-ae74-4dac-aa4f-99dec28e034e",
   "metadata": {},
   "source": [
    "Question 1: False\n",
    "\n",
    "Question 2: False\n",
    "\n",
    "Question 3: True\n",
    "\n",
    "Question 4: True\n",
    "\n",
    "Question 5: True\n",
    "\n",
    "Question 6: True\n",
    "\n",
    "Question 7: True\n",
    "\n",
    "Question 8: False\n",
    "\n",
    "Question 9: False\n",
    "\n",
    "Question 10: False"
   ]
  }
 ],
 "metadata": {
  "kernelspec": {
   "display_name": "Python 3 (ipykernel)",
   "language": "python",
   "name": "python3"
  },
  "language_info": {
   "codemirror_mode": {
    "name": "ipython",
    "version": 3
   },
   "file_extension": ".py",
   "mimetype": "text/x-python",
   "name": "python",
   "nbconvert_exporter": "python",
   "pygments_lexer": "ipython3",
   "version": "3.12.3"
  }
 },
 "nbformat": 4,
 "nbformat_minor": 5
}
