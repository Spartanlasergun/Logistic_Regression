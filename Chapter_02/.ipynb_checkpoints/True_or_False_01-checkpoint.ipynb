{
 "cells": [
  {
   "cell_type": "markdown",
   "id": "1511c808-cb71-490a-992e-2b374e69fc26",
   "metadata": {},
   "source": [
    "# True or False (first set)\n",
    "-----"
   ]
  },
  {
   "cell_type": "markdown",
   "id": "c55cb4cc-0fe9-4320-9cab-fbed795a31ab",
   "metadata": {},
   "source": [
    "Question 1: True\n",
    "\n",
    "Question 2: False\n",
    "\n",
    "Question 3: False\n",
    "\n",
    "Question 4: False\n",
    "\n",
    "Question 5: False\n",
    "\n",
    "Question 6: True\n",
    "\n",
    "Question 7: True\n",
    "\n",
    "Question 8: False\n",
    "\n",
    "Question 9: True\n",
    "\n",
    "Question 10: False\n",
    "\n",
    "Question 11: False\n",
    "\n",
    "Question 12: True\n",
    "\n",
    "Question 13: True\n",
    "\n",
    "Question 14: True\n",
    "\n",
    "Question 15: True\n",
    "\n",
    "Question 16: True\n",
    "\n",
    "Question 17: True\n",
    "\n",
    "Question 18: True\n",
    "\n",
    "Question 19: True\n",
    "\n",
    "Question 20: False"
   ]
  }
 ],
 "metadata": {
  "kernelspec": {
   "display_name": "Python 3 (ipykernel)",
   "language": "python",
   "name": "python3"
  },
  "language_info": {
   "codemirror_mode": {
    "name": "ipython",
    "version": 3
   },
   "file_extension": ".py",
   "mimetype": "text/x-python",
   "name": "python",
   "nbconvert_exporter": "python",
   "pygments_lexer": "ipython3",
   "version": "3.12.3"
  }
 },
 "nbformat": 4,
 "nbformat_minor": 5
}
