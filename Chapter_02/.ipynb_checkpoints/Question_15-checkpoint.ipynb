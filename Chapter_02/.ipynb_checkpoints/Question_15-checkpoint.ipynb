{
 "cells": [
  {
   "cell_type": "markdown",
   "id": "ad642c90-5b4c-4cf3-b79a-b016575ee435",
   "metadata": {},
   "source": [
    "# Question 15\n",
    "-----"
   ]
  },
  {
   "cell_type": "markdown",
   "id": "ddc6953a-f797-46d6-a517-3c19f532925f",
   "metadata": {},
   "source": [
    "$$ROR = e^{\\beta + \\delta(PAR)} $$"
   ]
  }
 ],
 "metadata": {
  "kernelspec": {
   "display_name": "Python 3 (ipykernel)",
   "language": "python",
   "name": "python3"
  },
  "language_info": {
   "codemirror_mode": {
    "name": "ipython",
    "version": 3
   },
   "file_extension": ".py",
   "mimetype": "text/x-python",
   "name": "python",
   "nbconvert_exporter": "python",
   "pygments_lexer": "ipython3",
   "version": "3.12.3"
  }
 },
 "nbformat": 4,
 "nbformat_minor": 5
}
