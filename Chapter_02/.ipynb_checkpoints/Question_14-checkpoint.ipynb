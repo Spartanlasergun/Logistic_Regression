{
 "cells": [
  {
   "cell_type": "markdown",
   "id": "ce3f6c0c-41c8-40e7-aff9-d70234c9a7dd",
   "metadata": {},
   "source": [
    "# Question 14\n",
    "-----"
   ]
  },
  {
   "cell_type": "markdown",
   "id": "9dd3d77f-1e03-49fd-83a0-200343c73509",
   "metadata": {},
   "source": [
    "$$R = \\frac{1}{1 + e^{-(\\alpha + \\beta + \\gamma_{1}V_{1} + \\gamma_{par} + \\delta)}} $$"
   ]
  }
 ],
 "metadata": {
  "kernelspec": {
   "display_name": "Python 3 (ipykernel)",
   "language": "python",
   "name": "python3"
  },
  "language_info": {
   "codemirror_mode": {
    "name": "ipython",
    "version": 3
   },
   "file_extension": ".py",
   "mimetype": "text/x-python",
   "name": "python",
   "nbconvert_exporter": "python",
   "pygments_lexer": "ipython3",
   "version": "3.12.3"
  }
 },
 "nbformat": 4,
 "nbformat_minor": 5
}
