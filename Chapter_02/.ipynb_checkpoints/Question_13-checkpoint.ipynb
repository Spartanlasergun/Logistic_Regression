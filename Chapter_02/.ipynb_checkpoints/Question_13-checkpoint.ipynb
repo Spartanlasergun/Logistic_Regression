{
 "cells": [
  {
   "cell_type": "markdown",
   "id": "a1535090-4dde-43e8-8ade-de7f114fe7d3",
   "metadata": {},
   "source": [
    "# Question 13\n",
    "-----"
   ]
  },
  {
   "cell_type": "markdown",
   "id": "6fd6ee53-6d2d-417e-a4c0-0d2562389039",
   "metadata": {},
   "source": [
    "$$logit \\ \\ P(X) = \\beta(CON) + \\displaystyle \\sum_{\\gamma_{i} = 1}^{199}\\gamma_{i}V_{i} + \\gamma_{par}(PAR) + \\delta(CON * PAR) $$"
   ]
  }
 ],
 "metadata": {
  "kernelspec": {
   "display_name": "Python 3 (ipykernel)",
   "language": "python",
   "name": "python3"
  },
  "language_info": {
   "codemirror_mode": {
    "name": "ipython",
    "version": 3
   },
   "file_extension": ".py",
   "mimetype": "text/x-python",
   "name": "python",
   "nbconvert_exporter": "python",
   "pygments_lexer": "ipython3",
   "version": "3.12.3"
  }
 },
 "nbformat": 4,
 "nbformat_minor": 5
}
