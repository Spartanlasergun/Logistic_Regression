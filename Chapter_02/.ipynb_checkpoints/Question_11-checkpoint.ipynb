{
 "cells": [
  {
   "cell_type": "markdown",
   "id": "d43fc165-bc06-40db-b24e-58347243d8a9",
   "metadata": {},
   "source": [
    "# Question 11\n",
    "-----"
   ]
  },
  {
   "cell_type": "markdown",
   "id": "c0b6a0bb-ae1c-4dd5-bfe4-824095fbc577",
   "metadata": {},
   "source": [
    "$$logit \\ \\ P(X) = \\alpha + \\beta(CON) + \\gamma_{1}(PAR) + \\gamma_{2}(NP) + \\gamma_{3}(ASCM) $$"
   ]
  }
 ],
 "metadata": {
  "kernelspec": {
   "display_name": "Python 3 (ipykernel)",
   "language": "python",
   "name": "python3"
  },
  "language_info": {
   "codemirror_mode": {
    "name": "ipython",
    "version": 3
   },
   "file_extension": ".py",
   "mimetype": "text/x-python",
   "name": "python",
   "nbconvert_exporter": "python",
   "pygments_lexer": "ipython3",
   "version": "3.12.3"
  }
 },
 "nbformat": 4,
 "nbformat_minor": 5
}
